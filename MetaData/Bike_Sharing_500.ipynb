{
 "cells": [
  {
   "cell_type": "code",
   "execution_count": 15,
   "metadata": {},
   "outputs": [],
   "source": [
    "import h2o\n",
    "from h2o.automl import H2OAutoML\n",
    "import random, os, sys\n",
    "from datetime import datetime\n",
    "import pandas as pd\n",
    "import logging\n",
    "import csv\n",
    "import optparse\n",
    "import time\n",
    "import json\n",
    "from distutils.util import strtobool\n",
    "import psutil"
   ]
  },
  {
   "cell_type": "code",
   "execution_count": 16,
   "metadata": {},
   "outputs": [],
   "source": [
    "data_path=None\n",
    "all_variables=None\n",
    "test_path=None\n",
    "# target='search_term'\n",
    "target=None\n",
    "nthreads=1 \n",
    "min_mem_size=6 \n",
    "run_time=500\n",
    "classification=False\n",
    "scale=False\n",
    "max_models=9    \n",
    "model_path=None\n",
    "balance_y=False \n",
    "balance_threshold=0.2\n",
    "name=None \n",
    "server_path=None  \n",
    "analysis=0"
   ]
  },
  {
   "cell_type": "code",
   "execution_count": 17,
   "metadata": {},
   "outputs": [
    {
     "name": "stdout",
     "output_type": "stream",
     "text": [
      "4\n"
     ]
    }
   ],
   "source": [
    "pct_memory=0.5\n",
    "virtual_memory=psutil.virtual_memory()\n",
    "min_mem_size=int(round(int(pct_memory*virtual_memory.available)/1073741824,0))\n",
    "print(min_mem_size)"
   ]
  },
  {
   "cell_type": "code",
   "execution_count": 18,
   "metadata": {},
   "outputs": [],
   "source": [
    "# Functions\n",
    "\n",
    "def alphabet(n):\n",
    "  alpha='0123456789abcdefghijklmnopqrstuvwxyzABCDEFGHIJKLMNOPQRSTUVWXYZ'    \n",
    "  str=''\n",
    "  r=len(alpha)-1   \n",
    "  while len(str)<n:\n",
    "    i=random.randint(0,r)\n",
    "    str+=alpha[i]   \n",
    "  return str\n",
    "  \n",
    "  \n",
    "def set_meta_data(analysis,run_id,server,data,test,model_path,target,run_time,classification,scale,model,balance,balance_threshold,name,path,nthreads,min_mem_size):\n",
    "  m_data={}\n",
    "  m_data['start_time'] = time.time()\n",
    "  m_data['target']=target\n",
    "  m_data['server_path']=server\n",
    "  m_data['data_path']=data \n",
    "  m_data['test_path']=test\n",
    "  m_data['max_models']=model\n",
    "  m_data['run_time']=run_time\n",
    "  m_data['run_id'] =run_id\n",
    "  m_data['scale']=scale\n",
    "  m_data['classification']=classification\n",
    "  m_data['scale']=False\n",
    "  m_data['model_path']=model_path\n",
    "  m_data['balance']=balance\n",
    "  m_data['balance_threshold']=balance_threshold\n",
    "  m_data['project'] =name\n",
    "  m_data['end_time'] = time.time()\n",
    "  m_data['execution_time'] = 0.0\n",
    "  m_data['run_path'] =path\n",
    "  m_data['nthreads'] = nthreads\n",
    "  m_data['min_mem_size'] = min_mem_size\n",
    "  m_data['analysis'] = analysis\n",
    "  return m_data\n",
    "\n",
    "\n",
    "def dict_to_json(dct,n):\n",
    "  j = json.dumps(dct, indent=4)\n",
    "  f = open(n, 'w')\n",
    "  print(j, file=f)\n",
    "  f.close()\n",
    "  \n",
    "  \n",
    "def stackedensemble(mod):\n",
    "    coef_norm=None\n",
    "    try:\n",
    "      metalearner = h2o.get_model(mod.metalearner()['name'])\n",
    "      coef_norm=metalearner.coef_norm()\n",
    "    except:\n",
    "      pass        \n",
    "    return coef_norm\n",
    "\n",
    "def stackedensemble_df(df):\n",
    "    bm_algo={ 'GBM': None,'GLM': None,'DRF': None,'XRT': None,'Dee': None}\n",
    "    for index, row in df.iterrows():\n",
    "      if len(row['model_id'])>3:\n",
    "        key=row['model_id'][0:3]\n",
    "        if key in bm_algo:\n",
    "          if bm_algo[key] is None:\n",
    "                bm_algo[key]=row['model_id']\n",
    "    bm=list(bm_algo.values()) \n",
    "    bm=list(filter(None.__ne__, bm))             \n",
    "    return bm\n",
    "\n",
    "def se_stats(modl):\n",
    "    d={}\n",
    "    d['algo']=modl.algo\n",
    "    d['model_id']=modl.model_id   \n",
    "    d['auc']=modl.auc()   \n",
    "    d['roc']=modl.roc()\n",
    "    d['mse']=modl.mse()   \n",
    "    d['null_degrees_of_freedom']=modl.null_degrees_of_freedom()\n",
    "    d['null_deviance']=modl.null_deviance()\n",
    "    d['residual_degrees_of_freedom']=modl.residual_degrees_of_freedom()   \n",
    "    d['residual_deviance']=modl.residual_deviance()\n",
    "    d['rmse']=modl.rmse()\n",
    "    return d\n",
    "\n",
    "def get_model_by_algo(algo,models_dict):\n",
    "    mod=None\n",
    "    mod_id=None    \n",
    "    for m in list(models_dict.keys()):\n",
    "        if m[0:3]==algo:\n",
    "            mod_id=m\n",
    "            mod=h2o.get_model(m)      \n",
    "    return mod,mod_id     \n",
    "    \n",
    "    \n",
    "def gbm_stats(modl):\n",
    "    d={}\n",
    "    d['algo']=modl.algo\n",
    "    d['model_id']=modl.model_id   \n",
    "    d['varimp']=modl.varimp()  \n",
    "    return d\n",
    "    \n",
    "    \n",
    "def dl_stats(modl):\n",
    "    d={}\n",
    "    d['algo']=modl.algo\n",
    "    d['model_id']=modl.model_id   \n",
    "    d['varimp']=modl.varimp()  \n",
    "    return d\n",
    "    \n",
    "    \n",
    "def drf_stats(modl):\n",
    "    d={}\n",
    "    d['algo']=modl.algo\n",
    "    d['model_id']=modl.model_id   \n",
    "    d['varimp']=modl.varimp()  \n",
    "    d['roc']=modl.roc()      \n",
    "    return d\n",
    "    \n",
    "def xrt_stats(modl):\n",
    "    d={}\n",
    "    d['algo']=modl.algo\n",
    "    d['model_id']=modl.model_id   \n",
    "    d['varimp']=modl.varimp()  \n",
    "    d['roc']=modl.roc()      \n",
    "    return d\n",
    "    \n",
    "    \n",
    "def glm_stats(modl):\n",
    "    d={}\n",
    "    d['algo']=modl.algo\n",
    "    d['model_id']=modl.model_id   \n",
    "    d['coef']=modl.coef()  \n",
    "    d['coef_norm']=modl.coef_norm()      \n",
    "    return d\n",
    "    \n",
    "def model_performance_stats(perf):\n",
    "    d={}\n",
    "    try:    \n",
    "      d['mse']=perf.mse()\n",
    "    except:\n",
    "      pass      \n",
    "    try:    \n",
    "      d['rmse']=perf.rmse() \n",
    "    except:\n",
    "      pass      \n",
    "    try:    \n",
    "      d['null_degrees_of_freedom']=perf.null_degrees_of_freedom()\n",
    "    except:\n",
    "      pass      \n",
    "    try:    \n",
    "      d['residual_degrees_of_freedom']=perf.residual_degrees_of_freedom()\n",
    "    except:\n",
    "      pass      \n",
    "    try:    \n",
    "      d['residual_deviance']=perf.residual_deviance() \n",
    "    except:\n",
    "      pass      \n",
    "    try:    \n",
    "      d['null_deviance']=perf.null_deviance() \n",
    "    except:\n",
    "      pass      \n",
    "    try:    \n",
    "      d['aic']=perf.aic() \n",
    "    except:\n",
    "      pass      \n",
    "    try:\n",
    "      d['logloss']=perf.logloss() \n",
    "    except:\n",
    "      pass    \n",
    "    try:\n",
    "      d['auc']=perf.auc()\n",
    "    except:\n",
    "      pass  \n",
    "    try:\n",
    "      d['gini']=perf.gini()\n",
    "    except:\n",
    "      pass    \n",
    "    return d\n",
    "    \n",
    "def impute_missing_values(df, x, scal=False):\n",
    "    # determine column types\n",
    "    ints, reals, enums = [], [], []\n",
    "    for key, val in df.types.items():\n",
    "        if key in x:\n",
    "            if val == 'enum':\n",
    "                enums.append(key)\n",
    "            elif val == 'int':\n",
    "                ints.append(key)            \n",
    "            else: \n",
    "                reals.append(key)    \n",
    "    _ = df[reals].impute(method='mean')\n",
    "    _ = df[ints].impute(method='median')\n",
    "    if scal:\n",
    "        df[reals] = df[reals].scale()\n",
    "        df[ints] = df[ints].scale()    \n",
    "    return\n",
    "\n",
    "\n",
    "def get_independent_variables(df, targ):\n",
    "    C = [name for name in df.columns if name != targ]\n",
    "    # determine column types\n",
    "    ints, reals, enums = [], [], []\n",
    "    for key, val in df.types.items():\n",
    "        if key in C:\n",
    "            if val == 'enum':\n",
    "                enums.append(key)\n",
    "            elif val == 'int':\n",
    "                ints.append(key)            \n",
    "            else: \n",
    "                reals.append(key)    \n",
    "    x=ints+enums+reals\n",
    "    return x\n",
    "    \n",
    "def get_all_variables_csv(i):\n",
    "    ivd={}\n",
    "    try:\n",
    "      iv = pd.read_csv(i,header=None)\n",
    "    except:\n",
    "      sys.exit(1)    \n",
    "    col=iv.values.tolist()[0]\n",
    "    dt=iv.values.tolist()[1]\n",
    "    i=0\n",
    "    for c in col:\n",
    "      ivd[c.strip()]=dt[i].strip()\n",
    "      i+=1        \n",
    "    return ivd\n",
    "    \n",
    "    \n",
    "\n",
    "def check_all_variables(df,dct,y=None):     \n",
    "    targ=list(dct.keys())     \n",
    "    for key, val in df.types.items():\n",
    "        if key in targ:\n",
    "          if dct[key] not in ['real','int','enum']:                      \n",
    "            targ.remove(key)  \n",
    "    for key, val in df.types.items():\n",
    "        if key in targ:            \n",
    "          if dct[key] != val:\n",
    "            print('convert ',key,' ',dct[key],' ',val)\n",
    "            if dct[key]=='enum':\n",
    "                try:\n",
    "                  df[key] = df[key].asfactor() \n",
    "                except:\n",
    "                  targ.remove(key)                 \n",
    "            if dct[key]=='int': \n",
    "                try:                \n",
    "                  df[key] = df[key].asnumeric() \n",
    "                except:\n",
    "                  targ.remove(key)                  \n",
    "            if dct[key]=='real':\n",
    "                try:                \n",
    "                  df[key] = df[key].asnumeric()  \n",
    "                except:\n",
    "                  targ.remove(key)                  \n",
    "    if y is None:\n",
    "      y=df.columns[-1] \n",
    "    if y in targ:\n",
    "      targ.remove(y)\n",
    "    else:\n",
    "      y=targ.pop()            \n",
    "    return targ    \n",
    "    \n",
    "def predictions(mod,data,run_id):\n",
    "    test = h2o.import_file(data)\n",
    "    mod_perf=mod_best.model_performance(test)\n",
    "              \n",
    "    stats_test={}\n",
    "    stats_test=model_performance_stats(mod_perf)\n",
    "\n",
    "    n=run_id+'_test_stats.json'\n",
    "    dict_to_json(stats_test,n) \n",
    "\n",
    "    try:    \n",
    "      cf=mod_perf.confusion_matrix(metrics=[\"f1\",\"f2\",\"f0point5\",\"accuracy\",\"precision\",\"recall\",\"specificity\",\"absolute_mcc\",\"min_per_class_accuracy\",\"mean_per_class_accuracy\"])\n",
    "      cf_df=cf[0].table.as_data_frame()\n",
    "      cf_df.to_csv(run_id+'_test_confusion_matrix.csv')\n",
    "    except:\n",
    "      pass\n",
    "\n",
    "    predictions = mod_best.predict(test)\n",
    "    predictions_df=test.cbind(predictions).as_data_frame() \n",
    "    predictions_df.to_csv(run_id+'_predictions.csv')\n",
    "    return\n",
    "\n",
    "def predictions_test(mod,test,run_id):\n",
    "    mod_perf=mod_best.model_performance(test)          \n",
    "    stats_test={}\n",
    "    stats_test=model_performance_stats(mod_perf)\n",
    "    n=run_id+'_test_stats.json'\n",
    "    dict_to_json(stats_test,n) \n",
    "    try:\n",
    "      cf=mod_perf.confusion_matrix()\n",
    "#      cf=mod_perf.confusion_matrix(metrics=[\"f1\",\"f2\",\"f0point5\",\"accuracy\",\"precision\",\"recall\",\"specificity\",\"absolute_mcc\",\"min_per_class_accuracy\",\"mean_per_class_accuracy\"])\n",
    "      cf_df=cf.table.as_data_frame()\n",
    "      cf_df.to_csv(run_id+'_test_confusion_matrix.csv')\n",
    "    except:\n",
    "      pass\n",
    "    predictions = mod_best.predict(test)    \n",
    "    predictions_df=test.cbind(predictions).as_data_frame() \n",
    "    predictions_df.to_csv(run_id+'_predictions.csv')\n",
    "    return predictions\n",
    "\n",
    "def check_X(x,df):\n",
    "    for name in x:\n",
    "        if name not in df.columns:\n",
    "          x.remove(name)  \n",
    "    return x    \n",
    "    \n",
    "    \n",
    "def get_stacked_ensemble(lst):\n",
    "    se=None\n",
    "    for model in model_set:\n",
    "      if 'BestOfFamily' in model:\n",
    "        se=model\n",
    "    if se is None:     \n",
    "      for model in model_set:\n",
    "        if 'AllModels'in model:\n",
    "          se=model           \n",
    "    return se       \n",
    "    \n",
    "def get_variables_types(df):\n",
    "    d={}\n",
    "    for key, val in df.types.items():\n",
    "        d[key]=val           \n",
    "    return d    \n",
    "    \n",
    "#  End Functions\n"
   ]
  },
  {
   "cell_type": "code",
   "execution_count": 19,
   "metadata": {},
   "outputs": [],
   "source": [
    "all_variables=None"
   ]
  },
  {
   "cell_type": "code",
   "execution_count": 20,
   "metadata": {},
   "outputs": [],
   "source": [
    "data_path='/Users/damik/Downloads/Machine Learning Repo/Final Project/INFO6105-FinalProject/hour.csv'\n"
   ]
  },
  {
   "cell_type": "code",
   "execution_count": 21,
   "metadata": {},
   "outputs": [
    {
     "name": "stdout",
     "output_type": "stream",
     "text": [
      "2b59q\n"
     ]
    }
   ],
   "source": [
    "run_id=alphabet(5)\n",
    "if server_path==None:\n",
    "  server_path=os.path.abspath(os.curdir)\n",
    "os.chdir(server_path) \n",
    "run_dir = os.path.join(server_path,run_id)\n",
    "os.mkdir(run_dir)\n",
    "os.chdir(run_dir)    \n",
    "\n",
    "# run_id to std out\n",
    "print (run_id)"
   ]
  },
  {
   "cell_type": "code",
   "execution_count": 22,
   "metadata": {},
   "outputs": [
    {
     "name": "stdout",
     "output_type": "stream",
     "text": [
      "C:\\Users\\damik\\Downloads\\Machine Learning Repo\\Final Project\\INFO6105-FinalProject\\MetaData\\2b59q\\logs   2b59q_autoh2o_log.zip\n"
     ]
    }
   ],
   "source": [
    "logfile=run_id+'_autoh2o_log.zip'\n",
    "logs_path=os.path.join(run_dir,'logs')\n",
    "print(logs_path,' ',logfile)"
   ]
  },
  {
   "cell_type": "code",
   "execution_count": 23,
   "metadata": {},
   "outputs": [
    {
     "name": "stdout",
     "output_type": "stream",
     "text": [
      "Checking whether there is an H2O instance running at http://localhost:25896 ..... not found.\n",
      "Attempting to start a local H2O server...\n",
      "; Java HotSpot(TM) 64-Bit Server VM (build 25.211-b12, mixed mode)\n",
      "  Starting server from C:\\Users\\damik\\Anaconda3\\lib\\site-packages\\h2o\\backend\\bin\\h2o.jar\n",
      "  Ice root: C:\\Users\\damik\\AppData\\Local\\Temp\\tmpsw6_iwu9\n",
      "  JVM stdout: C:\\Users\\damik\\AppData\\Local\\Temp\\tmpsw6_iwu9\\h2o_damik_started_from_python.out\n",
      "  JVM stderr: C:\\Users\\damik\\AppData\\Local\\Temp\\tmpsw6_iwu9\\h2o_damik_started_from_python.err\n",
      "  Server is running at http://127.0.0.1:25896\n",
      "Connecting to H2O server at http://127.0.0.1:25896 ... successful.\n"
     ]
    },
    {
     "data": {
      "text/html": [
       "<div style=\"overflow:auto\"><table style=\"width:50%\"><tr><td>H2O cluster uptime:</td>\n",
       "<td>01 secs</td></tr>\n",
       "<tr><td>H2O cluster timezone:</td>\n",
       "<td>America/New_York</td></tr>\n",
       "<tr><td>H2O data parsing timezone:</td>\n",
       "<td>UTC</td></tr>\n",
       "<tr><td>H2O cluster version:</td>\n",
       "<td>3.24.0.1</td></tr>\n",
       "<tr><td>H2O cluster version age:</td>\n",
       "<td>17 days </td></tr>\n",
       "<tr><td>H2O cluster name:</td>\n",
       "<td>H2O_from_python_damik_hr0rc9</td></tr>\n",
       "<tr><td>H2O cluster total nodes:</td>\n",
       "<td>1</td></tr>\n",
       "<tr><td>H2O cluster free memory:</td>\n",
       "<td>3.833 Gb</td></tr>\n",
       "<tr><td>H2O cluster total cores:</td>\n",
       "<td>8</td></tr>\n",
       "<tr><td>H2O cluster allowed cores:</td>\n",
       "<td>8</td></tr>\n",
       "<tr><td>H2O cluster status:</td>\n",
       "<td>accepting new members, healthy</td></tr>\n",
       "<tr><td>H2O connection url:</td>\n",
       "<td>http://127.0.0.1:25896</td></tr>\n",
       "<tr><td>H2O connection proxy:</td>\n",
       "<td>None</td></tr>\n",
       "<tr><td>H2O internal security:</td>\n",
       "<td>False</td></tr>\n",
       "<tr><td>H2O API Extensions:</td>\n",
       "<td>Amazon S3, Algos, AutoML, Core V3, Core V4</td></tr>\n",
       "<tr><td>Python version:</td>\n",
       "<td>3.7.1 final</td></tr></table></div>"
      ],
      "text/plain": [
       "--------------------------  ------------------------------------------\n",
       "H2O cluster uptime:         01 secs\n",
       "H2O cluster timezone:       America/New_York\n",
       "H2O data parsing timezone:  UTC\n",
       "H2O cluster version:        3.24.0.1\n",
       "H2O cluster version age:    17 days\n",
       "H2O cluster name:           H2O_from_python_damik_hr0rc9\n",
       "H2O cluster total nodes:    1\n",
       "H2O cluster free memory:    3.833 Gb\n",
       "H2O cluster total cores:    8\n",
       "H2O cluster allowed cores:  8\n",
       "H2O cluster status:         accepting new members, healthy\n",
       "H2O connection url:         http://127.0.0.1:25896\n",
       "H2O connection proxy:\n",
       "H2O internal security:      False\n",
       "H2O API Extensions:         Amazon S3, Algos, AutoML, Core V3, Core V4\n",
       "Python version:             3.7.1 final\n",
       "--------------------------  ------------------------------------------"
      ]
     },
     "metadata": {},
     "output_type": "display_data"
    }
   ],
   "source": [
    "# 65535 Highest port no\n",
    "port_no=random.randint(5555,55555)\n",
    "h2o.init(strict_version_check=False,min_mem_size_GB=min_mem_size,port=port_no)"
   ]
  },
  {
   "cell_type": "code",
   "execution_count": 24,
   "metadata": {},
   "outputs": [
    {
     "name": "stdout",
     "output_type": "stream",
     "text": [
      "{'start_time': 1555615683.23735, 'target': None, 'server_path': 'C:\\\\Users\\\\damik\\\\Downloads\\\\Machine Learning Repo\\\\Final Project\\\\INFO6105-FinalProject\\\\MetaData', 'data_path': '/Users/damik/Downloads/Machine Learning Repo/Final Project/INFO6105-FinalProject/hour.csv', 'test_path': None, 'max_models': 9, 'run_time': 500, 'run_id': '2b59q', 'scale': False, 'classification': False, 'model_path': None, 'balance': False, 'balance_threshold': 0.2, 'project': None, 'end_time': 1555615683.23735, 'execution_time': 0.0, 'run_path': 'C:\\\\Users\\\\damik\\\\Downloads\\\\Machine Learning Repo\\\\Final Project\\\\INFO6105-FinalProject\\\\MetaData\\\\2b59q', 'nthreads': 1, 'min_mem_size': 4, 'analysis': 0}\n"
     ]
    }
   ],
   "source": [
    "# meta data\n",
    "meta_data = set_meta_data(analysis, run_id,server_path,data_path,test_path,model_path,target,run_time,classification,scale,max_models,balance_y,balance_threshold,name,run_dir,nthreads,min_mem_size)\n",
    "print(meta_data)\n"
   ]
  },
  {
   "cell_type": "code",
   "execution_count": 25,
   "metadata": {},
   "outputs": [
    {
     "name": "stdout",
     "output_type": "stream",
     "text": [
      "/Users/damik/Downloads/Machine Learning Repo/Final Project/INFO6105-FinalProject/hour.csv\n"
     ]
    }
   ],
   "source": [
    "print(data_path)"
   ]
  },
  {
   "cell_type": "code",
   "execution_count": 26,
   "metadata": {},
   "outputs": [
    {
     "name": "stdout",
     "output_type": "stream",
     "text": [
      "Parse progress: |█████████████████████████████████████████████████████████| 100%\n"
     ]
    }
   ],
   "source": [
    "df = h2o.import_file(data_path)"
   ]
  },
  {
   "cell_type": "code",
   "execution_count": 27,
   "metadata": {},
   "outputs": [
    {
     "data": {
      "text/html": [
       "<table>\n",
       "<thead>\n",
       "<tr><th style=\"text-align: right;\">  instant</th><th>dteday             </th><th style=\"text-align: right;\">  season</th><th style=\"text-align: right;\">  yr</th><th style=\"text-align: right;\">  mnth</th><th style=\"text-align: right;\">  hr</th><th style=\"text-align: right;\">  holiday</th><th style=\"text-align: right;\">  weekday</th><th style=\"text-align: right;\">  workingday</th><th style=\"text-align: right;\">  weathersit</th><th style=\"text-align: right;\">  temp</th><th style=\"text-align: right;\">  atemp</th><th style=\"text-align: right;\">  hum</th><th style=\"text-align: right;\">  windspeed</th><th style=\"text-align: right;\">  casual</th><th style=\"text-align: right;\">  registered</th><th style=\"text-align: right;\">  cnt</th></tr>\n",
       "</thead>\n",
       "<tbody>\n",
       "<tr><td style=\"text-align: right;\">        1</td><td>2011-01-01 00:00:00</td><td style=\"text-align: right;\">       1</td><td style=\"text-align: right;\">   0</td><td style=\"text-align: right;\">     1</td><td style=\"text-align: right;\">   0</td><td style=\"text-align: right;\">        0</td><td style=\"text-align: right;\">        6</td><td style=\"text-align: right;\">           0</td><td style=\"text-align: right;\">           1</td><td style=\"text-align: right;\">  0.24</td><td style=\"text-align: right;\"> 0.2879</td><td style=\"text-align: right;\"> 0.81</td><td style=\"text-align: right;\">     0     </td><td style=\"text-align: right;\">       3</td><td style=\"text-align: right;\">          13</td><td style=\"text-align: right;\">   16</td></tr>\n",
       "<tr><td style=\"text-align: right;\">        2</td><td>2011-01-01 00:00:00</td><td style=\"text-align: right;\">       1</td><td style=\"text-align: right;\">   0</td><td style=\"text-align: right;\">     1</td><td style=\"text-align: right;\">   1</td><td style=\"text-align: right;\">        0</td><td style=\"text-align: right;\">        6</td><td style=\"text-align: right;\">           0</td><td style=\"text-align: right;\">           1</td><td style=\"text-align: right;\">  0.22</td><td style=\"text-align: right;\"> 0.2727</td><td style=\"text-align: right;\"> 0.8 </td><td style=\"text-align: right;\">     0     </td><td style=\"text-align: right;\">       8</td><td style=\"text-align: right;\">          32</td><td style=\"text-align: right;\">   40</td></tr>\n",
       "<tr><td style=\"text-align: right;\">        3</td><td>2011-01-01 00:00:00</td><td style=\"text-align: right;\">       1</td><td style=\"text-align: right;\">   0</td><td style=\"text-align: right;\">     1</td><td style=\"text-align: right;\">   2</td><td style=\"text-align: right;\">        0</td><td style=\"text-align: right;\">        6</td><td style=\"text-align: right;\">           0</td><td style=\"text-align: right;\">           1</td><td style=\"text-align: right;\">  0.22</td><td style=\"text-align: right;\"> 0.2727</td><td style=\"text-align: right;\"> 0.8 </td><td style=\"text-align: right;\">     0     </td><td style=\"text-align: right;\">       5</td><td style=\"text-align: right;\">          27</td><td style=\"text-align: right;\">   32</td></tr>\n",
       "<tr><td style=\"text-align: right;\">        4</td><td>2011-01-01 00:00:00</td><td style=\"text-align: right;\">       1</td><td style=\"text-align: right;\">   0</td><td style=\"text-align: right;\">     1</td><td style=\"text-align: right;\">   3</td><td style=\"text-align: right;\">        0</td><td style=\"text-align: right;\">        6</td><td style=\"text-align: right;\">           0</td><td style=\"text-align: right;\">           1</td><td style=\"text-align: right;\">  0.24</td><td style=\"text-align: right;\"> 0.2879</td><td style=\"text-align: right;\"> 0.75</td><td style=\"text-align: right;\">     0     </td><td style=\"text-align: right;\">       3</td><td style=\"text-align: right;\">          10</td><td style=\"text-align: right;\">   13</td></tr>\n",
       "<tr><td style=\"text-align: right;\">        5</td><td>2011-01-01 00:00:00</td><td style=\"text-align: right;\">       1</td><td style=\"text-align: right;\">   0</td><td style=\"text-align: right;\">     1</td><td style=\"text-align: right;\">   4</td><td style=\"text-align: right;\">        0</td><td style=\"text-align: right;\">        6</td><td style=\"text-align: right;\">           0</td><td style=\"text-align: right;\">           1</td><td style=\"text-align: right;\">  0.24</td><td style=\"text-align: right;\"> 0.2879</td><td style=\"text-align: right;\"> 0.75</td><td style=\"text-align: right;\">     0     </td><td style=\"text-align: right;\">       0</td><td style=\"text-align: right;\">           1</td><td style=\"text-align: right;\">    1</td></tr>\n",
       "<tr><td style=\"text-align: right;\">        6</td><td>2011-01-01 00:00:00</td><td style=\"text-align: right;\">       1</td><td style=\"text-align: right;\">   0</td><td style=\"text-align: right;\">     1</td><td style=\"text-align: right;\">   5</td><td style=\"text-align: right;\">        0</td><td style=\"text-align: right;\">        6</td><td style=\"text-align: right;\">           0</td><td style=\"text-align: right;\">           2</td><td style=\"text-align: right;\">  0.24</td><td style=\"text-align: right;\"> 0.2576</td><td style=\"text-align: right;\"> 0.75</td><td style=\"text-align: right;\">     0.0896</td><td style=\"text-align: right;\">       0</td><td style=\"text-align: right;\">           1</td><td style=\"text-align: right;\">    1</td></tr>\n",
       "<tr><td style=\"text-align: right;\">        7</td><td>2011-01-01 00:00:00</td><td style=\"text-align: right;\">       1</td><td style=\"text-align: right;\">   0</td><td style=\"text-align: right;\">     1</td><td style=\"text-align: right;\">   6</td><td style=\"text-align: right;\">        0</td><td style=\"text-align: right;\">        6</td><td style=\"text-align: right;\">           0</td><td style=\"text-align: right;\">           1</td><td style=\"text-align: right;\">  0.22</td><td style=\"text-align: right;\"> 0.2727</td><td style=\"text-align: right;\"> 0.8 </td><td style=\"text-align: right;\">     0     </td><td style=\"text-align: right;\">       2</td><td style=\"text-align: right;\">           0</td><td style=\"text-align: right;\">    2</td></tr>\n",
       "<tr><td style=\"text-align: right;\">        8</td><td>2011-01-01 00:00:00</td><td style=\"text-align: right;\">       1</td><td style=\"text-align: right;\">   0</td><td style=\"text-align: right;\">     1</td><td style=\"text-align: right;\">   7</td><td style=\"text-align: right;\">        0</td><td style=\"text-align: right;\">        6</td><td style=\"text-align: right;\">           0</td><td style=\"text-align: right;\">           1</td><td style=\"text-align: right;\">  0.2 </td><td style=\"text-align: right;\"> 0.2576</td><td style=\"text-align: right;\"> 0.86</td><td style=\"text-align: right;\">     0     </td><td style=\"text-align: right;\">       1</td><td style=\"text-align: right;\">           2</td><td style=\"text-align: right;\">    3</td></tr>\n",
       "<tr><td style=\"text-align: right;\">        9</td><td>2011-01-01 00:00:00</td><td style=\"text-align: right;\">       1</td><td style=\"text-align: right;\">   0</td><td style=\"text-align: right;\">     1</td><td style=\"text-align: right;\">   8</td><td style=\"text-align: right;\">        0</td><td style=\"text-align: right;\">        6</td><td style=\"text-align: right;\">           0</td><td style=\"text-align: right;\">           1</td><td style=\"text-align: right;\">  0.24</td><td style=\"text-align: right;\"> 0.2879</td><td style=\"text-align: right;\"> 0.75</td><td style=\"text-align: right;\">     0     </td><td style=\"text-align: right;\">       1</td><td style=\"text-align: right;\">           7</td><td style=\"text-align: right;\">    8</td></tr>\n",
       "<tr><td style=\"text-align: right;\">       10</td><td>2011-01-01 00:00:00</td><td style=\"text-align: right;\">       1</td><td style=\"text-align: right;\">   0</td><td style=\"text-align: right;\">     1</td><td style=\"text-align: right;\">   9</td><td style=\"text-align: right;\">        0</td><td style=\"text-align: right;\">        6</td><td style=\"text-align: right;\">           0</td><td style=\"text-align: right;\">           1</td><td style=\"text-align: right;\">  0.32</td><td style=\"text-align: right;\"> 0.3485</td><td style=\"text-align: right;\"> 0.76</td><td style=\"text-align: right;\">     0     </td><td style=\"text-align: right;\">       8</td><td style=\"text-align: right;\">           6</td><td style=\"text-align: right;\">   14</td></tr>\n",
       "</tbody>\n",
       "</table>"
      ]
     },
     "metadata": {},
     "output_type": "display_data"
    },
    {
     "data": {
      "text/plain": []
     },
     "execution_count": 27,
     "metadata": {},
     "output_type": "execute_result"
    }
   ],
   "source": [
    "df.head()"
   ]
  },
  {
   "cell_type": "code",
   "execution_count": 28,
   "metadata": {},
   "outputs": [
    {
     "name": "stdout",
     "output_type": "stream",
     "text": [
      "Rows:17379\n",
      "Cols:17\n",
      "\n",
      "\n"
     ]
    },
    {
     "data": {
      "text/html": [
       "<table>\n",
       "<thead>\n",
       "<tr><th>       </th><th>instant          </th><th>dteday             </th><th>season            </th><th>yr                </th><th>mnth             </th><th>hr                </th><th>holiday             </th><th>weekday           </th><th>workingday        </th><th>weathersit        </th><th>temp              </th><th>atemp             </th><th>hum                </th><th>windspeed         </th><th>casual           </th><th>registered        </th><th>cnt               </th></tr>\n",
       "</thead>\n",
       "<tbody>\n",
       "<tr><td>type   </td><td>int              </td><td>time               </td><td>int               </td><td>int               </td><td>int              </td><td>int               </td><td>int                 </td><td>int               </td><td>int               </td><td>int               </td><td>real              </td><td>real              </td><td>real               </td><td>real              </td><td>int              </td><td>int               </td><td>int               </td></tr>\n",
       "<tr><td>mins   </td><td>1.0              </td><td>1293840000000.0    </td><td>1.0               </td><td>0.0               </td><td>1.0              </td><td>0.0               </td><td>0.0                 </td><td>0.0               </td><td>0.0               </td><td>1.0               </td><td>0.02              </td><td>0.0               </td><td>0.0                </td><td>0.0               </td><td>0.0              </td><td>0.0               </td><td>1.0               </td></tr>\n",
       "<tr><td>mean   </td><td>8690.0           </td><td>1325477314552.046  </td><td>2.5016399102364923</td><td>0.5025605615973301</td><td>6.537775476149376</td><td>11.546751826917545</td><td>0.028770355026181024</td><td>3.003682605443351 </td><td>0.6827205247712756</td><td>1.4252833879970077</td><td>0.4969871684216583</td><td>0.4757751021347602</td><td>0.6272288394038783 </td><td>0.1900976063064618</td><td>35.67621842453534</td><td>153.78686920996606</td><td>189.46308763450145</td></tr>\n",
       "<tr><td>maxs   </td><td>17379.0          </td><td>1356912000000.0    </td><td>4.0               </td><td>1.0               </td><td>12.0             </td><td>23.0              </td><td>1.0                 </td><td>6.0               </td><td>1.0               </td><td>4.0               </td><td>1.0               </td><td>1.0               </td><td>1.0                </td><td>0.8507            </td><td>367.0            </td><td>886.0             </td><td>977.0             </td></tr>\n",
       "<tr><td>sigma  </td><td>5017.029499614288</td><td>18150225217.779423 </td><td>1.1069181394480763</td><td>0.5000078290910197</td><td>3.438775713750165</td><td>6.914405095264493 </td><td>0.16716527638437123 </td><td>2.0057714561109883</td><td>0.4654306335238829</td><td>0.6393568777542534</td><td>0.1925561212497219</td><td>0.1718502156353594</td><td>0.19292983406291508</td><td>0.1223402285727905</td><td>49.30503038705308</td><td>151.35728591258314</td><td>181.38759909186476</td></tr>\n",
       "<tr><td>zeros  </td><td>0                </td><td>0                  </td><td>0                 </td><td>8645              </td><td>0                </td><td>726               </td><td>16879               </td><td>2502              </td><td>5514              </td><td>0                 </td><td>0                 </td><td>2                 </td><td>22                 </td><td>2180              </td><td>1581             </td><td>24                </td><td>0                 </td></tr>\n",
       "<tr><td>missing</td><td>0                </td><td>0                  </td><td>0                 </td><td>0                 </td><td>0                </td><td>0                 </td><td>0                   </td><td>0                 </td><td>0                 </td><td>0                 </td><td>0                 </td><td>0                 </td><td>0                  </td><td>0                 </td><td>0                </td><td>0                 </td><td>0                 </td></tr>\n",
       "<tr><td>0      </td><td>1.0              </td><td>2011-01-01 00:00:00</td><td>1.0               </td><td>0.0               </td><td>1.0              </td><td>0.0               </td><td>0.0                 </td><td>6.0               </td><td>0.0               </td><td>1.0               </td><td>0.24              </td><td>0.2879            </td><td>0.81               </td><td>0.0               </td><td>3.0              </td><td>13.0              </td><td>16.0              </td></tr>\n",
       "<tr><td>1      </td><td>2.0              </td><td>2011-01-01 00:00:00</td><td>1.0               </td><td>0.0               </td><td>1.0              </td><td>1.0               </td><td>0.0                 </td><td>6.0               </td><td>0.0               </td><td>1.0               </td><td>0.22              </td><td>0.2727            </td><td>0.8                </td><td>0.0               </td><td>8.0              </td><td>32.0              </td><td>40.0              </td></tr>\n",
       "<tr><td>2      </td><td>3.0              </td><td>2011-01-01 00:00:00</td><td>1.0               </td><td>0.0               </td><td>1.0              </td><td>2.0               </td><td>0.0                 </td><td>6.0               </td><td>0.0               </td><td>1.0               </td><td>0.22              </td><td>0.2727            </td><td>0.8                </td><td>0.0               </td><td>5.0              </td><td>27.0              </td><td>32.0              </td></tr>\n",
       "<tr><td>3      </td><td>4.0              </td><td>2011-01-01 00:00:00</td><td>1.0               </td><td>0.0               </td><td>1.0              </td><td>3.0               </td><td>0.0                 </td><td>6.0               </td><td>0.0               </td><td>1.0               </td><td>0.24              </td><td>0.2879            </td><td>0.75               </td><td>0.0               </td><td>3.0              </td><td>10.0              </td><td>13.0              </td></tr>\n",
       "<tr><td>4      </td><td>5.0              </td><td>2011-01-01 00:00:00</td><td>1.0               </td><td>0.0               </td><td>1.0              </td><td>4.0               </td><td>0.0                 </td><td>6.0               </td><td>0.0               </td><td>1.0               </td><td>0.24              </td><td>0.2879            </td><td>0.75               </td><td>0.0               </td><td>0.0              </td><td>1.0               </td><td>1.0               </td></tr>\n",
       "<tr><td>5      </td><td>6.0              </td><td>2011-01-01 00:00:00</td><td>1.0               </td><td>0.0               </td><td>1.0              </td><td>5.0               </td><td>0.0                 </td><td>6.0               </td><td>0.0               </td><td>2.0               </td><td>0.24              </td><td>0.2576            </td><td>0.75               </td><td>0.0896            </td><td>0.0              </td><td>1.0               </td><td>1.0               </td></tr>\n",
       "<tr><td>6      </td><td>7.0              </td><td>2011-01-01 00:00:00</td><td>1.0               </td><td>0.0               </td><td>1.0              </td><td>6.0               </td><td>0.0                 </td><td>6.0               </td><td>0.0               </td><td>1.0               </td><td>0.22              </td><td>0.2727            </td><td>0.8                </td><td>0.0               </td><td>2.0              </td><td>0.0               </td><td>2.0               </td></tr>\n",
       "<tr><td>7      </td><td>8.0              </td><td>2011-01-01 00:00:00</td><td>1.0               </td><td>0.0               </td><td>1.0              </td><td>7.0               </td><td>0.0                 </td><td>6.0               </td><td>0.0               </td><td>1.0               </td><td>0.2               </td><td>0.2576            </td><td>0.86               </td><td>0.0               </td><td>1.0              </td><td>2.0               </td><td>3.0               </td></tr>\n",
       "<tr><td>8      </td><td>9.0              </td><td>2011-01-01 00:00:00</td><td>1.0               </td><td>0.0               </td><td>1.0              </td><td>8.0               </td><td>0.0                 </td><td>6.0               </td><td>0.0               </td><td>1.0               </td><td>0.24              </td><td>0.2879            </td><td>0.75               </td><td>0.0               </td><td>1.0              </td><td>7.0               </td><td>8.0               </td></tr>\n",
       "<tr><td>9      </td><td>10.0             </td><td>2011-01-01 00:00:00</td><td>1.0               </td><td>0.0               </td><td>1.0              </td><td>9.0               </td><td>0.0                 </td><td>6.0               </td><td>0.0               </td><td>1.0               </td><td>0.32              </td><td>0.3485            </td><td>0.76               </td><td>0.0               </td><td>8.0              </td><td>6.0               </td><td>14.0              </td></tr>\n",
       "</tbody>\n",
       "</table>"
      ]
     },
     "metadata": {},
     "output_type": "display_data"
    }
   ],
   "source": [
    "df.describe()"
   ]
  },
  {
   "cell_type": "code",
   "execution_count": 29,
   "metadata": {},
   "outputs": [
    {
     "data": {
      "text/plain": [
       "\"\\nimport sys\\nsys.stdout = open('describe.txt', 'w')\\nprint ('test')\\n\""
      ]
     },
     "execution_count": 29,
     "metadata": {},
     "output_type": "execute_result"
    }
   ],
   "source": [
    "'''\n",
    "import sys\n",
    "sys.stdout = open('describe.txt', 'w')\n",
    "print ('test')\n",
    "'''"
   ]
  },
  {
   "cell_type": "code",
   "execution_count": 30,
   "metadata": {},
   "outputs": [],
   "source": [
    "# dependent variable\n",
    "# assign target and inputs for classification or regression\n",
    "if target==None:\n",
    "  target=df.columns[5]   \n",
    "y = target"
   ]
  },
  {
   "cell_type": "code",
   "execution_count": 31,
   "metadata": {},
   "outputs": [
    {
     "name": "stdout",
     "output_type": "stream",
     "text": [
      "hr\n"
     ]
    }
   ],
   "source": [
    "print(y)"
   ]
  },
  {
   "cell_type": "code",
   "execution_count": 32,
   "metadata": {},
   "outputs": [
    {
     "name": "stdout",
     "output_type": "stream",
     "text": [
      "None\n"
     ]
    }
   ],
   "source": [
    "print(all_variables)"
   ]
  },
  {
   "cell_type": "code",
   "execution_count": 33,
   "metadata": {},
   "outputs": [],
   "source": [
    "if all_variables is not None:\n",
    "  ivd=get_all_variables_csv(all_variables)\n",
    "  print(ivd)    \n",
    "  X=check_all_variables(df,ivd,y)\n",
    "  print(X)"
   ]
  },
  {
   "cell_type": "code",
   "execution_count": 34,
   "metadata": {},
   "outputs": [],
   "source": [
    "# independent variables\n",
    "\n",
    "X = []  \n",
    "if all_variables is None:\n",
    "  X=get_independent_variables(df, target)  \n",
    "else: \n",
    "  ivd=get_all_variables_csv(all_variables)    \n",
    "  X=check_all_variables(df, ivd)\n",
    "\n",
    "\n",
    "X=check_X(X,df)\n",
    "\n",
    "\n",
    "# Add independent variables\n",
    "\n",
    "meta_data['X']=X  \n",
    "\n",
    "\n",
    "# impute missing values\n",
    "\n",
    "_=impute_missing_values(df,X, scale)"
   ]
  },
  {
   "cell_type": "code",
   "execution_count": 35,
   "metadata": {},
   "outputs": [],
   "source": [
    "if analysis == 3:\n",
    "  classification=False\n",
    "elif analysis == 2:\n",
    "  classification=True\n",
    "elif analysis == 1:\n",
    "  classification=True"
   ]
  },
  {
   "cell_type": "code",
   "execution_count": 36,
   "metadata": {},
   "outputs": [],
   "source": [
    "# Force target to be factors\n",
    "# Only 'int' or 'string' are allowed for asfactor(), got Target (Total orders):real \n",
    "\n",
    "if classification:\n",
    "    df[y] = df[y].asfactor()"
   ]
  },
  {
   "cell_type": "code",
   "execution_count": 37,
   "metadata": {},
   "outputs": [],
   "source": [
    "def check_y(y,df):\n",
    "  ok=False\n",
    "  C = [name for name in df.columns if name == y]\n",
    "  for key, val in df.types.items():\n",
    "    if key in C:\n",
    "      if val in ['real','int','enum']:        \n",
    "        ok=True         \n",
    "  return ok"
   ]
  },
  {
   "cell_type": "code",
   "execution_count": 38,
   "metadata": {},
   "outputs": [],
   "source": [
    "ok=check_y(y,df)\n",
    "if not ok:\n",
    "    print(ok)"
   ]
  },
  {
   "cell_type": "code",
   "execution_count": 39,
   "metadata": {},
   "outputs": [
    {
     "name": "stdout",
     "output_type": "stream",
     "text": [
      "True\n"
     ]
    }
   ],
   "source": [
    "print(ok)"
   ]
  },
  {
   "cell_type": "code",
   "execution_count": 40,
   "metadata": {},
   "outputs": [
    {
     "name": "stdout",
     "output_type": "stream",
     "text": [
      "[]\n"
     ]
    }
   ],
   "source": [
    "classification=True\n",
    "if classification:\n",
    "    print(df[y].levels())"
   ]
  },
  {
   "cell_type": "code",
   "execution_count": 41,
   "metadata": {},
   "outputs": [
    {
     "name": "stdout",
     "output_type": "stream",
     "text": [
      "[]\n"
     ]
    }
   ],
   "source": [
    "print(df[y].levels())"
   ]
  },
  {
   "cell_type": "code",
   "execution_count": 42,
   "metadata": {},
   "outputs": [
    {
     "data": {
      "text/plain": [
       "{'instant': 'int',\n",
       " 'dteday': 'time',\n",
       " 'season': 'int',\n",
       " 'yr': 'int',\n",
       " 'mnth': 'int',\n",
       " 'hr': 'int',\n",
       " 'holiday': 'int',\n",
       " 'weekday': 'int',\n",
       " 'workingday': 'int',\n",
       " 'weathersit': 'int',\n",
       " 'temp': 'real',\n",
       " 'atemp': 'real',\n",
       " 'hum': 'real',\n",
       " 'windspeed': 'real',\n",
       " 'casual': 'int',\n",
       " 'registered': 'int',\n",
       " 'cnt': 'int'}"
      ]
     },
     "execution_count": 42,
     "metadata": {},
     "output_type": "execute_result"
    }
   ],
   "source": [
    "allV=get_variables_types(df)\n",
    "allV"
   ]
  },
  {
   "cell_type": "code",
   "execution_count": 43,
   "metadata": {},
   "outputs": [],
   "source": [
    "meta_data['variables']=allV"
   ]
  },
  {
   "cell_type": "code",
   "execution_count": 44,
   "metadata": {},
   "outputs": [],
   "source": [
    "# Set up AutoML\n",
    "\n",
    "aml = H2OAutoML(max_runtime_secs=run_time,project_name = name)"
   ]
  },
  {
   "cell_type": "code",
   "execution_count": 45,
   "metadata": {},
   "outputs": [],
   "source": [
    "model_start_time = time.time()"
   ]
  },
  {
   "cell_type": "code",
   "execution_count": 46,
   "metadata": {},
   "outputs": [
    {
     "name": "stdout",
     "output_type": "stream",
     "text": [
      "AutoML progress: |████████████████████████████████████████████████████████| 100%\n"
     ]
    }
   ],
   "source": [
    "aml.train(x=X,y=y,training_frame=df)"
   ]
  },
  {
   "cell_type": "code",
   "execution_count": 47,
   "metadata": {},
   "outputs": [],
   "source": [
    "meta_data['model_execution_time'] = time.time() - model_start_time"
   ]
  },
  {
   "cell_type": "code",
   "execution_count": 48,
   "metadata": {},
   "outputs": [],
   "source": [
    "# get leaderboard\n",
    "aml_leaderboard_df=aml.leaderboard.as_data_frame()"
   ]
  },
  {
   "cell_type": "code",
   "execution_count": 49,
   "metadata": {},
   "outputs": [
    {
     "data": {
      "text/html": [
       "<div>\n",
       "<style scoped>\n",
       "    .dataframe tbody tr th:only-of-type {\n",
       "        vertical-align: middle;\n",
       "    }\n",
       "\n",
       "    .dataframe tbody tr th {\n",
       "        vertical-align: top;\n",
       "    }\n",
       "\n",
       "    .dataframe thead th {\n",
       "        text-align: right;\n",
       "    }\n",
       "</style>\n",
       "<table border=\"1\" class=\"dataframe\">\n",
       "  <thead>\n",
       "    <tr style=\"text-align: right;\">\n",
       "      <th></th>\n",
       "      <th>model_id</th>\n",
       "      <th>mean_residual_deviance</th>\n",
       "      <th>rmse</th>\n",
       "      <th>mse</th>\n",
       "      <th>mae</th>\n",
       "      <th>rmsle</th>\n",
       "    </tr>\n",
       "  </thead>\n",
       "  <tbody>\n",
       "    <tr>\n",
       "      <th>0</th>\n",
       "      <td>StackedEnsemble_AllModels_AutoML_20190418_153450</td>\n",
       "      <td>16.575708</td>\n",
       "      <td>4.071328</td>\n",
       "      <td>16.575708</td>\n",
       "      <td>2.871407</td>\n",
       "      <td>NaN</td>\n",
       "    </tr>\n",
       "    <tr>\n",
       "      <th>1</th>\n",
       "      <td>StackedEnsemble_BestOfFamily_AutoML_20190418_1...</td>\n",
       "      <td>16.867162</td>\n",
       "      <td>4.106965</td>\n",
       "      <td>16.867162</td>\n",
       "      <td>2.911271</td>\n",
       "      <td>NaN</td>\n",
       "    </tr>\n",
       "    <tr>\n",
       "      <th>2</th>\n",
       "      <td>GBM_4_AutoML_20190418_153450</td>\n",
       "      <td>17.321940</td>\n",
       "      <td>4.161963</td>\n",
       "      <td>17.321940</td>\n",
       "      <td>2.944226</td>\n",
       "      <td>NaN</td>\n",
       "    </tr>\n",
       "    <tr>\n",
       "      <th>3</th>\n",
       "      <td>GBM_grid_1_AutoML_20190418_153450_model_11</td>\n",
       "      <td>17.779478</td>\n",
       "      <td>4.216572</td>\n",
       "      <td>17.779478</td>\n",
       "      <td>2.956645</td>\n",
       "      <td>NaN</td>\n",
       "    </tr>\n",
       "    <tr>\n",
       "      <th>4</th>\n",
       "      <td>XRT_1_AutoML_20190418_153450</td>\n",
       "      <td>17.832009</td>\n",
       "      <td>4.222796</td>\n",
       "      <td>17.832009</td>\n",
       "      <td>3.045021</td>\n",
       "      <td>0.529019</td>\n",
       "    </tr>\n",
       "    <tr>\n",
       "      <th>5</th>\n",
       "      <td>GBM_grid_1_AutoML_20190418_153450_model_8</td>\n",
       "      <td>17.892236</td>\n",
       "      <td>4.229922</td>\n",
       "      <td>17.892236</td>\n",
       "      <td>3.035620</td>\n",
       "      <td>NaN</td>\n",
       "    </tr>\n",
       "    <tr>\n",
       "      <th>6</th>\n",
       "      <td>GBM_3_AutoML_20190418_153450</td>\n",
       "      <td>18.066172</td>\n",
       "      <td>4.250432</td>\n",
       "      <td>18.066172</td>\n",
       "      <td>3.061447</td>\n",
       "      <td>NaN</td>\n",
       "    </tr>\n",
       "    <tr>\n",
       "      <th>7</th>\n",
       "      <td>DRF_1_AutoML_20190418_153450</td>\n",
       "      <td>18.279676</td>\n",
       "      <td>4.275474</td>\n",
       "      <td>18.279676</td>\n",
       "      <td>3.034948</td>\n",
       "      <td>0.528345</td>\n",
       "    </tr>\n",
       "    <tr>\n",
       "      <th>8</th>\n",
       "      <td>GBM_grid_1_AutoML_20190418_153450_model_2</td>\n",
       "      <td>18.444320</td>\n",
       "      <td>4.294685</td>\n",
       "      <td>18.444320</td>\n",
       "      <td>3.035934</td>\n",
       "      <td>NaN</td>\n",
       "    </tr>\n",
       "    <tr>\n",
       "      <th>9</th>\n",
       "      <td>GBM_2_AutoML_20190418_153450</td>\n",
       "      <td>18.691352</td>\n",
       "      <td>4.323350</td>\n",
       "      <td>18.691352</td>\n",
       "      <td>3.153222</td>\n",
       "      <td>NaN</td>\n",
       "    </tr>\n",
       "    <tr>\n",
       "      <th>10</th>\n",
       "      <td>GBM_5_AutoML_20190418_153450</td>\n",
       "      <td>18.876394</td>\n",
       "      <td>4.344697</td>\n",
       "      <td>18.876394</td>\n",
       "      <td>3.167867</td>\n",
       "      <td>NaN</td>\n",
       "    </tr>\n",
       "    <tr>\n",
       "      <th>11</th>\n",
       "      <td>GBM_grid_1_AutoML_20190418_153450_model_6</td>\n",
       "      <td>19.124503</td>\n",
       "      <td>4.373157</td>\n",
       "      <td>19.124503</td>\n",
       "      <td>3.288815</td>\n",
       "      <td>0.565905</td>\n",
       "    </tr>\n",
       "    <tr>\n",
       "      <th>12</th>\n",
       "      <td>GBM_1_AutoML_20190418_153450</td>\n",
       "      <td>19.474900</td>\n",
       "      <td>4.413037</td>\n",
       "      <td>19.474900</td>\n",
       "      <td>3.254367</td>\n",
       "      <td>NaN</td>\n",
       "    </tr>\n",
       "    <tr>\n",
       "      <th>13</th>\n",
       "      <td>GBM_grid_1_AutoML_20190418_153450_model_10</td>\n",
       "      <td>23.383198</td>\n",
       "      <td>4.835618</td>\n",
       "      <td>23.383198</td>\n",
       "      <td>3.471994</td>\n",
       "      <td>NaN</td>\n",
       "    </tr>\n",
       "    <tr>\n",
       "      <th>14</th>\n",
       "      <td>GBM_grid_1_AutoML_20190418_153450_model_3</td>\n",
       "      <td>24.258031</td>\n",
       "      <td>4.925244</td>\n",
       "      <td>24.258031</td>\n",
       "      <td>3.795639</td>\n",
       "      <td>0.596674</td>\n",
       "    </tr>\n",
       "    <tr>\n",
       "      <th>15</th>\n",
       "      <td>DeepLearning_1_AutoML_20190418_153450</td>\n",
       "      <td>24.536402</td>\n",
       "      <td>4.953423</td>\n",
       "      <td>24.536402</td>\n",
       "      <td>3.734252</td>\n",
       "      <td>0.588782</td>\n",
       "    </tr>\n",
       "    <tr>\n",
       "      <th>16</th>\n",
       "      <td>GBM_grid_1_AutoML_20190418_153450_model_4</td>\n",
       "      <td>25.437744</td>\n",
       "      <td>5.043584</td>\n",
       "      <td>25.437744</td>\n",
       "      <td>4.006396</td>\n",
       "      <td>0.636992</td>\n",
       "    </tr>\n",
       "    <tr>\n",
       "      <th>17</th>\n",
       "      <td>GBM_grid_1_AutoML_20190418_153450_model_14</td>\n",
       "      <td>26.950499</td>\n",
       "      <td>5.191387</td>\n",
       "      <td>26.950499</td>\n",
       "      <td>4.028042</td>\n",
       "      <td>0.621998</td>\n",
       "    </tr>\n",
       "    <tr>\n",
       "      <th>18</th>\n",
       "      <td>DeepLearning_grid_1_AutoML_20190418_153450_mod...</td>\n",
       "      <td>27.612653</td>\n",
       "      <td>5.254774</td>\n",
       "      <td>27.612653</td>\n",
       "      <td>4.015723</td>\n",
       "      <td>0.623849</td>\n",
       "    </tr>\n",
       "    <tr>\n",
       "      <th>19</th>\n",
       "      <td>GBM_grid_1_AutoML_20190418_153450_model_7</td>\n",
       "      <td>27.660010</td>\n",
       "      <td>5.259278</td>\n",
       "      <td>27.660010</td>\n",
       "      <td>4.157101</td>\n",
       "      <td>0.646032</td>\n",
       "    </tr>\n",
       "    <tr>\n",
       "      <th>20</th>\n",
       "      <td>DeepLearning_grid_1_AutoML_20190418_153450_mod...</td>\n",
       "      <td>28.610893</td>\n",
       "      <td>5.348915</td>\n",
       "      <td>28.610893</td>\n",
       "      <td>4.229617</td>\n",
       "      <td>NaN</td>\n",
       "    </tr>\n",
       "    <tr>\n",
       "      <th>21</th>\n",
       "      <td>GBM_grid_1_AutoML_20190418_153450_model_9</td>\n",
       "      <td>28.844981</td>\n",
       "      <td>5.370752</td>\n",
       "      <td>28.844981</td>\n",
       "      <td>4.375456</td>\n",
       "      <td>0.681613</td>\n",
       "    </tr>\n",
       "    <tr>\n",
       "      <th>22</th>\n",
       "      <td>DeepLearning_grid_1_AutoML_20190418_153450_mod...</td>\n",
       "      <td>29.204574</td>\n",
       "      <td>5.404126</td>\n",
       "      <td>29.204574</td>\n",
       "      <td>4.192973</td>\n",
       "      <td>0.637501</td>\n",
       "    </tr>\n",
       "    <tr>\n",
       "      <th>23</th>\n",
       "      <td>DeepLearning_grid_1_AutoML_20190418_153450_mod...</td>\n",
       "      <td>29.684325</td>\n",
       "      <td>5.448332</td>\n",
       "      <td>29.684325</td>\n",
       "      <td>4.184335</td>\n",
       "      <td>NaN</td>\n",
       "    </tr>\n",
       "    <tr>\n",
       "      <th>24</th>\n",
       "      <td>DeepLearning_grid_1_AutoML_20190418_153450_mod...</td>\n",
       "      <td>30.518164</td>\n",
       "      <td>5.524325</td>\n",
       "      <td>30.518164</td>\n",
       "      <td>4.300660</td>\n",
       "      <td>0.640949</td>\n",
       "    </tr>\n",
       "    <tr>\n",
       "      <th>25</th>\n",
       "      <td>DeepLearning_grid_1_AutoML_20190418_153450_mod...</td>\n",
       "      <td>31.554414</td>\n",
       "      <td>5.617332</td>\n",
       "      <td>31.554414</td>\n",
       "      <td>4.303662</td>\n",
       "      <td>NaN</td>\n",
       "    </tr>\n",
       "    <tr>\n",
       "      <th>26</th>\n",
       "      <td>GBM_grid_1_AutoML_20190418_153450_model_5</td>\n",
       "      <td>32.663641</td>\n",
       "      <td>5.715211</td>\n",
       "      <td>32.663641</td>\n",
       "      <td>4.856373</td>\n",
       "      <td>0.737904</td>\n",
       "    </tr>\n",
       "    <tr>\n",
       "      <th>27</th>\n",
       "      <td>DeepLearning_grid_1_AutoML_20190418_153450_mod...</td>\n",
       "      <td>32.805799</td>\n",
       "      <td>5.727635</td>\n",
       "      <td>32.805799</td>\n",
       "      <td>4.351598</td>\n",
       "      <td>NaN</td>\n",
       "    </tr>\n",
       "    <tr>\n",
       "      <th>28</th>\n",
       "      <td>DeepLearning_grid_1_AutoML_20190418_153450_mod...</td>\n",
       "      <td>34.427696</td>\n",
       "      <td>5.867512</td>\n",
       "      <td>34.427696</td>\n",
       "      <td>4.525047</td>\n",
       "      <td>NaN</td>\n",
       "    </tr>\n",
       "    <tr>\n",
       "      <th>29</th>\n",
       "      <td>DeepLearning_grid_1_AutoML_20190418_153450_mod...</td>\n",
       "      <td>35.268195</td>\n",
       "      <td>5.938703</td>\n",
       "      <td>35.268195</td>\n",
       "      <td>4.529525</td>\n",
       "      <td>NaN</td>\n",
       "    </tr>\n",
       "    <tr>\n",
       "      <th>30</th>\n",
       "      <td>GLM_grid_1_AutoML_20190418_153450_model_1</td>\n",
       "      <td>37.770325</td>\n",
       "      <td>6.145757</td>\n",
       "      <td>37.770325</td>\n",
       "      <td>4.908914</td>\n",
       "      <td>0.740319</td>\n",
       "    </tr>\n",
       "    <tr>\n",
       "      <th>31</th>\n",
       "      <td>GBM_grid_1_AutoML_20190418_153450_model_1</td>\n",
       "      <td>39.062530</td>\n",
       "      <td>6.250002</td>\n",
       "      <td>39.062530</td>\n",
       "      <td>5.377341</td>\n",
       "      <td>0.789125</td>\n",
       "    </tr>\n",
       "    <tr>\n",
       "      <th>32</th>\n",
       "      <td>GBM_grid_1_AutoML_20190418_153450_model_12</td>\n",
       "      <td>40.473315</td>\n",
       "      <td>6.361864</td>\n",
       "      <td>40.473315</td>\n",
       "      <td>5.474986</td>\n",
       "      <td>0.802853</td>\n",
       "    </tr>\n",
       "    <tr>\n",
       "      <th>33</th>\n",
       "      <td>GBM_grid_1_AutoML_20190418_153450_model_15</td>\n",
       "      <td>43.270225</td>\n",
       "      <td>6.578011</td>\n",
       "      <td>43.270225</td>\n",
       "      <td>5.685062</td>\n",
       "      <td>0.820522</td>\n",
       "    </tr>\n",
       "    <tr>\n",
       "      <th>34</th>\n",
       "      <td>DeepLearning_grid_1_AutoML_20190418_153450_mod...</td>\n",
       "      <td>45.015455</td>\n",
       "      <td>6.709356</td>\n",
       "      <td>45.015455</td>\n",
       "      <td>5.675698</td>\n",
       "      <td>0.870354</td>\n",
       "    </tr>\n",
       "    <tr>\n",
       "      <th>35</th>\n",
       "      <td>GBM_grid_1_AutoML_20190418_153450_model_13</td>\n",
       "      <td>45.417163</td>\n",
       "      <td>6.739226</td>\n",
       "      <td>45.417163</td>\n",
       "      <td>5.822302</td>\n",
       "      <td>0.833574</td>\n",
       "    </tr>\n",
       "  </tbody>\n",
       "</table>\n",
       "</div>"
      ],
      "text/plain": [
       "                                             model_id  mean_residual_deviance  \\\n",
       "0    StackedEnsemble_AllModels_AutoML_20190418_153450               16.575708   \n",
       "1   StackedEnsemble_BestOfFamily_AutoML_20190418_1...               16.867162   \n",
       "2                        GBM_4_AutoML_20190418_153450               17.321940   \n",
       "3          GBM_grid_1_AutoML_20190418_153450_model_11               17.779478   \n",
       "4                        XRT_1_AutoML_20190418_153450               17.832009   \n",
       "5           GBM_grid_1_AutoML_20190418_153450_model_8               17.892236   \n",
       "6                        GBM_3_AutoML_20190418_153450               18.066172   \n",
       "7                        DRF_1_AutoML_20190418_153450               18.279676   \n",
       "8           GBM_grid_1_AutoML_20190418_153450_model_2               18.444320   \n",
       "9                        GBM_2_AutoML_20190418_153450               18.691352   \n",
       "10                       GBM_5_AutoML_20190418_153450               18.876394   \n",
       "11          GBM_grid_1_AutoML_20190418_153450_model_6               19.124503   \n",
       "12                       GBM_1_AutoML_20190418_153450               19.474900   \n",
       "13         GBM_grid_1_AutoML_20190418_153450_model_10               23.383198   \n",
       "14          GBM_grid_1_AutoML_20190418_153450_model_3               24.258031   \n",
       "15              DeepLearning_1_AutoML_20190418_153450               24.536402   \n",
       "16          GBM_grid_1_AutoML_20190418_153450_model_4               25.437744   \n",
       "17         GBM_grid_1_AutoML_20190418_153450_model_14               26.950499   \n",
       "18  DeepLearning_grid_1_AutoML_20190418_153450_mod...               27.612653   \n",
       "19          GBM_grid_1_AutoML_20190418_153450_model_7               27.660010   \n",
       "20  DeepLearning_grid_1_AutoML_20190418_153450_mod...               28.610893   \n",
       "21          GBM_grid_1_AutoML_20190418_153450_model_9               28.844981   \n",
       "22  DeepLearning_grid_1_AutoML_20190418_153450_mod...               29.204574   \n",
       "23  DeepLearning_grid_1_AutoML_20190418_153450_mod...               29.684325   \n",
       "24  DeepLearning_grid_1_AutoML_20190418_153450_mod...               30.518164   \n",
       "25  DeepLearning_grid_1_AutoML_20190418_153450_mod...               31.554414   \n",
       "26          GBM_grid_1_AutoML_20190418_153450_model_5               32.663641   \n",
       "27  DeepLearning_grid_1_AutoML_20190418_153450_mod...               32.805799   \n",
       "28  DeepLearning_grid_1_AutoML_20190418_153450_mod...               34.427696   \n",
       "29  DeepLearning_grid_1_AutoML_20190418_153450_mod...               35.268195   \n",
       "30          GLM_grid_1_AutoML_20190418_153450_model_1               37.770325   \n",
       "31          GBM_grid_1_AutoML_20190418_153450_model_1               39.062530   \n",
       "32         GBM_grid_1_AutoML_20190418_153450_model_12               40.473315   \n",
       "33         GBM_grid_1_AutoML_20190418_153450_model_15               43.270225   \n",
       "34  DeepLearning_grid_1_AutoML_20190418_153450_mod...               45.015455   \n",
       "35         GBM_grid_1_AutoML_20190418_153450_model_13               45.417163   \n",
       "\n",
       "        rmse        mse       mae     rmsle  \n",
       "0   4.071328  16.575708  2.871407       NaN  \n",
       "1   4.106965  16.867162  2.911271       NaN  \n",
       "2   4.161963  17.321940  2.944226       NaN  \n",
       "3   4.216572  17.779478  2.956645       NaN  \n",
       "4   4.222796  17.832009  3.045021  0.529019  \n",
       "5   4.229922  17.892236  3.035620       NaN  \n",
       "6   4.250432  18.066172  3.061447       NaN  \n",
       "7   4.275474  18.279676  3.034948  0.528345  \n",
       "8   4.294685  18.444320  3.035934       NaN  \n",
       "9   4.323350  18.691352  3.153222       NaN  \n",
       "10  4.344697  18.876394  3.167867       NaN  \n",
       "11  4.373157  19.124503  3.288815  0.565905  \n",
       "12  4.413037  19.474900  3.254367       NaN  \n",
       "13  4.835618  23.383198  3.471994       NaN  \n",
       "14  4.925244  24.258031  3.795639  0.596674  \n",
       "15  4.953423  24.536402  3.734252  0.588782  \n",
       "16  5.043584  25.437744  4.006396  0.636992  \n",
       "17  5.191387  26.950499  4.028042  0.621998  \n",
       "18  5.254774  27.612653  4.015723  0.623849  \n",
       "19  5.259278  27.660010  4.157101  0.646032  \n",
       "20  5.348915  28.610893  4.229617       NaN  \n",
       "21  5.370752  28.844981  4.375456  0.681613  \n",
       "22  5.404126  29.204574  4.192973  0.637501  \n",
       "23  5.448332  29.684325  4.184335       NaN  \n",
       "24  5.524325  30.518164  4.300660  0.640949  \n",
       "25  5.617332  31.554414  4.303662       NaN  \n",
       "26  5.715211  32.663641  4.856373  0.737904  \n",
       "27  5.727635  32.805799  4.351598       NaN  \n",
       "28  5.867512  34.427696  4.525047       NaN  \n",
       "29  5.938703  35.268195  4.529525       NaN  \n",
       "30  6.145757  37.770325  4.908914  0.740319  \n",
       "31  6.250002  39.062530  5.377341  0.789125  \n",
       "32  6.361864  40.473315  5.474986  0.802853  \n",
       "33  6.578011  43.270225  5.685062  0.820522  \n",
       "34  6.709356  45.015455  5.675698  0.870354  \n",
       "35  6.739226  45.417163  5.822302  0.833574  "
      ]
     },
     "execution_count": 49,
     "metadata": {},
     "output_type": "execute_result"
    }
   ],
   "source": [
    "aml_leaderboard_df"
   ]
  },
  {
   "cell_type": "code",
   "execution_count": 50,
   "metadata": {},
   "outputs": [],
   "source": [
    "# STart best model as first model\n",
    "\n",
    "model_set=aml_leaderboard_df['model_id']\n",
    "mod_best=h2o.get_model(model_set[0])"
   ]
  },
  {
   "cell_type": "code",
   "execution_count": 51,
   "metadata": {},
   "outputs": [
    {
     "data": {
      "text/plain": [
       "'StackedEnsemble_AllModels_AutoML_20190418_153450'"
      ]
     },
     "execution_count": 51,
     "metadata": {},
     "output_type": "execute_result"
    }
   ],
   "source": [
    "mod_best._id# STart best model as first model\n",
    "\n",
    "model_set=aml_leaderboard_df['model_id']\n",
    "mod_best=h2o.get_model(model_set[0])"
   ]
  },
  {
   "cell_type": "code",
   "execution_count": 52,
   "metadata": {},
   "outputs": [],
   "source": [
    "# Get stacked ensemble  \n",
    "se=get_stacked_ensemble(model_set)"
   ]
  },
  {
   "cell_type": "code",
   "execution_count": 53,
   "metadata": {},
   "outputs": [
    {
     "name": "stdout",
     "output_type": "stream",
     "text": [
      "StackedEnsemble_BestOfFamily_AutoML_20190418_153450\n"
     ]
    }
   ],
   "source": [
    "print(se)"
   ]
  },
  {
   "cell_type": "code",
   "execution_count": 54,
   "metadata": {},
   "outputs": [],
   "source": [
    "if se is not None:\n",
    "  mod_best=h2o.get_model(se)"
   ]
  },
  {
   "cell_type": "code",
   "execution_count": 55,
   "metadata": {},
   "outputs": [
    {
     "data": {
      "text/plain": [
       "['__class__',\n",
       " '__delattr__',\n",
       " '__dict__',\n",
       " '__dir__',\n",
       " '__doc__',\n",
       " '__eq__',\n",
       " '__format__',\n",
       " '__ge__',\n",
       " '__getattr__',\n",
       " '__getattribute__',\n",
       " '__gt__',\n",
       " '__hash__',\n",
       " '__init__',\n",
       " '__init_subclass__',\n",
       " '__le__',\n",
       " '__lt__',\n",
       " '__module__',\n",
       " '__ne__',\n",
       " '__new__',\n",
       " '__reduce__',\n",
       " '__reduce_ex__',\n",
       " '__repr__',\n",
       " '__setattr__',\n",
       " '__sizeof__',\n",
       " '__str__',\n",
       " '__subclasshook__',\n",
       " '__weakref__',\n",
       " '_bc',\n",
       " '_bcin',\n",
       " '_check_and_save_parm',\n",
       " '_check_targets',\n",
       " '_compute_algo',\n",
       " '_end_time',\n",
       " '_estimator_type',\n",
       " '_future',\n",
       " '_get_metrics',\n",
       " '_have_mojo',\n",
       " '_have_pojo',\n",
       " '_id',\n",
       " '_is_xvalidated',\n",
       " '_job',\n",
       " '_keyify_if_h2oframe',\n",
       " '_make_model',\n",
       " '_metrics_class',\n",
       " '_model_json',\n",
       " '_parms',\n",
       " '_plot',\n",
       " '_requires_training_frame',\n",
       " '_resolve_model',\n",
       " '_run_time',\n",
       " '_start_time',\n",
       " '_train',\n",
       " '_verify_training_frame_params',\n",
       " '_xval_keys',\n",
       " 'actual_params',\n",
       " 'aic',\n",
       " 'algo',\n",
       " 'auc',\n",
       " 'base_models',\n",
       " 'biases',\n",
       " 'blending_frame',\n",
       " 'catoffsets',\n",
       " 'coef',\n",
       " 'coef_norm',\n",
       " 'convert_H2OXGBoostParams_2_XGBoostParams',\n",
       " 'cross_validation_fold_assignment',\n",
       " 'cross_validation_holdout_predictions',\n",
       " 'cross_validation_metrics_summary',\n",
       " 'cross_validation_models',\n",
       " 'cross_validation_predictions',\n",
       " 'deepfeatures',\n",
       " 'default_params',\n",
       " 'download_mojo',\n",
       " 'download_pojo',\n",
       " 'end_time',\n",
       " 'export_checkpoints_dir',\n",
       " 'fit',\n",
       " 'full_parameters',\n",
       " 'get_params',\n",
       " 'get_xval_models',\n",
       " 'gini',\n",
       " 'have_mojo',\n",
       " 'have_pojo',\n",
       " 'is_cross_validated',\n",
       " 'join',\n",
       " 'keep_levelone_frame',\n",
       " 'levelone_frame_id',\n",
       " 'logloss',\n",
       " 'mae',\n",
       " 'mean_residual_deviance',\n",
       " 'metalearner',\n",
       " 'metalearner_algorithm',\n",
       " 'metalearner_fold_assignment',\n",
       " 'metalearner_fold_column',\n",
       " 'metalearner_nfolds',\n",
       " 'metalearner_params',\n",
       " 'mixin',\n",
       " 'model_id',\n",
       " 'model_performance',\n",
       " 'mse',\n",
       " 'normmul',\n",
       " 'normsub',\n",
       " 'null_degrees_of_freedom',\n",
       " 'null_deviance',\n",
       " 'params',\n",
       " 'parms',\n",
       " 'partial_plot',\n",
       " 'plot',\n",
       " 'pprint_coef',\n",
       " 'predict',\n",
       " 'predict_contributions',\n",
       " 'predict_leaf_node_assignment',\n",
       " 'r2',\n",
       " 'residual_degrees_of_freedom',\n",
       " 'residual_deviance',\n",
       " 'respmul',\n",
       " 'response_column',\n",
       " 'respsub',\n",
       " 'rmse',\n",
       " 'rmsle',\n",
       " 'rotation',\n",
       " 'run_time',\n",
       " 'save_model_details',\n",
       " 'save_mojo',\n",
       " 'score_history',\n",
       " 'scoring_history',\n",
       " 'seed',\n",
       " 'set_params',\n",
       " 'show',\n",
       " 'stacking_strategy',\n",
       " 'staged_predict_proba',\n",
       " 'start',\n",
       " 'start_time',\n",
       " 'std_coef_plot',\n",
       " 'summary',\n",
       " 'train',\n",
       " 'training_frame',\n",
       " 'type',\n",
       " 'validation_frame',\n",
       " 'varimp',\n",
       " 'varimp_plot',\n",
       " 'weights',\n",
       " 'xval_keys',\n",
       " 'xvals']"
      ]
     },
     "execution_count": 55,
     "metadata": {},
     "output_type": "execute_result"
    }
   ],
   "source": [
    "dir(mod_best)"
   ]
  },
  {
   "cell_type": "code",
   "execution_count": 56,
   "metadata": {},
   "outputs": [
    {
     "data": {
      "text/plain": [
       "'StackedEnsemble_BestOfFamily_AutoML_20190418_153450'"
      ]
     },
     "execution_count": 56,
     "metadata": {},
     "output_type": "execute_result"
    }
   ],
   "source": [
    "mod_best._id"
   ]
  },
  {
   "cell_type": "code",
   "execution_count": 57,
   "metadata": {},
   "outputs": [
    {
     "data": {
      "text/plain": [
       "<function h2o.model.model_base.ModelBase._get_metrics(o, train, valid, xval)>"
      ]
     },
     "execution_count": 57,
     "metadata": {},
     "output_type": "execute_result"
    }
   ],
   "source": [
    "mod_best._get_metrics"
   ]
  },
  {
   "cell_type": "code",
   "execution_count": 58,
   "metadata": {},
   "outputs": [
    {
     "data": {
      "text/plain": [
       "h2o.estimators.stackedensemble.H2OStackedEnsembleEstimator"
      ]
     },
     "execution_count": 58,
     "metadata": {},
     "output_type": "execute_result"
    }
   ],
   "source": [
    "type(mod_best)"
   ]
  },
  {
   "cell_type": "code",
   "execution_count": 59,
   "metadata": {},
   "outputs": [
    {
     "name": "stdout",
     "output_type": "stream",
     "text": [
      "Model Details\n",
      "=============\n",
      "H2OStackedEnsembleEstimator :  Stacked Ensemble\n",
      "Model Key:  StackedEnsemble_BestOfFamily_AutoML_20190418_153450\n",
      "No model summary for this model\n",
      "\n",
      "\n",
      "ModelMetricsRegressionGLM: stackedensemble\n",
      "** Reported on train data. **\n",
      "\n",
      "MSE: 3.6301960360615575\n",
      "RMSE: 1.9053073337552546\n",
      "MAE: 1.3956491037975256\n",
      "RMSLE: NaN\n",
      "R^2: 0.9240644000591742\n",
      "Mean Residual Deviance: 3.6301960360615575\n",
      "Null degrees of freedom: 17378\n",
      "Residual degrees of freedom: 17375\n",
      "Null deviance: 830824.7641406283\n",
      "Residual deviance: 63089.17691071381\n",
      "AIC: 71735.97824908436\n",
      "\n",
      "ModelMetricsRegressionGLM: stackedensemble\n",
      "** Reported on cross-validation data. **\n",
      "\n",
      "MSE: 16.86716184492017\n",
      "RMSE: 4.106965040625519\n",
      "MAE: 2.911271301064251\n",
      "RMSLE: NaN\n",
      "R^2: 0.6471766149073883\n",
      "Mean Residual Deviance: 16.86716184492017\n",
      "Null degrees of freedom: 17378\n",
      "Residual degrees of freedom: 17375\n",
      "Null deviance: 830873.0196888775\n",
      "Residual deviance: 293134.4057028676\n",
      "AIC: 98431.54722881642\n",
      "<bound method ModelBase.coef_norm of >\n"
     ]
    }
   ],
   "source": [
    "mods=mod_best.coef_norm\n",
    "print(mods)"
   ]
  },
  {
   "cell_type": "code",
   "execution_count": 60,
   "metadata": {},
   "outputs": [
    {
     "data": {
      "text/plain": [
       "'\\nmod_best.aic()\\n mod_best.algo\\n mod_best.coef()\\n mod_best.coef_norm()\\n mod_best.confusion_matrix()\\n mod_best.cross_validation_fold_assignment()\\n mod_best.cross_validation_holdout_predictions()\\n mod_best.cross_validation_metrics_summary()\\n mod_best.cross_validation_models()\\n mod_best.cross_validation_predictions()\\n mod_best.deepfeatures()\\n mod_best.default_params()\\n mod_best.download_mojo()\\n mod_best.download_pojo()\\n mod_best.fit()\\n mod_best.full_parameters()\\n mod_best.get_params()\\n mod_best.get_xval_models()\\n mod_best.gini()\\n mod_best.have_mojo()\\n mod_best.have_pojo()\\n mod_best.hit_ratio_table()\\n mod_best.is_cross_validated()\\n mod_best.join()\\n mod_best.keep_levelone_frame()\\n mod_best.levelone_frame_id()\\n mod_best.logloss()\\n mod_best.mae()\\n mod_best.mean_per_class_error()\\n mod_best.mean_residual_deviance()\\n mod_best.metalearner()\\n mod_best.metalearner_algorithm()\\n mod_best.metalearner_fold_assignment()\\n mod_best.metalearner_fold_column()\\n mod_best.metalearner_nfolds()\\n mod_best.metalearner_params()\\n mod_best.mixin()\\n mod_best.model_id()\\n mod_best.model_performance()\\n mod_best.mse()\\n mod_best.normmul()\\n mod_best.normsub()\\n mod_best.null_degrees_of_freedom()\\n mod_best.null_deviance()\\n mod_best.params()\\n mod_best.parms()\\n mod_best.partial_plot()\\n mod_best.plot()\\n mod_best.pprint_coef()\\n mod_best.predict()\\n mod_best.predict_leaf_node_assignment()\\n mod_best.r2()\\n mod_best.residual_degrees_of_freedom()\\n mod_best.residual_deviance()\\n mod_best.respmul()\\n mod_best.response_column()\\n mod_best.respsub()\\n mod_best.rmse()\\n mod_best.rmsle()\\n mod_best.rotation()\\n mod_best.save_model_details()\\n mod_best.save_mojo()\\n mod_best.score_history()\\n mod_best.scoring_history()\\n mod_best.seed()\\n mod_best.set_params()\\n mod_best.show()\\n mod_best.start()\\n mod_best.std_coef_plot()\\n mod_best.summary()\\n mod_best.train()\\n mod_best.training_frame()\\n mod_best.type()\\n mod_best.validation_frame()\\n mod_best.varimp()\\n mod_best.varimp_plot()\\n mod_best.weights()\\n mod_best.xval_keys()\\n mod_best.xvalsmod_best()\\n '"
      ]
     },
     "execution_count": 60,
     "metadata": {},
     "output_type": "execute_result"
    }
   ],
   "source": [
    "'''\n",
    "mod_best.aic()\n",
    " mod_best.algo\n",
    " mod_best.coef()\n",
    " mod_best.coef_norm()\n",
    " mod_best.confusion_matrix()\n",
    " mod_best.cross_validation_fold_assignment()\n",
    " mod_best.cross_validation_holdout_predictions()\n",
    " mod_best.cross_validation_metrics_summary()\n",
    " mod_best.cross_validation_models()\n",
    " mod_best.cross_validation_predictions()\n",
    " mod_best.deepfeatures()\n",
    " mod_best.default_params()\n",
    " mod_best.download_mojo()\n",
    " mod_best.download_pojo()\n",
    " mod_best.fit()\n",
    " mod_best.full_parameters()\n",
    " mod_best.get_params()\n",
    " mod_best.get_xval_models()\n",
    " mod_best.gini()\n",
    " mod_best.have_mojo()\n",
    " mod_best.have_pojo()\n",
    " mod_best.hit_ratio_table()\n",
    " mod_best.is_cross_validated()\n",
    " mod_best.join()\n",
    " mod_best.keep_levelone_frame()\n",
    " mod_best.levelone_frame_id()\n",
    " mod_best.logloss()\n",
    " mod_best.mae()\n",
    " mod_best.mean_per_class_error()\n",
    " mod_best.mean_residual_deviance()\n",
    " mod_best.metalearner()\n",
    " mod_best.metalearner_algorithm()\n",
    " mod_best.metalearner_fold_assignment()\n",
    " mod_best.metalearner_fold_column()\n",
    " mod_best.metalearner_nfolds()\n",
    " mod_best.metalearner_params()\n",
    " mod_best.mixin()\n",
    " mod_best.model_id()\n",
    " mod_best.model_performance()\n",
    " mod_best.mse()\n",
    " mod_best.normmul()\n",
    " mod_best.normsub()\n",
    " mod_best.null_degrees_of_freedom()\n",
    " mod_best.null_deviance()\n",
    " mod_best.params()\n",
    " mod_best.parms()\n",
    " mod_best.partial_plot()\n",
    " mod_best.plot()\n",
    " mod_best.pprint_coef()\n",
    " mod_best.predict()\n",
    " mod_best.predict_leaf_node_assignment()\n",
    " mod_best.r2()\n",
    " mod_best.residual_degrees_of_freedom()\n",
    " mod_best.residual_deviance()\n",
    " mod_best.respmul()\n",
    " mod_best.response_column()\n",
    " mod_best.respsub()\n",
    " mod_best.rmse()\n",
    " mod_best.rmsle()\n",
    " mod_best.rotation()\n",
    " mod_best.save_model_details()\n",
    " mod_best.save_mojo()\n",
    " mod_best.score_history()\n",
    " mod_best.scoring_history()\n",
    " mod_best.seed()\n",
    " mod_best.set_params()\n",
    " mod_best.show()\n",
    " mod_best.start()\n",
    " mod_best.std_coef_plot()\n",
    " mod_best.summary()\n",
    " mod_best.train()\n",
    " mod_best.training_frame()\n",
    " mod_best.type()\n",
    " mod_best.validation_frame()\n",
    " mod_best.varimp()\n",
    " mod_best.varimp_plot()\n",
    " mod_best.weights()\n",
    " mod_best.xval_keys()\n",
    " mod_best.xvalsmod_best()\n",
    " '''\n"
   ]
  },
  {
   "cell_type": "code",
   "execution_count": 61,
   "metadata": {},
   "outputs": [],
   "source": [
    "bm=stackedensemble_df(aml_leaderboard_df)"
   ]
  },
  {
   "cell_type": "code",
   "execution_count": 62,
   "metadata": {},
   "outputs": [
    {
     "data": {
      "text/plain": [
       "['GBM_4_AutoML_20190418_153450',\n",
       " 'GLM_grid_1_AutoML_20190418_153450_model_1',\n",
       " 'DRF_1_AutoML_20190418_153450',\n",
       " 'XRT_1_AutoML_20190418_153450',\n",
       " 'DeepLearning_1_AutoML_20190418_153450']"
      ]
     },
     "execution_count": 62,
     "metadata": {},
     "output_type": "execute_result"
    }
   ],
   "source": [
    "bm"
   ]
  },
  {
   "cell_type": "code",
   "execution_count": 63,
   "metadata": {},
   "outputs": [
    {
     "data": {
      "text/html": [
       "<div>\n",
       "<style scoped>\n",
       "    .dataframe tbody tr th:only-of-type {\n",
       "        vertical-align: middle;\n",
       "    }\n",
       "\n",
       "    .dataframe tbody tr th {\n",
       "        vertical-align: top;\n",
       "    }\n",
       "\n",
       "    .dataframe thead th {\n",
       "        text-align: right;\n",
       "    }\n",
       "</style>\n",
       "<table border=\"1\" class=\"dataframe\">\n",
       "  <thead>\n",
       "    <tr style=\"text-align: right;\">\n",
       "      <th></th>\n",
       "      <th>model_id</th>\n",
       "      <th>mean_residual_deviance</th>\n",
       "      <th>rmse</th>\n",
       "      <th>mse</th>\n",
       "      <th>mae</th>\n",
       "      <th>rmsle</th>\n",
       "    </tr>\n",
       "  </thead>\n",
       "  <tbody>\n",
       "    <tr>\n",
       "      <th>0</th>\n",
       "      <td>StackedEnsemble_AllModels_AutoML_20190418_153450</td>\n",
       "      <td>16.575708</td>\n",
       "      <td>4.071328</td>\n",
       "      <td>16.575708</td>\n",
       "      <td>2.871407</td>\n",
       "      <td>NaN</td>\n",
       "    </tr>\n",
       "    <tr>\n",
       "      <th>1</th>\n",
       "      <td>StackedEnsemble_BestOfFamily_AutoML_20190418_1...</td>\n",
       "      <td>16.867162</td>\n",
       "      <td>4.106965</td>\n",
       "      <td>16.867162</td>\n",
       "      <td>2.911271</td>\n",
       "      <td>NaN</td>\n",
       "    </tr>\n",
       "    <tr>\n",
       "      <th>2</th>\n",
       "      <td>GBM_4_AutoML_20190418_153450</td>\n",
       "      <td>17.321940</td>\n",
       "      <td>4.161963</td>\n",
       "      <td>17.321940</td>\n",
       "      <td>2.944226</td>\n",
       "      <td>NaN</td>\n",
       "    </tr>\n",
       "    <tr>\n",
       "      <th>3</th>\n",
       "      <td>GBM_grid_1_AutoML_20190418_153450_model_11</td>\n",
       "      <td>17.779478</td>\n",
       "      <td>4.216572</td>\n",
       "      <td>17.779478</td>\n",
       "      <td>2.956645</td>\n",
       "      <td>NaN</td>\n",
       "    </tr>\n",
       "    <tr>\n",
       "      <th>4</th>\n",
       "      <td>XRT_1_AutoML_20190418_153450</td>\n",
       "      <td>17.832009</td>\n",
       "      <td>4.222796</td>\n",
       "      <td>17.832009</td>\n",
       "      <td>3.045021</td>\n",
       "      <td>0.529019</td>\n",
       "    </tr>\n",
       "    <tr>\n",
       "      <th>5</th>\n",
       "      <td>GBM_grid_1_AutoML_20190418_153450_model_8</td>\n",
       "      <td>17.892236</td>\n",
       "      <td>4.229922</td>\n",
       "      <td>17.892236</td>\n",
       "      <td>3.035620</td>\n",
       "      <td>NaN</td>\n",
       "    </tr>\n",
       "    <tr>\n",
       "      <th>6</th>\n",
       "      <td>GBM_3_AutoML_20190418_153450</td>\n",
       "      <td>18.066172</td>\n",
       "      <td>4.250432</td>\n",
       "      <td>18.066172</td>\n",
       "      <td>3.061447</td>\n",
       "      <td>NaN</td>\n",
       "    </tr>\n",
       "    <tr>\n",
       "      <th>7</th>\n",
       "      <td>DRF_1_AutoML_20190418_153450</td>\n",
       "      <td>18.279676</td>\n",
       "      <td>4.275474</td>\n",
       "      <td>18.279676</td>\n",
       "      <td>3.034948</td>\n",
       "      <td>0.528345</td>\n",
       "    </tr>\n",
       "    <tr>\n",
       "      <th>8</th>\n",
       "      <td>GBM_grid_1_AutoML_20190418_153450_model_2</td>\n",
       "      <td>18.444320</td>\n",
       "      <td>4.294685</td>\n",
       "      <td>18.444320</td>\n",
       "      <td>3.035934</td>\n",
       "      <td>NaN</td>\n",
       "    </tr>\n",
       "    <tr>\n",
       "      <th>9</th>\n",
       "      <td>GBM_2_AutoML_20190418_153450</td>\n",
       "      <td>18.691352</td>\n",
       "      <td>4.323350</td>\n",
       "      <td>18.691352</td>\n",
       "      <td>3.153222</td>\n",
       "      <td>NaN</td>\n",
       "    </tr>\n",
       "    <tr>\n",
       "      <th>10</th>\n",
       "      <td>GBM_5_AutoML_20190418_153450</td>\n",
       "      <td>18.876394</td>\n",
       "      <td>4.344697</td>\n",
       "      <td>18.876394</td>\n",
       "      <td>3.167867</td>\n",
       "      <td>NaN</td>\n",
       "    </tr>\n",
       "    <tr>\n",
       "      <th>11</th>\n",
       "      <td>GBM_grid_1_AutoML_20190418_153450_model_6</td>\n",
       "      <td>19.124503</td>\n",
       "      <td>4.373157</td>\n",
       "      <td>19.124503</td>\n",
       "      <td>3.288815</td>\n",
       "      <td>0.565905</td>\n",
       "    </tr>\n",
       "    <tr>\n",
       "      <th>12</th>\n",
       "      <td>GBM_1_AutoML_20190418_153450</td>\n",
       "      <td>19.474900</td>\n",
       "      <td>4.413037</td>\n",
       "      <td>19.474900</td>\n",
       "      <td>3.254367</td>\n",
       "      <td>NaN</td>\n",
       "    </tr>\n",
       "    <tr>\n",
       "      <th>13</th>\n",
       "      <td>GBM_grid_1_AutoML_20190418_153450_model_10</td>\n",
       "      <td>23.383198</td>\n",
       "      <td>4.835618</td>\n",
       "      <td>23.383198</td>\n",
       "      <td>3.471994</td>\n",
       "      <td>NaN</td>\n",
       "    </tr>\n",
       "    <tr>\n",
       "      <th>14</th>\n",
       "      <td>GBM_grid_1_AutoML_20190418_153450_model_3</td>\n",
       "      <td>24.258031</td>\n",
       "      <td>4.925244</td>\n",
       "      <td>24.258031</td>\n",
       "      <td>3.795639</td>\n",
       "      <td>0.596674</td>\n",
       "    </tr>\n",
       "    <tr>\n",
       "      <th>15</th>\n",
       "      <td>DeepLearning_1_AutoML_20190418_153450</td>\n",
       "      <td>24.536402</td>\n",
       "      <td>4.953423</td>\n",
       "      <td>24.536402</td>\n",
       "      <td>3.734252</td>\n",
       "      <td>0.588782</td>\n",
       "    </tr>\n",
       "    <tr>\n",
       "      <th>16</th>\n",
       "      <td>GBM_grid_1_AutoML_20190418_153450_model_4</td>\n",
       "      <td>25.437744</td>\n",
       "      <td>5.043584</td>\n",
       "      <td>25.437744</td>\n",
       "      <td>4.006396</td>\n",
       "      <td>0.636992</td>\n",
       "    </tr>\n",
       "    <tr>\n",
       "      <th>17</th>\n",
       "      <td>GBM_grid_1_AutoML_20190418_153450_model_14</td>\n",
       "      <td>26.950499</td>\n",
       "      <td>5.191387</td>\n",
       "      <td>26.950499</td>\n",
       "      <td>4.028042</td>\n",
       "      <td>0.621998</td>\n",
       "    </tr>\n",
       "    <tr>\n",
       "      <th>18</th>\n",
       "      <td>DeepLearning_grid_1_AutoML_20190418_153450_mod...</td>\n",
       "      <td>27.612653</td>\n",
       "      <td>5.254774</td>\n",
       "      <td>27.612653</td>\n",
       "      <td>4.015723</td>\n",
       "      <td>0.623849</td>\n",
       "    </tr>\n",
       "    <tr>\n",
       "      <th>19</th>\n",
       "      <td>GBM_grid_1_AutoML_20190418_153450_model_7</td>\n",
       "      <td>27.660010</td>\n",
       "      <td>5.259278</td>\n",
       "      <td>27.660010</td>\n",
       "      <td>4.157101</td>\n",
       "      <td>0.646032</td>\n",
       "    </tr>\n",
       "    <tr>\n",
       "      <th>20</th>\n",
       "      <td>DeepLearning_grid_1_AutoML_20190418_153450_mod...</td>\n",
       "      <td>28.610893</td>\n",
       "      <td>5.348915</td>\n",
       "      <td>28.610893</td>\n",
       "      <td>4.229617</td>\n",
       "      <td>NaN</td>\n",
       "    </tr>\n",
       "    <tr>\n",
       "      <th>21</th>\n",
       "      <td>GBM_grid_1_AutoML_20190418_153450_model_9</td>\n",
       "      <td>28.844981</td>\n",
       "      <td>5.370752</td>\n",
       "      <td>28.844981</td>\n",
       "      <td>4.375456</td>\n",
       "      <td>0.681613</td>\n",
       "    </tr>\n",
       "    <tr>\n",
       "      <th>22</th>\n",
       "      <td>DeepLearning_grid_1_AutoML_20190418_153450_mod...</td>\n",
       "      <td>29.204574</td>\n",
       "      <td>5.404126</td>\n",
       "      <td>29.204574</td>\n",
       "      <td>4.192973</td>\n",
       "      <td>0.637501</td>\n",
       "    </tr>\n",
       "    <tr>\n",
       "      <th>23</th>\n",
       "      <td>DeepLearning_grid_1_AutoML_20190418_153450_mod...</td>\n",
       "      <td>29.684325</td>\n",
       "      <td>5.448332</td>\n",
       "      <td>29.684325</td>\n",
       "      <td>4.184335</td>\n",
       "      <td>NaN</td>\n",
       "    </tr>\n",
       "    <tr>\n",
       "      <th>24</th>\n",
       "      <td>DeepLearning_grid_1_AutoML_20190418_153450_mod...</td>\n",
       "      <td>30.518164</td>\n",
       "      <td>5.524325</td>\n",
       "      <td>30.518164</td>\n",
       "      <td>4.300660</td>\n",
       "      <td>0.640949</td>\n",
       "    </tr>\n",
       "    <tr>\n",
       "      <th>25</th>\n",
       "      <td>DeepLearning_grid_1_AutoML_20190418_153450_mod...</td>\n",
       "      <td>31.554414</td>\n",
       "      <td>5.617332</td>\n",
       "      <td>31.554414</td>\n",
       "      <td>4.303662</td>\n",
       "      <td>NaN</td>\n",
       "    </tr>\n",
       "    <tr>\n",
       "      <th>26</th>\n",
       "      <td>GBM_grid_1_AutoML_20190418_153450_model_5</td>\n",
       "      <td>32.663641</td>\n",
       "      <td>5.715211</td>\n",
       "      <td>32.663641</td>\n",
       "      <td>4.856373</td>\n",
       "      <td>0.737904</td>\n",
       "    </tr>\n",
       "    <tr>\n",
       "      <th>27</th>\n",
       "      <td>DeepLearning_grid_1_AutoML_20190418_153450_mod...</td>\n",
       "      <td>32.805799</td>\n",
       "      <td>5.727635</td>\n",
       "      <td>32.805799</td>\n",
       "      <td>4.351598</td>\n",
       "      <td>NaN</td>\n",
       "    </tr>\n",
       "    <tr>\n",
       "      <th>28</th>\n",
       "      <td>DeepLearning_grid_1_AutoML_20190418_153450_mod...</td>\n",
       "      <td>34.427696</td>\n",
       "      <td>5.867512</td>\n",
       "      <td>34.427696</td>\n",
       "      <td>4.525047</td>\n",
       "      <td>NaN</td>\n",
       "    </tr>\n",
       "    <tr>\n",
       "      <th>29</th>\n",
       "      <td>DeepLearning_grid_1_AutoML_20190418_153450_mod...</td>\n",
       "      <td>35.268195</td>\n",
       "      <td>5.938703</td>\n",
       "      <td>35.268195</td>\n",
       "      <td>4.529525</td>\n",
       "      <td>NaN</td>\n",
       "    </tr>\n",
       "    <tr>\n",
       "      <th>30</th>\n",
       "      <td>GLM_grid_1_AutoML_20190418_153450_model_1</td>\n",
       "      <td>37.770325</td>\n",
       "      <td>6.145757</td>\n",
       "      <td>37.770325</td>\n",
       "      <td>4.908914</td>\n",
       "      <td>0.740319</td>\n",
       "    </tr>\n",
       "    <tr>\n",
       "      <th>31</th>\n",
       "      <td>GBM_grid_1_AutoML_20190418_153450_model_1</td>\n",
       "      <td>39.062530</td>\n",
       "      <td>6.250002</td>\n",
       "      <td>39.062530</td>\n",
       "      <td>5.377341</td>\n",
       "      <td>0.789125</td>\n",
       "    </tr>\n",
       "    <tr>\n",
       "      <th>32</th>\n",
       "      <td>GBM_grid_1_AutoML_20190418_153450_model_12</td>\n",
       "      <td>40.473315</td>\n",
       "      <td>6.361864</td>\n",
       "      <td>40.473315</td>\n",
       "      <td>5.474986</td>\n",
       "      <td>0.802853</td>\n",
       "    </tr>\n",
       "    <tr>\n",
       "      <th>33</th>\n",
       "      <td>GBM_grid_1_AutoML_20190418_153450_model_15</td>\n",
       "      <td>43.270225</td>\n",
       "      <td>6.578011</td>\n",
       "      <td>43.270225</td>\n",
       "      <td>5.685062</td>\n",
       "      <td>0.820522</td>\n",
       "    </tr>\n",
       "    <tr>\n",
       "      <th>34</th>\n",
       "      <td>DeepLearning_grid_1_AutoML_20190418_153450_mod...</td>\n",
       "      <td>45.015455</td>\n",
       "      <td>6.709356</td>\n",
       "      <td>45.015455</td>\n",
       "      <td>5.675698</td>\n",
       "      <td>0.870354</td>\n",
       "    </tr>\n",
       "    <tr>\n",
       "      <th>35</th>\n",
       "      <td>GBM_grid_1_AutoML_20190418_153450_model_13</td>\n",
       "      <td>45.417163</td>\n",
       "      <td>6.739226</td>\n",
       "      <td>45.417163</td>\n",
       "      <td>5.822302</td>\n",
       "      <td>0.833574</td>\n",
       "    </tr>\n",
       "  </tbody>\n",
       "</table>\n",
       "</div>"
      ],
      "text/plain": [
       "                                             model_id  mean_residual_deviance  \\\n",
       "0    StackedEnsemble_AllModels_AutoML_20190418_153450               16.575708   \n",
       "1   StackedEnsemble_BestOfFamily_AutoML_20190418_1...               16.867162   \n",
       "2                        GBM_4_AutoML_20190418_153450               17.321940   \n",
       "3          GBM_grid_1_AutoML_20190418_153450_model_11               17.779478   \n",
       "4                        XRT_1_AutoML_20190418_153450               17.832009   \n",
       "5           GBM_grid_1_AutoML_20190418_153450_model_8               17.892236   \n",
       "6                        GBM_3_AutoML_20190418_153450               18.066172   \n",
       "7                        DRF_1_AutoML_20190418_153450               18.279676   \n",
       "8           GBM_grid_1_AutoML_20190418_153450_model_2               18.444320   \n",
       "9                        GBM_2_AutoML_20190418_153450               18.691352   \n",
       "10                       GBM_5_AutoML_20190418_153450               18.876394   \n",
       "11          GBM_grid_1_AutoML_20190418_153450_model_6               19.124503   \n",
       "12                       GBM_1_AutoML_20190418_153450               19.474900   \n",
       "13         GBM_grid_1_AutoML_20190418_153450_model_10               23.383198   \n",
       "14          GBM_grid_1_AutoML_20190418_153450_model_3               24.258031   \n",
       "15              DeepLearning_1_AutoML_20190418_153450               24.536402   \n",
       "16          GBM_grid_1_AutoML_20190418_153450_model_4               25.437744   \n",
       "17         GBM_grid_1_AutoML_20190418_153450_model_14               26.950499   \n",
       "18  DeepLearning_grid_1_AutoML_20190418_153450_mod...               27.612653   \n",
       "19          GBM_grid_1_AutoML_20190418_153450_model_7               27.660010   \n",
       "20  DeepLearning_grid_1_AutoML_20190418_153450_mod...               28.610893   \n",
       "21          GBM_grid_1_AutoML_20190418_153450_model_9               28.844981   \n",
       "22  DeepLearning_grid_1_AutoML_20190418_153450_mod...               29.204574   \n",
       "23  DeepLearning_grid_1_AutoML_20190418_153450_mod...               29.684325   \n",
       "24  DeepLearning_grid_1_AutoML_20190418_153450_mod...               30.518164   \n",
       "25  DeepLearning_grid_1_AutoML_20190418_153450_mod...               31.554414   \n",
       "26          GBM_grid_1_AutoML_20190418_153450_model_5               32.663641   \n",
       "27  DeepLearning_grid_1_AutoML_20190418_153450_mod...               32.805799   \n",
       "28  DeepLearning_grid_1_AutoML_20190418_153450_mod...               34.427696   \n",
       "29  DeepLearning_grid_1_AutoML_20190418_153450_mod...               35.268195   \n",
       "30          GLM_grid_1_AutoML_20190418_153450_model_1               37.770325   \n",
       "31          GBM_grid_1_AutoML_20190418_153450_model_1               39.062530   \n",
       "32         GBM_grid_1_AutoML_20190418_153450_model_12               40.473315   \n",
       "33         GBM_grid_1_AutoML_20190418_153450_model_15               43.270225   \n",
       "34  DeepLearning_grid_1_AutoML_20190418_153450_mod...               45.015455   \n",
       "35         GBM_grid_1_AutoML_20190418_153450_model_13               45.417163   \n",
       "\n",
       "        rmse        mse       mae     rmsle  \n",
       "0   4.071328  16.575708  2.871407       NaN  \n",
       "1   4.106965  16.867162  2.911271       NaN  \n",
       "2   4.161963  17.321940  2.944226       NaN  \n",
       "3   4.216572  17.779478  2.956645       NaN  \n",
       "4   4.222796  17.832009  3.045021  0.529019  \n",
       "5   4.229922  17.892236  3.035620       NaN  \n",
       "6   4.250432  18.066172  3.061447       NaN  \n",
       "7   4.275474  18.279676  3.034948  0.528345  \n",
       "8   4.294685  18.444320  3.035934       NaN  \n",
       "9   4.323350  18.691352  3.153222       NaN  \n",
       "10  4.344697  18.876394  3.167867       NaN  \n",
       "11  4.373157  19.124503  3.288815  0.565905  \n",
       "12  4.413037  19.474900  3.254367       NaN  \n",
       "13  4.835618  23.383198  3.471994       NaN  \n",
       "14  4.925244  24.258031  3.795639  0.596674  \n",
       "15  4.953423  24.536402  3.734252  0.588782  \n",
       "16  5.043584  25.437744  4.006396  0.636992  \n",
       "17  5.191387  26.950499  4.028042  0.621998  \n",
       "18  5.254774  27.612653  4.015723  0.623849  \n",
       "19  5.259278  27.660010  4.157101  0.646032  \n",
       "20  5.348915  28.610893  4.229617       NaN  \n",
       "21  5.370752  28.844981  4.375456  0.681613  \n",
       "22  5.404126  29.204574  4.192973  0.637501  \n",
       "23  5.448332  29.684325  4.184335       NaN  \n",
       "24  5.524325  30.518164  4.300660  0.640949  \n",
       "25  5.617332  31.554414  4.303662       NaN  \n",
       "26  5.715211  32.663641  4.856373  0.737904  \n",
       "27  5.727635  32.805799  4.351598       NaN  \n",
       "28  5.867512  34.427696  4.525047       NaN  \n",
       "29  5.938703  35.268195  4.529525       NaN  \n",
       "30  6.145757  37.770325  4.908914  0.740319  \n",
       "31  6.250002  39.062530  5.377341  0.789125  \n",
       "32  6.361864  40.473315  5.474986  0.802853  \n",
       "33  6.578011  43.270225  5.685062  0.820522  \n",
       "34  6.709356  45.015455  5.675698  0.870354  \n",
       "35  6.739226  45.417163  5.822302  0.833574  "
      ]
     },
     "execution_count": 63,
     "metadata": {},
     "output_type": "execute_result"
    }
   ],
   "source": [
    "aml_leaderboard_df"
   ]
  },
  {
   "cell_type": "code",
   "execution_count": 64,
   "metadata": {},
   "outputs": [],
   "source": [
    "#  Get best_models and coef_norm()\n",
    "best_models={}\n",
    "best_models=stackedensemble(mod_best)\n",
    "bm=[]\n",
    "if best_models is not None: \n",
    "  if 'Intercept' in best_models.keys():\n",
    "    del best_models['Intercept']\n",
    "  bm=list(best_models.keys())\n",
    "else:\n",
    "  best_models={}\n",
    "  bm=stackedensemble_df(aml_leaderboard_df)   \n",
    "  for b in bm:   \n",
    "    best_models[b]=None\n",
    "\n",
    "if mod_best.model_id not in bm:\n",
    "    bm.append(mod_best.model_id)"
   ]
  },
  {
   "cell_type": "code",
   "execution_count": 65,
   "metadata": {},
   "outputs": [
    {
     "data": {
      "text/plain": [
       "['GBM_4_AutoML_20190418_153450',\n",
       " 'XRT_1_AutoML_20190418_153450',\n",
       " 'DRF_1_AutoML_20190418_153450',\n",
       " 'DeepLearning_1_AutoML_20190418_153450',\n",
       " 'GLM_grid_1_AutoML_20190418_153450_model_1',\n",
       " 'StackedEnsemble_BestOfFamily_AutoML_20190418_153450']"
      ]
     },
     "execution_count": 65,
     "metadata": {},
     "output_type": "execute_result"
    }
   ],
   "source": [
    "bm"
   ]
  },
  {
   "cell_type": "code",
   "execution_count": 66,
   "metadata": {},
   "outputs": [],
   "source": [
    "# Best of Family leaderboard\n",
    "\n",
    "aml_leaderboard_df=aml_leaderboard_df.loc[aml_leaderboard_df['model_id'].isin(bm)]"
   ]
  },
  {
   "cell_type": "code",
   "execution_count": 67,
   "metadata": {},
   "outputs": [
    {
     "data": {
      "text/html": [
       "<div>\n",
       "<style scoped>\n",
       "    .dataframe tbody tr th:only-of-type {\n",
       "        vertical-align: middle;\n",
       "    }\n",
       "\n",
       "    .dataframe tbody tr th {\n",
       "        vertical-align: top;\n",
       "    }\n",
       "\n",
       "    .dataframe thead th {\n",
       "        text-align: right;\n",
       "    }\n",
       "</style>\n",
       "<table border=\"1\" class=\"dataframe\">\n",
       "  <thead>\n",
       "    <tr style=\"text-align: right;\">\n",
       "      <th></th>\n",
       "      <th>model_id</th>\n",
       "      <th>mean_residual_deviance</th>\n",
       "      <th>rmse</th>\n",
       "      <th>mse</th>\n",
       "      <th>mae</th>\n",
       "      <th>rmsle</th>\n",
       "    </tr>\n",
       "  </thead>\n",
       "  <tbody>\n",
       "    <tr>\n",
       "      <th>1</th>\n",
       "      <td>StackedEnsemble_BestOfFamily_AutoML_20190418_1...</td>\n",
       "      <td>16.867162</td>\n",
       "      <td>4.106965</td>\n",
       "      <td>16.867162</td>\n",
       "      <td>2.911271</td>\n",
       "      <td>NaN</td>\n",
       "    </tr>\n",
       "    <tr>\n",
       "      <th>2</th>\n",
       "      <td>GBM_4_AutoML_20190418_153450</td>\n",
       "      <td>17.321940</td>\n",
       "      <td>4.161963</td>\n",
       "      <td>17.321940</td>\n",
       "      <td>2.944226</td>\n",
       "      <td>NaN</td>\n",
       "    </tr>\n",
       "    <tr>\n",
       "      <th>4</th>\n",
       "      <td>XRT_1_AutoML_20190418_153450</td>\n",
       "      <td>17.832009</td>\n",
       "      <td>4.222796</td>\n",
       "      <td>17.832009</td>\n",
       "      <td>3.045021</td>\n",
       "      <td>0.529019</td>\n",
       "    </tr>\n",
       "    <tr>\n",
       "      <th>7</th>\n",
       "      <td>DRF_1_AutoML_20190418_153450</td>\n",
       "      <td>18.279676</td>\n",
       "      <td>4.275474</td>\n",
       "      <td>18.279676</td>\n",
       "      <td>3.034948</td>\n",
       "      <td>0.528345</td>\n",
       "    </tr>\n",
       "    <tr>\n",
       "      <th>15</th>\n",
       "      <td>DeepLearning_1_AutoML_20190418_153450</td>\n",
       "      <td>24.536402</td>\n",
       "      <td>4.953423</td>\n",
       "      <td>24.536402</td>\n",
       "      <td>3.734252</td>\n",
       "      <td>0.588782</td>\n",
       "    </tr>\n",
       "    <tr>\n",
       "      <th>30</th>\n",
       "      <td>GLM_grid_1_AutoML_20190418_153450_model_1</td>\n",
       "      <td>37.770325</td>\n",
       "      <td>6.145757</td>\n",
       "      <td>37.770325</td>\n",
       "      <td>4.908914</td>\n",
       "      <td>0.740319</td>\n",
       "    </tr>\n",
       "  </tbody>\n",
       "</table>\n",
       "</div>"
      ],
      "text/plain": [
       "                                             model_id  mean_residual_deviance  \\\n",
       "1   StackedEnsemble_BestOfFamily_AutoML_20190418_1...               16.867162   \n",
       "2                        GBM_4_AutoML_20190418_153450               17.321940   \n",
       "4                        XRT_1_AutoML_20190418_153450               17.832009   \n",
       "7                        DRF_1_AutoML_20190418_153450               18.279676   \n",
       "15              DeepLearning_1_AutoML_20190418_153450               24.536402   \n",
       "30          GLM_grid_1_AutoML_20190418_153450_model_1               37.770325   \n",
       "\n",
       "        rmse        mse       mae     rmsle  \n",
       "1   4.106965  16.867162  2.911271       NaN  \n",
       "2   4.161963  17.321940  2.944226       NaN  \n",
       "4   4.222796  17.832009  3.045021  0.529019  \n",
       "7   4.275474  18.279676  3.034948  0.528345  \n",
       "15  4.953423  24.536402  3.734252  0.588782  \n",
       "30  6.145757  37.770325  4.908914  0.740319  "
      ]
     },
     "execution_count": 67,
     "metadata": {},
     "output_type": "execute_result"
    }
   ],
   "source": [
    "aml_leaderboard_df"
   ]
  },
  {
   "cell_type": "code",
   "execution_count": 68,
   "metadata": {},
   "outputs": [],
   "source": [
    "# save leaderboard\n",
    "leaderboard_stats=run_id+'_leaderboard.csv'\n",
    "aml_leaderboard_df.to_csv(leaderboard_stats)"
   ]
  },
  {
   "cell_type": "code",
   "execution_count": 69,
   "metadata": {},
   "outputs": [
    {
     "name": "stdout",
     "output_type": "stream",
     "text": [
      "StackedEnsemble_BestOfFamily_AutoML_20190418_153450\n"
     ]
    }
   ],
   "source": [
    "top=aml_leaderboard_df.iloc[0]['model_id']\n",
    "print(top)\n"
   ]
  },
  {
   "cell_type": "code",
   "execution_count": 70,
   "metadata": {},
   "outputs": [
    {
     "name": "stdout",
     "output_type": "stream",
     "text": [
      "StackedEnsemble_BestOfFamily_AutoML_20190418_153450\n",
      "stackedensemble\n"
     ]
    }
   ],
   "source": [
    "mod_best=h2o.get_model(top)\n",
    "print(mod_best._id)\n",
    "print(mod_best.algo)"
   ]
  },
  {
   "cell_type": "code",
   "execution_count": 71,
   "metadata": {},
   "outputs": [],
   "source": [
    "meta_data['mod_best']=mod_best._id\n",
    "meta_data['mod_best_algo']=mod_best.algo"
   ]
  },
  {
   "cell_type": "code",
   "execution_count": 72,
   "metadata": {},
   "outputs": [],
   "source": [
    "meta_data['models']=bm"
   ]
  },
  {
   "cell_type": "code",
   "execution_count": 73,
   "metadata": {},
   "outputs": [],
   "source": [
    "models_path=os.path.join(run_dir,'models')\n",
    "for mod in bm:\n",
    "  try:   \n",
    "    m=h2o.get_model(mod) \n",
    "    h2o.save_model(m, path = models_path)\n",
    "  except:    \n",
    "    pass"
   ]
  },
  {
   "cell_type": "code",
   "execution_count": 74,
   "metadata": {},
   "outputs": [
    {
     "name": "stdout",
     "output_type": "stream",
     "text": [
      "C:\\Users\\damik\\Downloads\\Machine Learning Repo\\Final Project\\INFO6105-FinalProject\\MetaData\\2b59q\\models\n"
     ]
    }
   ],
   "source": [
    "print(models_path)"
   ]
  },
  {
   "cell_type": "code",
   "execution_count": 75,
   "metadata": {},
   "outputs": [
    {
     "name": "stdout",
     "output_type": "stream",
     "text": [
      "{'algo': 'gbm', 'model_id': 'GBM_4_AutoML_20190418_153450', 'varimp': [('registered', 1000072.6875, 1.0, 0.27338784773288016), ('cnt', 638948.5625, 0.6389021223019852, 0.1746680761281091), ('casual', 427871.625, 0.4278405263417415, 0.11696640066947134), ('hum', 258713.046875, 0.2586942430372092, 0.07072386232482926), ('dteday', 190247.40625, 0.1902335786467521, 0.05200754863275915), ('temp', 188861.59375, 0.18884786687067684, 0.05162871187271983), ('atemp', 156216.390625, 0.15620503647141148, 0.04270455872595524), ('weekday', 147985.546875, 0.14797479095738228, 0.040454509618561604), ('windspeed', 144300.59375, 0.14429010566294462, 0.0394471614363423), ('instant', 138248.0625, 0.1382380143243338, 0.03779259321099668), ('mnth', 103349.671875, 0.10334216019173106, 0.028252490754883883), ('weathersit', 103226.6953125, 0.10321919256744025, 0.02821887290073819), ('workingday', 70806.6875, 0.07080154111298036, 0.01935628094104873), ('season', 62980.34375, 0.0629757661989944, 0.017216809180472147), ('yr', 17147.8984375, 0.017146652090226193, 0.004687686310771429), ('holiday', 9096.1259765625, 0.009095464849961219, 0.0024865895594609615)]}\n"
     ]
    }
   ],
   "source": [
    "# GBM\n",
    " \n",
    "mod,mod_id=get_model_by_algo(\"GBM\",best_models)\n",
    "if mod is not None:\n",
    "    try:     \n",
    "        sh_df=mod.scoring_history()\n",
    "        sh_df.to_csv(run_id+'_gbm_scoring_history.csv') \n",
    "    except:\n",
    "        pass   \n",
    "    try:     \n",
    "        stats_gbm={}\n",
    "        stats_gbm=gbm_stats(mod)\n",
    "        n=run_id+'_gbm_stats.json'\n",
    "        dict_to_json(stats_gbm,n)\n",
    "        print(stats_gbm)\n",
    "    except:\n",
    "        pass"
   ]
  },
  {
   "cell_type": "code",
   "execution_count": 76,
   "metadata": {},
   "outputs": [
    {
     "name": "stdout",
     "output_type": "stream",
     "text": [
      "{'algo': 'gbm', 'model_id': 'GBM_4_AutoML_20190418_153450', 'varimp': [('registered', 1000072.6875, 1.0, 0.27338784773288016), ('cnt', 638948.5625, 0.6389021223019852, 0.1746680761281091), ('casual', 427871.625, 0.4278405263417415, 0.11696640066947134), ('hum', 258713.046875, 0.2586942430372092, 0.07072386232482926), ('dteday', 190247.40625, 0.1902335786467521, 0.05200754863275915), ('temp', 188861.59375, 0.18884786687067684, 0.05162871187271983), ('atemp', 156216.390625, 0.15620503647141148, 0.04270455872595524), ('weekday', 147985.546875, 0.14797479095738228, 0.040454509618561604), ('windspeed', 144300.59375, 0.14429010566294462, 0.0394471614363423), ('instant', 138248.0625, 0.1382380143243338, 0.03779259321099668), ('mnth', 103349.671875, 0.10334216019173106, 0.028252490754883883), ('weathersit', 103226.6953125, 0.10321919256744025, 0.02821887290073819), ('workingday', 70806.6875, 0.07080154111298036, 0.01935628094104873), ('season', 62980.34375, 0.0629757661989944, 0.017216809180472147), ('yr', 17147.8984375, 0.017146652090226193, 0.004687686310771429), ('holiday', 9096.1259765625, 0.009095464849961219, 0.0024865895594609615)]}\n"
     ]
    }
   ],
   "source": [
    "    if mod is not None:\n",
    "        try:    \n",
    "            sh_df=mod.scoring_history()\n",
    "            sh_df.to_csv(run_id+'_dl_scoring_history.csv') \n",
    "        except:\n",
    "            pass \n",
    "        try:\n",
    "            stats_dl={}\n",
    "            stats_dl=dl_stats(mod)\n",
    "            n=run_id+'_dl_stats.json'\n",
    "            dict_to_json(stats_dl,n)\n",
    "            print(stats_dl)\n",
    "        except:\n",
    "            pass    \n",
    "        try:\n",
    "            cf=mod.confusion_matrix()    \n",
    "            cf_df.to_csv(run_id+'_dl_confusion_matrix.csv')\n",
    "        except:\n",
    "            pass"
   ]
  },
  {
   "cell_type": "code",
   "execution_count": 77,
   "metadata": {},
   "outputs": [],
   "source": [
    "# DRF\n",
    "\n",
    "mod,mod_id=get_model_by_algo(\"DRF\",best_models)\n",
    "if mod is not None:\n",
    "    try:     \n",
    "         sh_df=mod.scoring_history()\n",
    "         sh_df.to_csv(run_id+'_drf_scoring_history.csv') \n",
    "    except:\n",
    "         pass  \n",
    "    try: \n",
    "         stats_drf={}\n",
    "         stats_drf=drf_stats(mod)\n",
    "         n=run_id+'_drf_stats.json'\n",
    "         dict_to_json(stats_drf,n)\n",
    "         print(stats_drf)\n",
    "    except:\n",
    "         pass"
   ]
  },
  {
   "cell_type": "code",
   "execution_count": 78,
   "metadata": {},
   "outputs": [],
   "source": [
    "# XRT\n",
    "\n",
    "mod,mod_id=get_model_by_algo(\"XRT\",best_models)\n",
    "if mod is not None:\n",
    "    try:     \n",
    "         sh_df=mod.scoring_history()\n",
    "         sh_df.to_csv(run_id+'_xrt_scoring_history.csv')\n",
    "    except:\n",
    "         pass     \n",
    "    try:        \n",
    "         stats_xrt={}\n",
    "         stats_xrt=xrt_stats(mod)\n",
    "         n=run_id+'_xrt_stats.json'\n",
    "         dict_to_json(stats_xrt,n)\n",
    "         print(stats_xrt)\n",
    "    except:\n",
    "         pass"
   ]
  },
  {
   "cell_type": "code",
   "execution_count": 79,
   "metadata": {},
   "outputs": [
    {
     "name": "stdout",
     "output_type": "stream",
     "text": [
      "{'algo': 'glm', 'model_id': 'GLM_grid_1_AutoML_20190418_153450_model_1', 'coef': {'Intercept': 352.10303433754126, 'instant': 0.0013746097720389752, 'dteday': -2.623015458674756e-10, 'season': -0.5117192063681029, 'yr': -5.284455207097917, 'mnth': -0.20556048998059095, 'holiday': 0.3219973589098315, 'weekday': -0.07352417309254684, 'workingday': -0.07189931001375928, 'weathersit': 1.2211883124271194, 'temp': -4.336173993347636, 'atemp': 4.996580313969567, 'hum': -7.046786031348421, 'windspeed': 2.2766309683873165, 'casual': 0.008986657058625456, 'registered': 0.008034769577901014, 'cnt': 0.006237236894980357}, 'coef_norm': {'Intercept': 11.546751826917545, 'instant': 6.896457776777611, 'dteday': -4.760832132466382, 'season': -0.5664312718328266, 'yr': -2.642268976029764, 'mnth': -0.7068764206518403, 'holiday': 0.053826777497199566, 'weekday': -0.14747268772319402, 'workingday': -0.033464141409634045, 'weathersit': 0.7807751465833888, 'temp': -0.8349568452229381, 'atemp': 0.8586634043950618, 'hum': -1.3595352597049188, 'windspeed': 0.2785235530483977, 'casual': 0.4430873993535532, 'registered': 1.2161209162440887, 'cnt': 1.1313574253476844}}\n"
     ]
    }
   ],
   "source": [
    "# GLM\n",
    "\n",
    "mod,mod_id=get_model_by_algo(\"GLM\",best_models)\n",
    "if mod is not None:\n",
    "    try:     \n",
    "         stats_glm={}\n",
    "         stats_glm=glm_stats(mod)\n",
    "         n=run_id+'_glm_stats.json'\n",
    "         dict_to_json(stats_glm,n)\n",
    "         print(stats_glm)\n",
    "    except:\n",
    "         pass"
   ]
  },
  {
   "cell_type": "code",
   "execution_count": 80,
   "metadata": {},
   "outputs": [],
   "source": [
    "# split into training and test for showing how to predict\n",
    "train, test = df.split_frame([0.8])"
   ]
  },
  {
   "cell_type": "code",
   "execution_count": 81,
   "metadata": {},
   "outputs": [
    {
     "name": "stdout",
     "output_type": "stream",
     "text": [
      "stackedensemble prediction progress: |████████████████████████████████████| 100%\n"
     ]
    }
   ],
   "source": [
    "predictions_df=predictions_test(mod_best,test,run_id)"
   ]
  },
  {
   "cell_type": "code",
   "execution_count": 82,
   "metadata": {},
   "outputs": [
    {
     "data": {
      "text/html": [
       "<table>\n",
       "<thead>\n",
       "<tr><th style=\"text-align: right;\">  predict</th></tr>\n",
       "</thead>\n",
       "<tbody>\n",
       "<tr><td style=\"text-align: right;\"> 14.0112 </td></tr>\n",
       "<tr><td style=\"text-align: right;\"> 19.2145 </td></tr>\n",
       "<tr><td style=\"text-align: right;\"> 19.4679 </td></tr>\n",
       "<tr><td style=\"text-align: right;\"> 16.1104 </td></tr>\n",
       "<tr><td style=\"text-align: right;\"> 18.8292 </td></tr>\n",
       "<tr><td style=\"text-align: right;\">  1.86735</td></tr>\n",
       "<tr><td style=\"text-align: right;\"> 13.1164 </td></tr>\n",
       "<tr><td style=\"text-align: right;\"> 16.7841 </td></tr>\n",
       "<tr><td style=\"text-align: right;\">  9.11017</td></tr>\n",
       "<tr><td style=\"text-align: right;\"> 12.215  </td></tr>\n",
       "</tbody>\n",
       "</table>"
      ]
     },
     "metadata": {},
     "output_type": "display_data"
    },
    {
     "data": {
      "text/plain": []
     },
     "execution_count": 82,
     "metadata": {},
     "output_type": "execute_result"
    }
   ],
   "source": [
    "predictions_df.head()"
   ]
  },
  {
   "cell_type": "code",
   "execution_count": 83,
   "metadata": {},
   "outputs": [
    {
     "name": "stdout",
     "output_type": "stream",
     "text": [
      "Rows:3550\n",
      "Cols:1\n",
      "\n",
      "\n"
     ]
    },
    {
     "data": {
      "text/html": [
       "<table>\n",
       "<thead>\n",
       "<tr><th>       </th><th>predict            </th></tr>\n",
       "</thead>\n",
       "<tbody>\n",
       "<tr><td>type   </td><td>real               </td></tr>\n",
       "<tr><td>mins   </td><td>-0.9868423783315381</td></tr>\n",
       "<tr><td>mean   </td><td>11.557843984161305 </td></tr>\n",
       "<tr><td>maxs   </td><td>24.292976191144653 </td></tr>\n",
       "<tr><td>sigma  </td><td>6.218116809243477  </td></tr>\n",
       "<tr><td>zeros  </td><td>0                  </td></tr>\n",
       "<tr><td>missing</td><td>0                  </td></tr>\n",
       "<tr><td>0      </td><td>14.011181153109503 </td></tr>\n",
       "<tr><td>1      </td><td>19.21447893388556  </td></tr>\n",
       "<tr><td>2      </td><td>19.46794498997935  </td></tr>\n",
       "<tr><td>3      </td><td>16.11036790655445  </td></tr>\n",
       "<tr><td>4      </td><td>18.829237121323324 </td></tr>\n",
       "<tr><td>5      </td><td>1.8673515707033297 </td></tr>\n",
       "<tr><td>6      </td><td>13.116430060033164 </td></tr>\n",
       "<tr><td>7      </td><td>16.784141767712377 </td></tr>\n",
       "<tr><td>8      </td><td>9.110174792226514  </td></tr>\n",
       "<tr><td>9      </td><td>12.21495624187302  </td></tr>\n",
       "</tbody>\n",
       "</table>"
      ]
     },
     "metadata": {},
     "output_type": "display_data"
    }
   ],
   "source": [
    "predictions_df.describe()"
   ]
  },
  {
   "cell_type": "code",
   "execution_count": 84,
   "metadata": {},
   "outputs": [],
   "source": [
    "# Update and save meta data\n",
    "\n",
    "meta_data['end_time'] = time.time()\n",
    "meta_data['execution_time'] = meta_data['end_time'] - meta_data['start_time']\n",
    "  \n",
    "n=run_id+'_meta_data.json'\n",
    "dict_to_json(meta_data,n)"
   ]
  },
  {
   "cell_type": "code",
   "execution_count": 85,
   "metadata": {},
   "outputs": [
    {
     "data": {
      "text/plain": [
       "{'start_time': 1555615683.23735,\n",
       " 'target': None,\n",
       " 'server_path': 'C:\\\\Users\\\\damik\\\\Downloads\\\\Machine Learning Repo\\\\Final Project\\\\INFO6105-FinalProject\\\\MetaData',\n",
       " 'data_path': '/Users/damik/Downloads/Machine Learning Repo/Final Project/INFO6105-FinalProject/hour.csv',\n",
       " 'test_path': None,\n",
       " 'max_models': 9,\n",
       " 'run_time': 500,\n",
       " 'run_id': '2b59q',\n",
       " 'scale': False,\n",
       " 'classification': False,\n",
       " 'model_path': None,\n",
       " 'balance': False,\n",
       " 'balance_threshold': 0.2,\n",
       " 'project': None,\n",
       " 'end_time': 1555617387.6609664,\n",
       " 'execution_time': 1704.4236164093018,\n",
       " 'run_path': 'C:\\\\Users\\\\damik\\\\Downloads\\\\Machine Learning Repo\\\\Final Project\\\\INFO6105-FinalProject\\\\MetaData\\\\2b59q',\n",
       " 'nthreads': 1,\n",
       " 'min_mem_size': 4,\n",
       " 'analysis': 0,\n",
       " 'X': ['instant',\n",
       "  'season',\n",
       "  'yr',\n",
       "  'mnth',\n",
       "  'holiday',\n",
       "  'weekday',\n",
       "  'workingday',\n",
       "  'weathersit',\n",
       "  'casual',\n",
       "  'registered',\n",
       "  'cnt',\n",
       "  'dteday',\n",
       "  'temp',\n",
       "  'atemp',\n",
       "  'hum',\n",
       "  'windspeed'],\n",
       " 'variables': {'instant': 'int',\n",
       "  'dteday': 'time',\n",
       "  'season': 'int',\n",
       "  'yr': 'int',\n",
       "  'mnth': 'int',\n",
       "  'hr': 'int',\n",
       "  'holiday': 'int',\n",
       "  'weekday': 'int',\n",
       "  'workingday': 'int',\n",
       "  'weathersit': 'int',\n",
       "  'temp': 'real',\n",
       "  'atemp': 'real',\n",
       "  'hum': 'real',\n",
       "  'windspeed': 'real',\n",
       "  'casual': 'int',\n",
       "  'registered': 'int',\n",
       "  'cnt': 'int'},\n",
       " 'model_execution_time': 507.9101300239563,\n",
       " 'mod_best': 'StackedEnsemble_BestOfFamily_AutoML_20190418_153450',\n",
       " 'mod_best_algo': 'stackedensemble',\n",
       " 'models': ['GBM_4_AutoML_20190418_153450',\n",
       "  'XRT_1_AutoML_20190418_153450',\n",
       "  'DRF_1_AutoML_20190418_153450',\n",
       "  'DeepLearning_1_AutoML_20190418_153450',\n",
       "  'GLM_grid_1_AutoML_20190418_153450_model_1',\n",
       "  'StackedEnsemble_BestOfFamily_AutoML_20190418_153450']}"
      ]
     },
     "execution_count": 85,
     "metadata": {},
     "output_type": "execute_result"
    }
   ],
   "source": [
    "meta_data"
   ]
  },
  {
   "cell_type": "code",
   "execution_count": 86,
   "metadata": {},
   "outputs": [
    {
     "name": "stdout",
     "output_type": "stream",
     "text": [
      "Writing H2O logs to C:\\Users\\damik\\Downloads\\Machine Learning Repo\\Final Project\\INFO6105-FinalProject\\MetaData\\2b59q\\logs\\2b59q_autoh2o_log.zip\n"
     ]
    },
    {
     "data": {
      "text/plain": [
       "'C:\\\\Users\\\\damik\\\\Downloads\\\\Machine Learning Repo\\\\Final Project\\\\INFO6105-FinalProject\\\\MetaData\\\\2b59q\\\\logs\\\\2b59q_autoh2o_log.zip'"
      ]
     },
     "execution_count": 86,
     "metadata": {},
     "output_type": "execute_result"
    }
   ],
   "source": [
    "# Save logs\n",
    "h2o.download_all_logs(dirname=logs_path, filename=logfile)"
   ]
  },
  {
   "cell_type": "code",
   "execution_count": 87,
   "metadata": {},
   "outputs": [],
   "source": [
    "# Clean up\n",
    "os.chdir(server_path)"
   ]
  },
  {
   "cell_type": "code",
   "execution_count": 88,
   "metadata": {},
   "outputs": [],
   "source": [
    "def predictions_test(mod,test,run_id):\n",
    "    mod_perf=mod_best.model_performance(test)          \n",
    "    stats_test={}\n",
    "    stats_test=model_performance_stats(mod_perf)\n",
    "    print(stats_test)   \n",
    "    n=run_id+'_test_stats.json'\n",
    "    dict_to_json(stats_test,n) \n",
    "    try:\n",
    "      cf=mod_perf.confusion_matrix()\n",
    "      print(cf)   \n",
    "#      cf=mod_perf.confusion_matrix(metrics=[\"f1\",\"f2\",\"f0point5\",\"accuracy\",\"precision\",\"recall\",\"specificity\",\"absolute_mcc\",\"min_per_class_accuracy\",\"mean_per_class_accuracy\"])\n",
    "      cf_df=cf.table.as_data_frame()\n",
    "      print(cf_df)    \n",
    "      cf_df.to_csv(run_id+'_test_confusion_matrix.csv')\n",
    "    except:\n",
    "      pass\n",
    "    predictions = mod_best.predict(test)    \n",
    "    predictions_df=test.cbind(predictions).as_data_frame() \n",
    "    predictions_df.to_csv(run_id+'_predictions.csv')\n",
    "    return predictions"
   ]
  },
  {
   "cell_type": "code",
   "execution_count": 89,
   "metadata": {},
   "outputs": [
    {
     "name": "stdout",
     "output_type": "stream",
     "text": [
      "H2O session _sid_bee0 closed.\n"
     ]
    }
   ],
   "source": [
    "h2o.cluster().shutdown()"
   ]
  }
 ],
 "metadata": {
  "kernelspec": {
   "display_name": "Python 3",
   "language": "python",
   "name": "python3"
  },
  "language_info": {
   "codemirror_mode": {
    "name": "ipython",
    "version": 3
   },
   "file_extension": ".py",
   "mimetype": "text/x-python",
   "name": "python",
   "nbconvert_exporter": "python",
   "pygments_lexer": "ipython3",
   "version": "3.7.1"
  }
 },
 "nbformat": 4,
 "nbformat_minor": 2
}
