{
 "cells": [
  {
   "cell_type": "markdown",
   "metadata": {},
   "source": [
    "# ABSTRACT\n",
    "\n",
    "Hyperparameters are parameters that are specified prior to running machine learning algorithms that have a large effect on the predictive power of statistical models. Knowledge of the relative importance of a hyperparameter to an algorithm and its range of values is crucial to hyperparameter tuning and creating effective models. To either experts or non-experts, determining hyperparameters that optimize model performance can be a tedious and difficult task. Therefore, we develop a hyperparameter database that allows users to visualize and understand how to choose hyperparameters that maximize the predictive power of their models. \n",
    "\n",
    "The database is created by running millions of hyperparameter values, over thousands of public datasets and calculating the individual conditional expectation of every hyperparameter to the quality of a model.                 \n",
    "\n",
    "We analyze the **effect of hyperparameters** on algorithms such as                                                  \n",
    "Distributed Random Forest (DRF),                                                                               \n",
    "Generalized Linear Model (GLM),                                                                                \n",
    "Gradient Boosting Machine (GBM),                                                                            \n",
    "Boosting (XGBoost) and several more.                                                                          \n",
    "Consequently, the database attempts to provide a one-stop platform for data scientists to identify hyperparameters that have the most effect on their models in order to speed up the process of developing effective predictive models. Moreover, the database will also use these public datasets to build models that can predict hyperparameters without search and for visualizing and teaching concepts such as statistical power and bias/variance tradeoff. The raw data will also be publically available for the research community.\n"
   ]
  },
  {
   "cell_type": "code",
   "execution_count": 1,
   "metadata": {},
   "outputs": [],
   "source": [
    "# import h2o package and specific estimator \n",
    "import h2o\n",
    "from h2o.automl import H2OAutoML\n",
    "import random, os, sys\n",
    "from datetime import datetime\n",
    "import pandas as pd\n",
    "import logging\n",
    "import csv\n",
    "import optparse\n",
    "import time\n",
    "import json\n",
    "from distutils.util import strtobool\n",
    "import psutil\n",
    "\n",
    "import warnings\n",
    "warnings.filterwarnings('ignore')"
   ]
  },
  {
   "cell_type": "code",
   "execution_count": 2,
   "metadata": {},
   "outputs": [
    {
     "name": "stdout",
     "output_type": "stream",
     "text": [
      "Checking whether there is an H2O instance running at http://localhost:54321 ..... not found.\n",
      "Attempting to start a local H2O server...\n",
      "  Java Version: java version \"11.0.2\" 2019-01-15 LTS; Java(TM) SE Runtime Environment 18.9 (build 11.0.2+9-LTS); Java HotSpot(TM) 64-Bit Server VM 18.9 (build 11.0.2+9-LTS, mixed mode)\n",
      "  Starting server from /anaconda3/lib/python3.7/site-packages/h2o/backend/bin/h2o.jar\n",
      "  Ice root: /var/folders/8c/swkczny90t36p2798_2khxfh0000gn/T/tmpyhfnuok5\n",
      "  JVM stdout: /var/folders/8c/swkczny90t36p2798_2khxfh0000gn/T/tmpyhfnuok5/h2o_newzysharma_started_from_python.out\n",
      "  JVM stderr: /var/folders/8c/swkczny90t36p2798_2khxfh0000gn/T/tmpyhfnuok5/h2o_newzysharma_started_from_python.err\n",
      "  Server is running at http://127.0.0.1:54321\n",
      "Connecting to H2O server at http://127.0.0.1:54321 ... successful.\n"
     ]
    },
    {
     "data": {
      "text/html": [
       "<div style=\"overflow:auto\"><table style=\"width:50%\"><tr><td>H2O cluster uptime:</td>\n",
       "<td>02 secs</td></tr>\n",
       "<tr><td>H2O cluster timezone:</td>\n",
       "<td>America/New_York</td></tr>\n",
       "<tr><td>H2O data parsing timezone:</td>\n",
       "<td>UTC</td></tr>\n",
       "<tr><td>H2O cluster version:</td>\n",
       "<td>3.24.0.1</td></tr>\n",
       "<tr><td>H2O cluster version age:</td>\n",
       "<td>16 days </td></tr>\n",
       "<tr><td>H2O cluster name:</td>\n",
       "<td>H2O_from_python_newzysharma_azqram</td></tr>\n",
       "<tr><td>H2O cluster total nodes:</td>\n",
       "<td>1</td></tr>\n",
       "<tr><td>H2O cluster free memory:</td>\n",
       "<td>2 Gb</td></tr>\n",
       "<tr><td>H2O cluster total cores:</td>\n",
       "<td>4</td></tr>\n",
       "<tr><td>H2O cluster allowed cores:</td>\n",
       "<td>4</td></tr>\n",
       "<tr><td>H2O cluster status:</td>\n",
       "<td>accepting new members, healthy</td></tr>\n",
       "<tr><td>H2O connection url:</td>\n",
       "<td>http://127.0.0.1:54321</td></tr>\n",
       "<tr><td>H2O connection proxy:</td>\n",
       "<td>None</td></tr>\n",
       "<tr><td>H2O internal security:</td>\n",
       "<td>False</td></tr>\n",
       "<tr><td>H2O API Extensions:</td>\n",
       "<td>Amazon S3, XGBoost, Algos, AutoML, Core V3, Core V4</td></tr>\n",
       "<tr><td>Python version:</td>\n",
       "<td>3.7.1 final</td></tr></table></div>"
      ],
      "text/plain": [
       "--------------------------  ---------------------------------------------------\n",
       "H2O cluster uptime:         02 secs\n",
       "H2O cluster timezone:       America/New_York\n",
       "H2O data parsing timezone:  UTC\n",
       "H2O cluster version:        3.24.0.1\n",
       "H2O cluster version age:    16 days\n",
       "H2O cluster name:           H2O_from_python_newzysharma_azqram\n",
       "H2O cluster total nodes:    1\n",
       "H2O cluster free memory:    2 Gb\n",
       "H2O cluster total cores:    4\n",
       "H2O cluster allowed cores:  4\n",
       "H2O cluster status:         accepting new members, healthy\n",
       "H2O connection url:         http://127.0.0.1:54321\n",
       "H2O connection proxy:\n",
       "H2O internal security:      False\n",
       "H2O API Extensions:         Amazon S3, XGBoost, Algos, AutoML, Core V3, Core V4\n",
       "Python version:             3.7.1 final\n",
       "--------------------------  ---------------------------------------------------"
      ]
     },
     "metadata": {},
     "output_type": "display_data"
    }
   ],
   "source": [
    "h2o.init(strict_version_check=False) # start h2o"
   ]
  },
  {
   "cell_type": "code",
   "execution_count": 4,
   "metadata": {},
   "outputs": [
    {
     "name": "stdout",
     "output_type": "stream",
     "text": [
      "Parse progress: |█████████████████████████████████████████████████████████| 100%\n"
     ]
    }
   ],
   "source": [
    "#importing data to the server\n",
    "hp = h2o.import_file(path=\"hour.csv\")"
   ]
  },
  {
   "cell_type": "code",
   "execution_count": 5,
   "metadata": {},
   "outputs": [
    {
     "data": {
      "text/html": [
       "<table>\n",
       "<thead>\n",
       "<tr><th style=\"text-align: right;\">  instant</th><th>dteday             </th><th style=\"text-align: right;\">  season</th><th style=\"text-align: right;\">  yr</th><th style=\"text-align: right;\">  mnth</th><th style=\"text-align: right;\">  hr</th><th style=\"text-align: right;\">  holiday</th><th style=\"text-align: right;\">  weekday</th><th style=\"text-align: right;\">  workingday</th><th style=\"text-align: right;\">  weathersit</th><th style=\"text-align: right;\">  temp</th><th style=\"text-align: right;\">  atemp</th><th style=\"text-align: right;\">  hum</th><th style=\"text-align: right;\">  windspeed</th><th style=\"text-align: right;\">  casual</th><th style=\"text-align: right;\">  registered</th><th style=\"text-align: right;\">  cnt</th></tr>\n",
       "</thead>\n",
       "<tbody>\n",
       "<tr><td style=\"text-align: right;\">        1</td><td>2011-01-01 00:00:00</td><td style=\"text-align: right;\">       1</td><td style=\"text-align: right;\">   0</td><td style=\"text-align: right;\">     1</td><td style=\"text-align: right;\">   0</td><td style=\"text-align: right;\">        0</td><td style=\"text-align: right;\">        6</td><td style=\"text-align: right;\">           0</td><td style=\"text-align: right;\">           1</td><td style=\"text-align: right;\">  0.24</td><td style=\"text-align: right;\"> 0.2879</td><td style=\"text-align: right;\"> 0.81</td><td style=\"text-align: right;\">     0     </td><td style=\"text-align: right;\">       3</td><td style=\"text-align: right;\">          13</td><td style=\"text-align: right;\">   16</td></tr>\n",
       "<tr><td style=\"text-align: right;\">        2</td><td>2011-01-01 00:00:00</td><td style=\"text-align: right;\">       1</td><td style=\"text-align: right;\">   0</td><td style=\"text-align: right;\">     1</td><td style=\"text-align: right;\">   1</td><td style=\"text-align: right;\">        0</td><td style=\"text-align: right;\">        6</td><td style=\"text-align: right;\">           0</td><td style=\"text-align: right;\">           1</td><td style=\"text-align: right;\">  0.22</td><td style=\"text-align: right;\"> 0.2727</td><td style=\"text-align: right;\"> 0.8 </td><td style=\"text-align: right;\">     0     </td><td style=\"text-align: right;\">       8</td><td style=\"text-align: right;\">          32</td><td style=\"text-align: right;\">   40</td></tr>\n",
       "<tr><td style=\"text-align: right;\">        3</td><td>2011-01-01 00:00:00</td><td style=\"text-align: right;\">       1</td><td style=\"text-align: right;\">   0</td><td style=\"text-align: right;\">     1</td><td style=\"text-align: right;\">   2</td><td style=\"text-align: right;\">        0</td><td style=\"text-align: right;\">        6</td><td style=\"text-align: right;\">           0</td><td style=\"text-align: right;\">           1</td><td style=\"text-align: right;\">  0.22</td><td style=\"text-align: right;\"> 0.2727</td><td style=\"text-align: right;\"> 0.8 </td><td style=\"text-align: right;\">     0     </td><td style=\"text-align: right;\">       5</td><td style=\"text-align: right;\">          27</td><td style=\"text-align: right;\">   32</td></tr>\n",
       "<tr><td style=\"text-align: right;\">        4</td><td>2011-01-01 00:00:00</td><td style=\"text-align: right;\">       1</td><td style=\"text-align: right;\">   0</td><td style=\"text-align: right;\">     1</td><td style=\"text-align: right;\">   3</td><td style=\"text-align: right;\">        0</td><td style=\"text-align: right;\">        6</td><td style=\"text-align: right;\">           0</td><td style=\"text-align: right;\">           1</td><td style=\"text-align: right;\">  0.24</td><td style=\"text-align: right;\"> 0.2879</td><td style=\"text-align: right;\"> 0.75</td><td style=\"text-align: right;\">     0     </td><td style=\"text-align: right;\">       3</td><td style=\"text-align: right;\">          10</td><td style=\"text-align: right;\">   13</td></tr>\n",
       "<tr><td style=\"text-align: right;\">        5</td><td>2011-01-01 00:00:00</td><td style=\"text-align: right;\">       1</td><td style=\"text-align: right;\">   0</td><td style=\"text-align: right;\">     1</td><td style=\"text-align: right;\">   4</td><td style=\"text-align: right;\">        0</td><td style=\"text-align: right;\">        6</td><td style=\"text-align: right;\">           0</td><td style=\"text-align: right;\">           1</td><td style=\"text-align: right;\">  0.24</td><td style=\"text-align: right;\"> 0.2879</td><td style=\"text-align: right;\"> 0.75</td><td style=\"text-align: right;\">     0     </td><td style=\"text-align: right;\">       0</td><td style=\"text-align: right;\">           1</td><td style=\"text-align: right;\">    1</td></tr>\n",
       "<tr><td style=\"text-align: right;\">        6</td><td>2011-01-01 00:00:00</td><td style=\"text-align: right;\">       1</td><td style=\"text-align: right;\">   0</td><td style=\"text-align: right;\">     1</td><td style=\"text-align: right;\">   5</td><td style=\"text-align: right;\">        0</td><td style=\"text-align: right;\">        6</td><td style=\"text-align: right;\">           0</td><td style=\"text-align: right;\">           2</td><td style=\"text-align: right;\">  0.24</td><td style=\"text-align: right;\"> 0.2576</td><td style=\"text-align: right;\"> 0.75</td><td style=\"text-align: right;\">     0.0896</td><td style=\"text-align: right;\">       0</td><td style=\"text-align: right;\">           1</td><td style=\"text-align: right;\">    1</td></tr>\n",
       "<tr><td style=\"text-align: right;\">        7</td><td>2011-01-01 00:00:00</td><td style=\"text-align: right;\">       1</td><td style=\"text-align: right;\">   0</td><td style=\"text-align: right;\">     1</td><td style=\"text-align: right;\">   6</td><td style=\"text-align: right;\">        0</td><td style=\"text-align: right;\">        6</td><td style=\"text-align: right;\">           0</td><td style=\"text-align: right;\">           1</td><td style=\"text-align: right;\">  0.22</td><td style=\"text-align: right;\"> 0.2727</td><td style=\"text-align: right;\"> 0.8 </td><td style=\"text-align: right;\">     0     </td><td style=\"text-align: right;\">       2</td><td style=\"text-align: right;\">           0</td><td style=\"text-align: right;\">    2</td></tr>\n",
       "<tr><td style=\"text-align: right;\">        8</td><td>2011-01-01 00:00:00</td><td style=\"text-align: right;\">       1</td><td style=\"text-align: right;\">   0</td><td style=\"text-align: right;\">     1</td><td style=\"text-align: right;\">   7</td><td style=\"text-align: right;\">        0</td><td style=\"text-align: right;\">        6</td><td style=\"text-align: right;\">           0</td><td style=\"text-align: right;\">           1</td><td style=\"text-align: right;\">  0.2 </td><td style=\"text-align: right;\"> 0.2576</td><td style=\"text-align: right;\"> 0.86</td><td style=\"text-align: right;\">     0     </td><td style=\"text-align: right;\">       1</td><td style=\"text-align: right;\">           2</td><td style=\"text-align: right;\">    3</td></tr>\n",
       "<tr><td style=\"text-align: right;\">        9</td><td>2011-01-01 00:00:00</td><td style=\"text-align: right;\">       1</td><td style=\"text-align: right;\">   0</td><td style=\"text-align: right;\">     1</td><td style=\"text-align: right;\">   8</td><td style=\"text-align: right;\">        0</td><td style=\"text-align: right;\">        6</td><td style=\"text-align: right;\">           0</td><td style=\"text-align: right;\">           1</td><td style=\"text-align: right;\">  0.24</td><td style=\"text-align: right;\"> 0.2879</td><td style=\"text-align: right;\"> 0.75</td><td style=\"text-align: right;\">     0     </td><td style=\"text-align: right;\">       1</td><td style=\"text-align: right;\">           7</td><td style=\"text-align: right;\">    8</td></tr>\n",
       "<tr><td style=\"text-align: right;\">       10</td><td>2011-01-01 00:00:00</td><td style=\"text-align: right;\">       1</td><td style=\"text-align: right;\">   0</td><td style=\"text-align: right;\">     1</td><td style=\"text-align: right;\">   9</td><td style=\"text-align: right;\">        0</td><td style=\"text-align: right;\">        6</td><td style=\"text-align: right;\">           0</td><td style=\"text-align: right;\">           1</td><td style=\"text-align: right;\">  0.32</td><td style=\"text-align: right;\"> 0.3485</td><td style=\"text-align: right;\"> 0.76</td><td style=\"text-align: right;\">     0     </td><td style=\"text-align: right;\">       8</td><td style=\"text-align: right;\">           6</td><td style=\"text-align: right;\">   14</td></tr>\n",
       "</tbody>\n",
       "</table>"
      ]
     },
     "metadata": {},
     "output_type": "display_data"
    },
    {
     "data": {
      "text/plain": []
     },
     "execution_count": 5,
     "metadata": {},
     "output_type": "execute_result"
    }
   ],
   "source": [
    "#Displaying the head\n",
    "hp.head()"
   ]
  },
  {
   "cell_type": "code",
   "execution_count": 6,
   "metadata": {},
   "outputs": [
    {
     "name": "stdout",
     "output_type": "stream",
     "text": [
      "Rows:17379\n",
      "Cols:17\n",
      "\n",
      "\n"
     ]
    },
    {
     "data": {
      "text/html": [
       "<table>\n",
       "<thead>\n",
       "<tr><th>       </th><th>instant          </th><th>dteday             </th><th>season            </th><th>yr                </th><th>mnth              </th><th>hr                </th><th>holiday             </th><th>weekday          </th><th>workingday        </th><th>weathersit        </th><th>temp               </th><th>atemp              </th><th>hum                </th><th>windspeed         </th><th>casual           </th><th>registered        </th><th>cnt               </th></tr>\n",
       "</thead>\n",
       "<tbody>\n",
       "<tr><td>type   </td><td>int              </td><td>time               </td><td>int               </td><td>int               </td><td>int               </td><td>int               </td><td>int                 </td><td>int              </td><td>int               </td><td>int               </td><td>real               </td><td>real               </td><td>real               </td><td>real              </td><td>int              </td><td>int               </td><td>int               </td></tr>\n",
       "<tr><td>mins   </td><td>1.0              </td><td>1293840000000.0    </td><td>1.0               </td><td>0.0               </td><td>1.0               </td><td>0.0               </td><td>0.0                 </td><td>0.0              </td><td>0.0               </td><td>1.0               </td><td>0.02               </td><td>0.0                </td><td>0.0                </td><td>0.0               </td><td>0.0              </td><td>0.0               </td><td>1.0               </td></tr>\n",
       "<tr><td>mean   </td><td>8690.0           </td><td>1325477314552.0461 </td><td>2.501639910236492 </td><td>0.5025605615973301</td><td>6.5377754761493785</td><td>11.546751826917548</td><td>0.028770355026181024</td><td>3.003682605443351</td><td>0.6827205247712756</td><td>1.425283387997008 </td><td>0.4969871684216584 </td><td>0.47577510213476026</td><td>0.6272288394038784 </td><td>0.1900976063064618</td><td>35.67621842453536</td><td>153.78686920996606</td><td>189.4630876345014 </td></tr>\n",
       "<tr><td>maxs   </td><td>17379.0          </td><td>1356912000000.0    </td><td>4.0               </td><td>1.0               </td><td>12.0              </td><td>23.0              </td><td>1.0                 </td><td>6.0              </td><td>1.0               </td><td>4.0               </td><td>1.0                </td><td>1.0                </td><td>1.0                </td><td>0.8507            </td><td>367.0            </td><td>886.0             </td><td>977.0             </td></tr>\n",
       "<tr><td>sigma  </td><td>5017.029499614288</td><td>18150225217.779854 </td><td>1.1069181394480765</td><td>0.5000078290910197</td><td>3.438775713750168 </td><td>6.914405095264493 </td><td>0.16716527638437123 </td><td>2.005771456110988</td><td>0.4654306335238829</td><td>0.6393568777542534</td><td>0.19255612124972193</td><td>0.17185021563535932</td><td>0.19292983406291514</td><td>0.1223402285727905</td><td>49.30503038705309</td><td>151.35728591258314</td><td>181.38759909186476</td></tr>\n",
       "<tr><td>zeros  </td><td>0                </td><td>0                  </td><td>0                 </td><td>8645              </td><td>0                 </td><td>726               </td><td>16879               </td><td>2502             </td><td>5514              </td><td>0                 </td><td>0                  </td><td>2                  </td><td>22                 </td><td>2180              </td><td>1581             </td><td>24                </td><td>0                 </td></tr>\n",
       "<tr><td>missing</td><td>0                </td><td>0                  </td><td>0                 </td><td>0                 </td><td>0                 </td><td>0                 </td><td>0                   </td><td>0                </td><td>0                 </td><td>0                 </td><td>0                  </td><td>0                  </td><td>0                  </td><td>0                 </td><td>0                </td><td>0                 </td><td>0                 </td></tr>\n",
       "<tr><td>0      </td><td>1.0              </td><td>2011-01-01 00:00:00</td><td>1.0               </td><td>0.0               </td><td>1.0               </td><td>0.0               </td><td>0.0                 </td><td>6.0              </td><td>0.0               </td><td>1.0               </td><td>0.24               </td><td>0.2879             </td><td>0.81               </td><td>0.0               </td><td>3.0              </td><td>13.0              </td><td>16.0              </td></tr>\n",
       "<tr><td>1      </td><td>2.0              </td><td>2011-01-01 00:00:00</td><td>1.0               </td><td>0.0               </td><td>1.0               </td><td>1.0               </td><td>0.0                 </td><td>6.0              </td><td>0.0               </td><td>1.0               </td><td>0.22               </td><td>0.2727             </td><td>0.8                </td><td>0.0               </td><td>8.0              </td><td>32.0              </td><td>40.0              </td></tr>\n",
       "<tr><td>2      </td><td>3.0              </td><td>2011-01-01 00:00:00</td><td>1.0               </td><td>0.0               </td><td>1.0               </td><td>2.0               </td><td>0.0                 </td><td>6.0              </td><td>0.0               </td><td>1.0               </td><td>0.22               </td><td>0.2727             </td><td>0.8                </td><td>0.0               </td><td>5.0              </td><td>27.0              </td><td>32.0              </td></tr>\n",
       "<tr><td>3      </td><td>4.0              </td><td>2011-01-01 00:00:00</td><td>1.0               </td><td>0.0               </td><td>1.0               </td><td>3.0               </td><td>0.0                 </td><td>6.0              </td><td>0.0               </td><td>1.0               </td><td>0.24               </td><td>0.2879             </td><td>0.75               </td><td>0.0               </td><td>3.0              </td><td>10.0              </td><td>13.0              </td></tr>\n",
       "<tr><td>4      </td><td>5.0              </td><td>2011-01-01 00:00:00</td><td>1.0               </td><td>0.0               </td><td>1.0               </td><td>4.0               </td><td>0.0                 </td><td>6.0              </td><td>0.0               </td><td>1.0               </td><td>0.24               </td><td>0.2879             </td><td>0.75               </td><td>0.0               </td><td>0.0              </td><td>1.0               </td><td>1.0               </td></tr>\n",
       "<tr><td>5      </td><td>6.0              </td><td>2011-01-01 00:00:00</td><td>1.0               </td><td>0.0               </td><td>1.0               </td><td>5.0               </td><td>0.0                 </td><td>6.0              </td><td>0.0               </td><td>2.0               </td><td>0.24               </td><td>0.2576             </td><td>0.75               </td><td>0.0896            </td><td>0.0              </td><td>1.0               </td><td>1.0               </td></tr>\n",
       "<tr><td>6      </td><td>7.0              </td><td>2011-01-01 00:00:00</td><td>1.0               </td><td>0.0               </td><td>1.0               </td><td>6.0               </td><td>0.0                 </td><td>6.0              </td><td>0.0               </td><td>1.0               </td><td>0.22               </td><td>0.2727             </td><td>0.8                </td><td>0.0               </td><td>2.0              </td><td>0.0               </td><td>2.0               </td></tr>\n",
       "<tr><td>7      </td><td>8.0              </td><td>2011-01-01 00:00:00</td><td>1.0               </td><td>0.0               </td><td>1.0               </td><td>7.0               </td><td>0.0                 </td><td>6.0              </td><td>0.0               </td><td>1.0               </td><td>0.2                </td><td>0.2576             </td><td>0.86               </td><td>0.0               </td><td>1.0              </td><td>2.0               </td><td>3.0               </td></tr>\n",
       "<tr><td>8      </td><td>9.0              </td><td>2011-01-01 00:00:00</td><td>1.0               </td><td>0.0               </td><td>1.0               </td><td>8.0               </td><td>0.0                 </td><td>6.0              </td><td>0.0               </td><td>1.0               </td><td>0.24               </td><td>0.2879             </td><td>0.75               </td><td>0.0               </td><td>1.0              </td><td>7.0               </td><td>8.0               </td></tr>\n",
       "<tr><td>9      </td><td>10.0             </td><td>2011-01-01 00:00:00</td><td>1.0               </td><td>0.0               </td><td>1.0               </td><td>9.0               </td><td>0.0                 </td><td>6.0              </td><td>0.0               </td><td>1.0               </td><td>0.32               </td><td>0.3485             </td><td>0.76               </td><td>0.0               </td><td>8.0              </td><td>6.0               </td><td>14.0              </td></tr>\n",
       "</tbody>\n",
       "</table>"
      ]
     },
     "metadata": {},
     "output_type": "display_data"
    }
   ],
   "source": [
    "hp.describe()"
   ]
  },
  {
   "cell_type": "code",
   "execution_count": 7,
   "metadata": {},
   "outputs": [],
   "source": [
    "# Functions\n",
    "\n",
    "def alphabet(n):\n",
    "  alpha='0123456789abcdefghijklmnopqrstuvwxyzABCDEFGHIJKLMNOPQRSTUVWXYZ'    \n",
    "  str=''\n",
    "  r=len(alpha)-1   \n",
    "  while len(str)<n:\n",
    "    i=random.randint(0,r)\n",
    "    str+=alpha[i]   \n",
    "  return str\n",
    "  \n",
    "  \n",
    "def set_meta_data(analysis,run_id,server,data,test,model_path,target,run_time,classification,scale,model,balance,balance_threshold,name,path,nthreads,min_mem_size):\n",
    "  m_data={}\n",
    "  m_data['start_time'] = time.time()\n",
    "  m_data['target']=target\n",
    "  m_data['server_path']=server\n",
    "  m_data['data_path']=data \n",
    "  m_data['test_path']=test\n",
    "  m_data['max_models']=model\n",
    "  m_data['run_time']=run_time\n",
    "  m_data['run_id'] =run_id\n",
    "  m_data['scale']=scale\n",
    "  m_data['classification']=classification\n",
    "  m_data['scale']=False\n",
    "  m_data['model_path']=model_path\n",
    "  m_data['balance']=balance\n",
    "  m_data['balance_threshold']=balance_threshold\n",
    "  m_data['project'] =name\n",
    "  m_data['end_time'] = time.time()\n",
    "  m_data['execution_time'] = 0.0\n",
    "  m_data['run_path'] =path\n",
    "  m_data['nthreads'] = nthreads\n",
    "  m_data['min_mem_size'] = min_mem_size\n",
    "  m_data['analysis'] = analysis\n",
    "  return m_data\n",
    "\n",
    "\n",
    "def dict_to_json(dct,n):\n",
    "  j = json.dumps(dct, indent=4)\n",
    "  f = open(n, 'w')\n",
    "  print(j, file=f)\n",
    "  f.close()\n",
    "  \n",
    "  \n",
    "def stackedensemble(mod):\n",
    "    coef_norm=None\n",
    "    try:\n",
    "      metalearner = h2o.get_model(mod.metalearner()['name'])\n",
    "      coef_norm=metalearner.coef_norm()\n",
    "    except:\n",
    "      pass        \n",
    "    return coef_norm\n",
    "\n",
    "def stackedensemble_df(df):\n",
    "    bm_algo={ 'GBM': None,'GLM': None,'DRF': None,'XRT': None,'Dee': None}\n",
    "    for index, row in df.iterrows():\n",
    "      if len(row['model_id'])>3:\n",
    "        key=row['model_id'][0:3]\n",
    "        if key in bm_algo:\n",
    "          if bm_algo[key] is None:\n",
    "                bm_algo[key]=row['model_id']\n",
    "    bm=list(bm_algo.values()) \n",
    "    bm=list(filter(None.__ne__, bm))             \n",
    "    return bm\n",
    "\n",
    "def se_stats(modl):\n",
    "    d={}\n",
    "    d['algo']=modl.algo\n",
    "    d['model_id']=modl.model_id   \n",
    "    d['auc']=modl.auc()   \n",
    "    d['roc']=modl.roc()\n",
    "    d['mse']=modl.mse()   \n",
    "    d['null_degrees_of_freedom']=modl.null_degrees_of_freedom()\n",
    "    d['null_deviance']=modl.null_deviance()\n",
    "    d['residual_degrees_of_freedom']=modl.residual_degrees_of_freedom()   \n",
    "    d['residual_deviance']=modl.residual_deviance()\n",
    "    d['rmse']=modl.rmse()\n",
    "    return d\n",
    "\n",
    "def get_model_by_algo(algo,models_dict):\n",
    "    mod=None\n",
    "    mod_id=None    \n",
    "    for m in list(models_dict.keys()):\n",
    "        if m[0:3]==algo:\n",
    "            mod_id=m\n",
    "            mod=h2o.get_model(m)      \n",
    "    return mod,mod_id     \n",
    "    \n",
    "    \n",
    "def gbm_stats(modl):\n",
    "    d={}\n",
    "    d['algo']=modl.algo\n",
    "    d['model_id']=modl.model_id   \n",
    "    d['varimp']=modl.varimp()  \n",
    "    return d\n",
    "    \n",
    "    \n",
    "def dl_stats(modl):\n",
    "    d={}\n",
    "    d['algo']=modl.algo\n",
    "    d['model_id']=modl.model_id   \n",
    "    d['varimp']=modl.varimp()  \n",
    "    return d\n",
    "    \n",
    "    \n",
    "def drf_stats(modl):\n",
    "    d={}\n",
    "    d['algo']=modl.algo\n",
    "    d['model_id']=modl.model_id   \n",
    "    d['varimp']=modl.varimp()  \n",
    "    d['roc']=modl.roc()      \n",
    "    return d\n",
    "    \n",
    "def xrt_stats(modl):\n",
    "    d={}\n",
    "    d['algo']=modl.algo\n",
    "    d['model_id']=modl.model_id   \n",
    "    d['varimp']=modl.varimp()  \n",
    "    d['roc']=modl.roc()      \n",
    "    return d\n",
    "    \n",
    "    \n",
    "def glm_stats(modl):\n",
    "    d={}\n",
    "    d['algo']=modl.algo\n",
    "    d['model_id']=modl.model_id   \n",
    "    d['coef']=modl.coef()  \n",
    "    d['coef_norm']=modl.coef_norm()      \n",
    "    return d\n",
    "    \n",
    "def model_performance_stats(perf):\n",
    "    d={}\n",
    "    try:    \n",
    "      d['mse']=perf.mse()\n",
    "    except:\n",
    "      pass      \n",
    "    try:    \n",
    "      d['rmse']=perf.rmse() \n",
    "    except:\n",
    "      pass      \n",
    "    try:    \n",
    "      d['null_degrees_of_freedom']=perf.null_degrees_of_freedom()\n",
    "    except:\n",
    "      pass      \n",
    "    try:    \n",
    "      d['residual_degrees_of_freedom']=perf.residual_degrees_of_freedom()\n",
    "    except:\n",
    "      pass      \n",
    "    try:    \n",
    "      d['residual_deviance']=perf.residual_deviance() \n",
    "    except:\n",
    "      pass      \n",
    "    try:    \n",
    "      d['null_deviance']=perf.null_deviance() \n",
    "    except:\n",
    "      pass      \n",
    "    try:    \n",
    "      d['aic']=perf.aic() \n",
    "    except:\n",
    "      pass      \n",
    "    try:\n",
    "      d['logloss']=perf.logloss() \n",
    "    except:\n",
    "      pass    \n",
    "    try:\n",
    "      d['auc']=perf.auc()\n",
    "    except:\n",
    "      pass  \n",
    "    try:\n",
    "      d['gini']=perf.gini()\n",
    "    except:\n",
    "      pass    \n",
    "    return d\n",
    "    \n",
    "def impute_missing_values(df, x, scal=False):\n",
    "    # determine column types\n",
    "    ints, reals, enums = [], [], []\n",
    "    for key, val in df.types.items():\n",
    "        if key in x:\n",
    "            if val == 'enum':\n",
    "                enums.append(key)\n",
    "            elif val == 'int':\n",
    "                ints.append(key)            \n",
    "            else: \n",
    "                reals.append(key)    \n",
    "    _ = df[reals].impute(method='mean')\n",
    "    _ = df[ints].impute(method='median')\n",
    "    if scal:\n",
    "        df[reals] = df[reals].scale()\n",
    "        df[ints] = df[ints].scale()    \n",
    "    return\n",
    "\n",
    "\n",
    "def get_independent_variables(df, targ):\n",
    "    C = [name for name in df.columns if name != targ]\n",
    "    # determine column types\n",
    "    ints, reals, enums = [], [], []\n",
    "    for key, val in df.types.items():\n",
    "        if key in C:\n",
    "            if val == 'enum':\n",
    "                enums.append(key)\n",
    "            elif val == 'int':\n",
    "                ints.append(key)            \n",
    "            else: \n",
    "                reals.append(key)    \n",
    "    x=ints+enums+reals\n",
    "    return x\n",
    "    \n",
    "def get_all_variables_csv(i):\n",
    "    ivd={}\n",
    "    try:\n",
    "      iv = pd.read_csv(i,header=None)\n",
    "    except:\n",
    "      sys.exit(1)    \n",
    "    col=iv.values.tolist()[0]\n",
    "    dt=iv.values.tolist()[1]\n",
    "    i=0\n",
    "    for c in col:\n",
    "      ivd[c.strip()]=dt[i].strip()\n",
    "      i+=1        \n",
    "    return ivd\n",
    "    \n",
    "    \n",
    "\n",
    "def check_all_variables(df,dct,y=None):     \n",
    "    targ=list(dct.keys())     \n",
    "    for key, val in df.types.items():\n",
    "        if key in targ:\n",
    "          if dct[key] not in ['real','int','enum']:                      \n",
    "            targ.remove(key)  \n",
    "    for key, val in df.types.items():\n",
    "        if key in targ:            \n",
    "          if dct[key] != val:\n",
    "            print('convert ',key,' ',dct[key],' ',val)\n",
    "            if dct[key]=='enum':\n",
    "                try:\n",
    "                  df[key] = df[key].asfactor() \n",
    "                except:\n",
    "                  targ.remove(key)                 \n",
    "            if dct[key]=='int': \n",
    "                try:                \n",
    "                  df[key] = df[key].asnumeric() \n",
    "                except:\n",
    "                  targ.remove(key)                  \n",
    "            if dct[key]=='real':\n",
    "                try:                \n",
    "                  df[key] = df[key].asnumeric()  \n",
    "                except:\n",
    "                  targ.remove(key)                  \n",
    "    if y is None:\n",
    "      y=df.columns[-1] \n",
    "    if y in targ:\n",
    "      targ.remove(y)\n",
    "    else:\n",
    "      y=targ.pop()            \n",
    "    return targ    \n",
    "    \n",
    "def predictions(mod,data,run_id):\n",
    "    test = h2o.import_file(data)\n",
    "    mod_perf=mod_best.model_performance(test)\n",
    "              \n",
    "    stats_test={}\n",
    "    stats_test=model_performance_stats(mod_perf)\n",
    "\n",
    "    n=run_id+'_test_stats.json'\n",
    "    dict_to_json(stats_test,n) \n",
    "\n",
    "    try:    \n",
    "      cf=mod_perf.confusion_matrix(metrics=[\"f1\",\"f2\",\"f0point5\",\"accuracy\",\"precision\",\"recall\",\"specificity\",\"absolute_mcc\",\"min_per_class_accuracy\",\"mean_per_class_accuracy\"])\n",
    "      cf_df=cf[0].table.as_data_frame()\n",
    "      cf_df.to_csv(run_id+'_test_confusion_matrix.csv')\n",
    "    except:\n",
    "      pass\n",
    "\n",
    "    predictions = mod_best.predict(test)\n",
    "    predictions_df=test.cbind(predictions).as_data_frame() \n",
    "    predictions_df.to_csv(run_id+'_predictions.csv')\n",
    "    return\n",
    "\n",
    "def predictions_test(mod,test,run_id):\n",
    "    mod_perf=mod_best.model_performance(test)          \n",
    "    stats_test={}\n",
    "    stats_test=model_performance_stats(mod_perf)\n",
    "    n=run_id+'_test_stats.json'\n",
    "    dict_to_json(stats_test,n) \n",
    "    try:\n",
    "      cf=mod_perf.confusion_matrix()\n",
    "#      cf=mod_perf.confusion_matrix(metrics=[\"f1\",\"f2\",\"f0point5\",\"accuracy\",\"precision\",\"recall\",\"specificity\",\"absolute_mcc\",\"min_per_class_accuracy\",\"mean_per_class_accuracy\"])\n",
    "      cf_df=cf.table.as_data_frame()\n",
    "      cf_df.to_csv(run_id+'_test_confusion_matrix.csv')\n",
    "    except:\n",
    "      pass\n",
    "    predictions = mod_best.predict(test)    \n",
    "    predictions_df=test.cbind(predictions).as_data_frame() \n",
    "    predictions_df.to_csv(run_id+'_predictions.csv')\n",
    "    return predictions\n",
    "\n",
    "def check_X(x,df):\n",
    "    for name in x:\n",
    "        if name not in df.columns:\n",
    "          x.remove(name)  \n",
    "    return x    \n",
    "    \n",
    "    \n",
    "def get_stacked_ensemble(lst):\n",
    "    se=None\n",
    "    for model in model_set:\n",
    "      if 'BestOfFamily' in model:\n",
    "        se=model\n",
    "    if se is None:     \n",
    "      for model in model_set:\n",
    "        if 'AllModels'in model:\n",
    "          se=model           \n",
    "    return se       \n",
    "    \n",
    "def get_variables_types(df):\n",
    "    d={}\n",
    "    for key, val in df.types.items():\n",
    "        d[key]=val           \n",
    "    return d    \n",
    "    \n",
    "#  End Functions"
   ]
  },
  {
   "cell_type": "code",
   "execution_count": 8,
   "metadata": {},
   "outputs": [],
   "source": [
    "all_variables=None"
   ]
  },
  {
   "cell_type": "markdown",
   "metadata": {},
   "source": [
    "# Model with 500 seconds"
   ]
  },
  {
   "cell_type": "code",
   "execution_count": 11,
   "metadata": {},
   "outputs": [],
   "source": [
    "# Assume the following are passed by the user from the web interface\n",
    "\n",
    "'''\n",
    "Need a user id and project id?\n",
    "\n",
    "'''\n",
    "target='cnt' \n",
    "data_file='hour.csv'\n",
    "run_time=500\n",
    "run_id='500_' # Just some arbitrary ID\n",
    "server_path='/Users/newzysharma/Desktop/Desktop/info6105/INFO6105-FinalProject/HyperparametersDB/500'\n",
    "classification=False\n",
    "scale=False\n",
    "max_models=None\n",
    "balance_y=False # balance_classes=balance_y\n",
    "balance_threshold=0.2\n",
    "project =\"HyperparameterDB_Project\"  # project_name = project"
   ]
  },
  {
   "cell_type": "code",
   "execution_count": 12,
   "metadata": {},
   "outputs": [
    {
     "name": "stdout",
     "output_type": "stream",
     "text": [
      "cnt\n",
      "['instant', 'dteday', 'season', 'yr', 'mnth', 'hr', 'holiday', 'weekday', 'workingday', 'weathersit', 'temp', 'atemp', 'hum', 'windspeed', 'casual', 'registered']\n"
     ]
    }
   ],
   "source": [
    "# assign target and inputs for logistic regression\n",
    "y = target\n",
    "X = [name for name in hp.columns if name != y]\n",
    "print(y)\n",
    "print(X)"
   ]
  },
  {
   "cell_type": "code",
   "execution_count": 13,
   "metadata": {},
   "outputs": [
    {
     "name": "stdout",
     "output_type": "stream",
     "text": [
      "['instant', 'season', 'yr', 'mnth', 'hr', 'holiday', 'weekday', 'workingday', 'weathersit', 'casual', 'registered']\n",
      "[]\n",
      "['dteday', 'temp', 'atemp', 'hum', 'windspeed']\n"
     ]
    }
   ],
   "source": [
    "# determine column types\n",
    "ints, reals, enums = [], [], []\n",
    "for key, val in hp.types.items():\n",
    "    if key in X:\n",
    "        if val == 'enum':\n",
    "            enums.append(key)\n",
    "        elif val == 'int':\n",
    "            ints.append(key)            \n",
    "        else: \n",
    "            reals.append(key)\n",
    "\n",
    "print(ints)\n",
    "print(enums)\n",
    "print(reals)"
   ]
  },
  {
   "cell_type": "code",
   "execution_count": 14,
   "metadata": {},
   "outputs": [],
   "source": [
    "# impute missing values\n",
    "_ = hp[reals].impute(method='mean')\n",
    "_ = hp[ints].impute(method='median')\n",
    "\n",
    "if scale:\n",
    "    hp[reals] = df[reals].scale()\n",
    "    hp[ints] = df[ints].scale()"
   ]
  },
  {
   "cell_type": "code",
   "execution_count": 15,
   "metadata": {},
   "outputs": [],
   "source": [
    "# # set target to factor for classification by default or if user specifies classification\n",
    "# if classification:\n",
    "#     [y] = hp[y].asfactor()"
   ]
  },
  {
   "cell_type": "code",
   "execution_count": 16,
   "metadata": {},
   "outputs": [
    {
     "data": {
      "text/plain": [
       "[]"
      ]
     },
     "execution_count": 16,
     "metadata": {},
     "output_type": "execute_result"
    }
   ],
   "source": [
    "hp[y].levels()"
   ]
  },
  {
   "cell_type": "markdown",
   "metadata": {},
   "source": [
    "\n",
    "## Cross-validate rather than take a test training split with 500 seconds"
   ]
  },
  {
   "cell_type": "code",
   "execution_count": 17,
   "metadata": {},
   "outputs": [
    {
     "name": "stdout",
     "output_type": "stream",
     "text": [
      "AutoML progress: |████████████████████████████████████████████████████████| 100%\n"
     ]
    }
   ],
   "source": [
    "# automl\n",
    "# runs for run_time seconds then builds a stacked ensemble\n",
    "\n",
    "aml = H2OAutoML(max_runtime_secs=run_time,project_name = project) # init automl, run for 500 seconds\n",
    "aml.train(x=X,  \n",
    "           y=y,\n",
    "           training_frame=hp)"
   ]
  },
  {
   "cell_type": "markdown",
   "metadata": {},
   "source": [
    "## Leaderboard"
   ]
  },
  {
   "cell_type": "code",
   "execution_count": 18,
   "metadata": {},
   "outputs": [
    {
     "data": {
      "text/html": [
       "<table>\n",
       "<thead>\n",
       "<tr><th>model_id                                           </th><th style=\"text-align: right;\">  mean_residual_deviance</th><th style=\"text-align: right;\">    rmse</th><th style=\"text-align: right;\">      mse</th><th style=\"text-align: right;\">     mae</th><th style=\"text-align: right;\">      rmsle</th></tr>\n",
       "</thead>\n",
       "<tbody>\n",
       "<tr><td>XGBoost_1_AutoML_20190417_141543                   </td><td style=\"text-align: right;\">                 20.836 </td><td style=\"text-align: right;\"> 4.56465</td><td style=\"text-align: right;\">  20.836 </td><td style=\"text-align: right;\"> 2.76727</td><td style=\"text-align: right;\">  0.0559362</td></tr>\n",
       "<tr><td>XGBoost_3_AutoML_20190417_141543                   </td><td style=\"text-align: right;\">                 21.7471</td><td style=\"text-align: right;\"> 4.66338</td><td style=\"text-align: right;\">  21.7471</td><td style=\"text-align: right;\"> 3.07955</td><td style=\"text-align: right;\">  0.0911628</td></tr>\n",
       "<tr><td>GBM_1_AutoML_20190417_141543                       </td><td style=\"text-align: right;\">                 26.9473</td><td style=\"text-align: right;\"> 5.19108</td><td style=\"text-align: right;\">  26.9473</td><td style=\"text-align: right;\"> 3.26028</td><td style=\"text-align: right;\">  0.0735548</td></tr>\n",
       "<tr><td>XGBoost_2_AutoML_20190417_141543                   </td><td style=\"text-align: right;\">                 34.1898</td><td style=\"text-align: right;\"> 5.84721</td><td style=\"text-align: right;\">  34.1898</td><td style=\"text-align: right;\"> 3.41192</td><td style=\"text-align: right;\">  0.0725628</td></tr>\n",
       "<tr><td>GLM_grid_1_AutoML_20190417_141543_model_1          </td><td style=\"text-align: right;\">                 38.387 </td><td style=\"text-align: right;\"> 6.19573</td><td style=\"text-align: right;\">  38.387 </td><td style=\"text-align: right;\"> 4.45197</td><td style=\"text-align: right;\">nan        </td></tr>\n",
       "<tr><td>DRF_1_AutoML_20190417_141543                       </td><td style=\"text-align: right;\">                 61.2881</td><td style=\"text-align: right;\"> 7.82867</td><td style=\"text-align: right;\">  61.2881</td><td style=\"text-align: right;\"> 4.36407</td><td style=\"text-align: right;\">  0.0801306</td></tr>\n",
       "<tr><td>StackedEnsemble_AllModels_AutoML_20190417_141543   </td><td style=\"text-align: right;\">                 65.6652</td><td style=\"text-align: right;\"> 8.10341</td><td style=\"text-align: right;\">  65.6652</td><td style=\"text-align: right;\"> 5.71673</td><td style=\"text-align: right;\">nan        </td></tr>\n",
       "<tr><td>StackedEnsemble_BestOfFamily_AutoML_20190417_141543</td><td style=\"text-align: right;\">                111.489 </td><td style=\"text-align: right;\">10.5588 </td><td style=\"text-align: right;\"> 111.489 </td><td style=\"text-align: right;\"> 7.89211</td><td style=\"text-align: right;\">  0.382145 </td></tr>\n",
       "<tr><td>GBM_2_AutoML_20190417_141543                       </td><td style=\"text-align: right;\">               3124.34  </td><td style=\"text-align: right;\">55.8958 </td><td style=\"text-align: right;\">3124.34  </td><td style=\"text-align: right;\">39.6476 </td><td style=\"text-align: right;\">  0.896506 </td></tr>\n",
       "</tbody>\n",
       "</table>"
      ]
     },
     "metadata": {},
     "output_type": "display_data"
    },
    {
     "data": {
      "text/plain": []
     },
     "execution_count": 18,
     "metadata": {},
     "output_type": "execute_result"
    }
   ],
   "source": [
    "# view leaderboard\n",
    "lb = aml.leaderboard\n",
    "lb.head()"
   ]
  },
  {
   "cell_type": "code",
   "execution_count": 19,
   "metadata": {
    "scrolled": true
   },
   "outputs": [
    {
     "name": "stdout",
     "output_type": "stream",
     "text": [
      "Model Details\n",
      "=============\n",
      "H2OXGBoostEstimator :  XGBoost\n",
      "Model Key:  XGBoost_1_AutoML_20190417_141543\n",
      "\n",
      "\n",
      "ModelMetricsRegression: xgboost\n",
      "** Reported on train data. **\n",
      "\n",
      "MSE: 1.4326776184714103\n",
      "RMSE: 1.1969451192395624\n",
      "MAE: 0.8309335654566193\n",
      "RMSLE: 0.020809386114201345\n",
      "Mean Residual Deviance: 1.4326776184714103\n",
      "\n",
      "ModelMetricsRegression: xgboost\n",
      "** Reported on cross-validation data. **\n",
      "\n",
      "MSE: 20.83599849530585\n",
      "RMSE: 4.56464659040608\n",
      "MAE: 2.7672702805724585\n",
      "RMSLE: 0.055936167243912635\n",
      "Mean Residual Deviance: 20.83599849530585\n",
      "Cross-Validation Metrics Summary: \n"
     ]
    },
    {
     "data": {
      "text/html": [
       "<div style=\"overflow:auto\"><table style=\"width:50%\"><tr><td><b></b></td>\n",
       "<td><b>mean</b></td>\n",
       "<td><b>sd</b></td>\n",
       "<td><b>cv_1_valid</b></td>\n",
       "<td><b>cv_2_valid</b></td>\n",
       "<td><b>cv_3_valid</b></td>\n",
       "<td><b>cv_4_valid</b></td>\n",
       "<td><b>cv_5_valid</b></td></tr>\n",
       "<tr><td>mae</td>\n",
       "<td>2.7672753</td>\n",
       "<td>0.0532250</td>\n",
       "<td>2.628191</td>\n",
       "<td>2.775974</td>\n",
       "<td>2.7770326</td>\n",
       "<td>2.7998576</td>\n",
       "<td>2.8553214</td></tr>\n",
       "<tr><td>mean_residual_deviance</td>\n",
       "<td>20.836102</td>\n",
       "<td>1.5239158</td>\n",
       "<td>17.106339</td>\n",
       "<td>19.807367</td>\n",
       "<td>21.755531</td>\n",
       "<td>22.89566</td>\n",
       "<td>22.615606</td></tr>\n",
       "<tr><td>mse</td>\n",
       "<td>20.836102</td>\n",
       "<td>1.5239158</td>\n",
       "<td>17.106339</td>\n",
       "<td>19.807367</td>\n",
       "<td>21.755531</td>\n",
       "<td>22.89566</td>\n",
       "<td>22.615606</td></tr>\n",
       "<tr><td>r2</td>\n",
       "<td>0.9993665</td>\n",
       "<td>0.0000473</td>\n",
       "<td>0.9994807</td>\n",
       "<td>0.9994026</td>\n",
       "<td>0.999335</td>\n",
       "<td>0.9993054</td>\n",
       "<td>0.9993089</td></tr>\n",
       "<tr><td>residual_deviance</td>\n",
       "<td>20.836102</td>\n",
       "<td>1.5239158</td>\n",
       "<td>17.106339</td>\n",
       "<td>19.807367</td>\n",
       "<td>21.755531</td>\n",
       "<td>22.89566</td>\n",
       "<td>22.615606</td></tr>\n",
       "<tr><td>rmse</td>\n",
       "<td>4.5582676</td>\n",
       "<td>0.1707292</td>\n",
       "<td>4.135981</td>\n",
       "<td>4.4505467</td>\n",
       "<td>4.6642823</td>\n",
       "<td>4.784941</td>\n",
       "<td>4.7555866</td></tr>\n",
       "<tr><td>rmsle</td>\n",
       "<td>0.0558277</td>\n",
       "<td>0.0024628</td>\n",
       "<td>0.0562938</td>\n",
       "<td>0.0572713</td>\n",
       "<td>0.0490943</td>\n",
       "<td>0.0590697</td>\n",
       "<td>0.0574094</td></tr></table></div>"
      ],
      "text/plain": [
       "                        mean       sd           cv_1_valid    cv_2_valid    cv_3_valid    cv_4_valid    cv_5_valid\n",
       "----------------------  ---------  -----------  ------------  ------------  ------------  ------------  ------------\n",
       "mae                     2.76728    0.053225     2.62819       2.77597       2.77703       2.79986       2.85532\n",
       "mean_residual_deviance  20.8361    1.52392      17.1063       19.8074       21.7555       22.8957       22.6156\n",
       "mse                     20.8361    1.52392      17.1063       19.8074       21.7555       22.8957       22.6156\n",
       "r2                      0.999367   4.73227e-05  0.999481      0.999403      0.999335      0.999305      0.999309\n",
       "residual_deviance       20.8361    1.52392      17.1063       19.8074       21.7555       22.8957       22.6156\n",
       "rmse                    4.55827    0.170729     4.13598       4.45055       4.66428       4.78494       4.75559\n",
       "rmsle                   0.0558277  0.00246276   0.0562938     0.0572713     0.0490943     0.0590697     0.0574094"
      ]
     },
     "metadata": {},
     "output_type": "display_data"
    },
    {
     "name": "stdout",
     "output_type": "stream",
     "text": [
      "Scoring History: \n"
     ]
    },
    {
     "data": {
      "text/html": [
       "<div style=\"overflow:auto\"><table style=\"width:50%\"><tr><td><b></b></td>\n",
       "<td><b>timestamp</b></td>\n",
       "<td><b>duration</b></td>\n",
       "<td><b>number_of_trees</b></td>\n",
       "<td><b>training_rmse</b></td>\n",
       "<td><b>training_mae</b></td>\n",
       "<td><b>training_deviance</b></td></tr>\n",
       "<tr><td></td>\n",
       "<td>2019-04-17 14:20:01</td>\n",
       "<td> 4 min 18.231 sec</td>\n",
       "<td>0.0</td>\n",
       "<td>261.9286476</td>\n",
       "<td>188.9630876</td>\n",
       "<td>68606.6164192</td></tr>\n",
       "<tr><td></td>\n",
       "<td>2019-04-17 14:20:01</td>\n",
       "<td> 4 min 18.367 sec</td>\n",
       "<td>5.0</td>\n",
       "<td>203.5481229</td>\n",
       "<td>146.4994800</td>\n",
       "<td>41431.8383331</td></tr>\n",
       "<tr><td></td>\n",
       "<td>2019-04-17 14:20:01</td>\n",
       "<td> 4 min 18.465 sec</td>\n",
       "<td>10.0</td>\n",
       "<td>158.4862240</td>\n",
       "<td>113.6445494</td>\n",
       "<td>25117.8831919</td></tr>\n",
       "<tr><td></td>\n",
       "<td>2019-04-17 14:20:01</td>\n",
       "<td> 4 min 18.566 sec</td>\n",
       "<td>15.0</td>\n",
       "<td>123.8277791</td>\n",
       "<td>88.1928762</td>\n",
       "<td>15333.3188879</td></tr>\n",
       "<tr><td></td>\n",
       "<td>2019-04-17 14:20:02</td>\n",
       "<td> 4 min 18.670 sec</td>\n",
       "<td>20.0</td>\n",
       "<td>96.5556989</td>\n",
       "<td>68.4392085</td>\n",
       "<td>9323.0029909</td></tr>\n",
       "<tr><td>---</td>\n",
       "<td>---</td>\n",
       "<td>---</td>\n",
       "<td>---</td>\n",
       "<td>---</td>\n",
       "<td>---</td>\n",
       "<td>---</td></tr>\n",
       "<tr><td></td>\n",
       "<td>2019-04-17 14:20:39</td>\n",
       "<td> 4 min 55.807 sec</td>\n",
       "<td>380.0</td>\n",
       "<td>1.2372287</td>\n",
       "<td>0.8556211</td>\n",
       "<td>1.5307348</td></tr>\n",
       "<tr><td></td>\n",
       "<td>2019-04-17 14:20:40</td>\n",
       "<td> 4 min 56.675 sec</td>\n",
       "<td>385.0</td>\n",
       "<td>1.2256590</td>\n",
       "<td>0.8484709</td>\n",
       "<td>1.5022400</td></tr>\n",
       "<tr><td></td>\n",
       "<td>2019-04-17 14:20:40</td>\n",
       "<td> 4 min 57.566 sec</td>\n",
       "<td>390.0</td>\n",
       "<td>1.2129220</td>\n",
       "<td>0.8407993</td>\n",
       "<td>1.4711798</td></tr>\n",
       "<tr><td></td>\n",
       "<td>2019-04-17 14:20:41</td>\n",
       "<td> 4 min 58.535 sec</td>\n",
       "<td>395.0</td>\n",
       "<td>1.2030373</td>\n",
       "<td>0.8347274</td>\n",
       "<td>1.4472986</td></tr>\n",
       "<tr><td></td>\n",
       "<td>2019-04-17 14:20:42</td>\n",
       "<td> 4 min 59.405 sec</td>\n",
       "<td>398.0</td>\n",
       "<td>1.1969451</td>\n",
       "<td>0.8309336</td>\n",
       "<td>1.4326776</td></tr></table></div>"
      ],
      "text/plain": [
       "     timestamp            duration          number_of_trees    training_rmse       training_mae        training_deviance\n",
       "---  -------------------  ----------------  -----------------  ------------------  ------------------  -------------------\n",
       "     2019-04-17 14:20:01  4 min 18.231 sec  0.0                261.9286475726579   188.96308763450142  68606.61641924162\n",
       "     2019-04-17 14:20:01  4 min 18.367 sec  5.0                203.5481228925533   146.49948002475955  41431.83833308198\n",
       "     2019-04-17 14:20:01  4 min 18.465 sec  10.0               158.48622398140753  113.64454936013341  25117.88319188488\n",
       "     2019-04-17 14:20:01  4 min 18.566 sec  15.0               123.82777914447165  88.19287616067298   15333.318887852049\n",
       "     2019-04-17 14:20:02  4 min 18.670 sec  20.0               96.55569890439155   68.43920854556629   9323.00299091552\n",
       "---  ---                  ---               ---                ---                 ---                 ---\n",
       "     2019-04-17 14:20:39  4 min 55.807 sec  380.0              1.237228672849296   0.855621083241021   1.5307347889204304\n",
       "     2019-04-17 14:20:40  4 min 56.675 sec  385.0              1.2256589952744579  0.8484708714782866  1.5022399726971936\n",
       "     2019-04-17 14:20:40  4 min 57.566 sec  390.0              1.212922012082484   0.8407992781069441  1.4711798073942213\n",
       "     2019-04-17 14:20:41  4 min 58.535 sec  395.0              1.203037253634059   0.8347273528030575  1.4472986336313793\n",
       "     2019-04-17 14:20:42  4 min 59.405 sec  398.0              1.1969451192395624  0.8309335654566193  1.4326776184714103"
      ]
     },
     "metadata": {},
     "output_type": "display_data"
    },
    {
     "name": "stdout",
     "output_type": "stream",
     "text": [
      "\n",
      "See the whole table with table.as_data_frame()\n",
      "Variable Importances: \n"
     ]
    },
    {
     "data": {
      "text/html": [
       "<div style=\"overflow:auto\"><table style=\"width:50%\"><tr><td><b>variable</b></td>\n",
       "<td><b>relative_importance</b></td>\n",
       "<td><b>scaled_importance</b></td>\n",
       "<td><b>percentage</b></td></tr>\n",
       "<tr><td>registered</td>\n",
       "<td>2585197824.0000000</td>\n",
       "<td>1.0</td>\n",
       "<td>0.7403071</td></tr>\n",
       "<tr><td>casual</td>\n",
       "<td>535572896.0000000</td>\n",
       "<td>0.2071690</td>\n",
       "<td>0.1533687</td></tr>\n",
       "<tr><td>hr</td>\n",
       "<td>230089488.0000000</td>\n",
       "<td>0.0890027</td>\n",
       "<td>0.0658893</td></tr>\n",
       "<tr><td>workingday</td>\n",
       "<td>39991820.0000000</td>\n",
       "<td>0.0154695</td>\n",
       "<td>0.0114522</td></tr>\n",
       "<tr><td>instant</td>\n",
       "<td>35030364.0000000</td>\n",
       "<td>0.0135504</td>\n",
       "<td>0.0100314</td></tr>\n",
       "<tr><td>dteday</td>\n",
       "<td>29959240.0000000</td>\n",
       "<td>0.0115888</td>\n",
       "<td>0.0085792</td></tr>\n",
       "<tr><td>atemp</td>\n",
       "<td>12163877.0000000</td>\n",
       "<td>0.0047052</td>\n",
       "<td>0.0034833</td></tr>\n",
       "<tr><td>temp</td>\n",
       "<td>9519879.0</td>\n",
       "<td>0.0036825</td>\n",
       "<td>0.0027261</td></tr>\n",
       "<tr><td>weekday</td>\n",
       "<td>9429757.0</td>\n",
       "<td>0.0036476</td>\n",
       "<td>0.0027003</td></tr>\n",
       "<tr><td>hum</td>\n",
       "<td>2408066.2500000</td>\n",
       "<td>0.0009315</td>\n",
       "<td>0.0006896</td></tr>\n",
       "<tr><td>weathersit</td>\n",
       "<td>1891256.6250000</td>\n",
       "<td>0.0007316</td>\n",
       "<td>0.0005416</td></tr>\n",
       "<tr><td>season</td>\n",
       "<td>248054.8281250</td>\n",
       "<td>0.0000960</td>\n",
       "<td>0.0000710</td></tr>\n",
       "<tr><td>windspeed</td>\n",
       "<td>215753.5468750</td>\n",
       "<td>0.0000835</td>\n",
       "<td>0.0000618</td></tr>\n",
       "<tr><td>yr</td>\n",
       "<td>181067.6718750</td>\n",
       "<td>0.0000700</td>\n",
       "<td>0.0000519</td></tr>\n",
       "<tr><td>mnth</td>\n",
       "<td>119180.2031250</td>\n",
       "<td>0.0000461</td>\n",
       "<td>0.0000341</td></tr>\n",
       "<tr><td>holiday</td>\n",
       "<td>42849.2304688</td>\n",
       "<td>0.0000166</td>\n",
       "<td>0.0000123</td></tr></table></div>"
      ],
      "text/plain": [
       "variable    relative_importance    scaled_importance    percentage\n",
       "----------  ---------------------  -------------------  ------------\n",
       "registered  2.5852e+09             1                    0.740307\n",
       "casual      5.35573e+08            0.207169             0.153369\n",
       "hr          2.30089e+08            0.0890027            0.0658893\n",
       "workingday  3.99918e+07            0.0154695            0.0114522\n",
       "instant     3.50304e+07            0.0135504            0.0100314\n",
       "dteday      2.99592e+07            0.0115888            0.00857924\n",
       "atemp       1.21639e+07            0.0047052            0.00348329\n",
       "temp        9.51988e+06            0.00368246           0.00272615\n",
       "weekday     9.42976e+06            0.0036476            0.00270034\n",
       "hum         2.40807e+06            0.000931482          0.000689583\n",
       "weathersit  1.89126e+06            0.000731571          0.000541587\n",
       "season      248055                 9.5952e-05           7.10339e-05\n",
       "windspeed   215754                 8.34573e-05          6.1784e-05\n",
       "yr          181068                 7.00402e-05          5.18512e-05\n",
       "mnth        119180                 4.6101e-05           3.41289e-05\n",
       "holiday     42849.2                1.65748e-05          1.22705e-05"
      ]
     },
     "metadata": {},
     "output_type": "display_data"
    },
    {
     "data": {
      "text/plain": []
     },
     "execution_count": 19,
     "metadata": {},
     "output_type": "execute_result"
    }
   ],
   "source": [
    "aml.leader"
   ]
  },
  {
   "cell_type": "code",
   "execution_count": 20,
   "metadata": {},
   "outputs": [
    {
     "data": {
      "text/plain": [
       "'xgboost'"
      ]
     },
     "execution_count": 20,
     "metadata": {},
     "output_type": "execute_result"
    }
   ],
   "source": [
    "aml.leader.algo"
   ]
  },
  {
   "cell_type": "markdown",
   "metadata": {},
   "source": [
    "## Ensemble Exploration"
   ]
  },
  {
   "cell_type": "code",
   "execution_count": 21,
   "metadata": {},
   "outputs": [
    {
     "data": {
      "text/html": [
       "<div>\n",
       "<style scoped>\n",
       "    .dataframe tbody tr th:only-of-type {\n",
       "        vertical-align: middle;\n",
       "    }\n",
       "\n",
       "    .dataframe tbody tr th {\n",
       "        vertical-align: top;\n",
       "    }\n",
       "\n",
       "    .dataframe thead th {\n",
       "        text-align: right;\n",
       "    }\n",
       "</style>\n",
       "<table border=\"1\" class=\"dataframe\">\n",
       "  <thead>\n",
       "    <tr style=\"text-align: right;\">\n",
       "      <th></th>\n",
       "      <th>model_id</th>\n",
       "      <th>mean_residual_deviance</th>\n",
       "      <th>rmse</th>\n",
       "      <th>mse</th>\n",
       "      <th>mae</th>\n",
       "      <th>rmsle</th>\n",
       "    </tr>\n",
       "  </thead>\n",
       "  <tbody>\n",
       "    <tr>\n",
       "      <th>0</th>\n",
       "      <td>XGBoost_1_AutoML_20190417_141543</td>\n",
       "      <td>20.835998</td>\n",
       "      <td>4.564647</td>\n",
       "      <td>20.835998</td>\n",
       "      <td>2.767270</td>\n",
       "      <td>0.055936</td>\n",
       "    </tr>\n",
       "    <tr>\n",
       "      <th>1</th>\n",
       "      <td>XGBoost_3_AutoML_20190417_141543</td>\n",
       "      <td>21.747068</td>\n",
       "      <td>4.663375</td>\n",
       "      <td>21.747068</td>\n",
       "      <td>3.079545</td>\n",
       "      <td>0.091163</td>\n",
       "    </tr>\n",
       "    <tr>\n",
       "      <th>2</th>\n",
       "      <td>GBM_1_AutoML_20190417_141543</td>\n",
       "      <td>26.947297</td>\n",
       "      <td>5.191079</td>\n",
       "      <td>26.947297</td>\n",
       "      <td>3.260282</td>\n",
       "      <td>0.073555</td>\n",
       "    </tr>\n",
       "    <tr>\n",
       "      <th>3</th>\n",
       "      <td>XGBoost_2_AutoML_20190417_141543</td>\n",
       "      <td>34.189808</td>\n",
       "      <td>5.847205</td>\n",
       "      <td>34.189808</td>\n",
       "      <td>3.411921</td>\n",
       "      <td>0.072563</td>\n",
       "    </tr>\n",
       "    <tr>\n",
       "      <th>4</th>\n",
       "      <td>GLM_grid_1_AutoML_20190417_141543_model_1</td>\n",
       "      <td>38.387049</td>\n",
       "      <td>6.195728</td>\n",
       "      <td>38.387049</td>\n",
       "      <td>4.451969</td>\n",
       "      <td>NaN</td>\n",
       "    </tr>\n",
       "    <tr>\n",
       "      <th>5</th>\n",
       "      <td>DRF_1_AutoML_20190417_141543</td>\n",
       "      <td>61.288108</td>\n",
       "      <td>7.828672</td>\n",
       "      <td>61.288108</td>\n",
       "      <td>4.364072</td>\n",
       "      <td>0.080131</td>\n",
       "    </tr>\n",
       "    <tr>\n",
       "      <th>6</th>\n",
       "      <td>StackedEnsemble_AllModels_AutoML_20190417_141543</td>\n",
       "      <td>65.665224</td>\n",
       "      <td>8.103408</td>\n",
       "      <td>65.665224</td>\n",
       "      <td>5.716734</td>\n",
       "      <td>NaN</td>\n",
       "    </tr>\n",
       "    <tr>\n",
       "      <th>7</th>\n",
       "      <td>StackedEnsemble_BestOfFamily_AutoML_20190417_1...</td>\n",
       "      <td>111.488617</td>\n",
       "      <td>10.558817</td>\n",
       "      <td>111.488617</td>\n",
       "      <td>7.892115</td>\n",
       "      <td>0.382145</td>\n",
       "    </tr>\n",
       "    <tr>\n",
       "      <th>8</th>\n",
       "      <td>GBM_2_AutoML_20190417_141543</td>\n",
       "      <td>3124.342041</td>\n",
       "      <td>55.895814</td>\n",
       "      <td>3124.342041</td>\n",
       "      <td>39.647593</td>\n",
       "      <td>0.896506</td>\n",
       "    </tr>\n",
       "  </tbody>\n",
       "</table>\n",
       "</div>"
      ],
      "text/plain": [
       "                                            model_id  mean_residual_deviance  \\\n",
       "0                   XGBoost_1_AutoML_20190417_141543               20.835998   \n",
       "1                   XGBoost_3_AutoML_20190417_141543               21.747068   \n",
       "2                       GBM_1_AutoML_20190417_141543               26.947297   \n",
       "3                   XGBoost_2_AutoML_20190417_141543               34.189808   \n",
       "4          GLM_grid_1_AutoML_20190417_141543_model_1               38.387049   \n",
       "5                       DRF_1_AutoML_20190417_141543               61.288108   \n",
       "6   StackedEnsemble_AllModels_AutoML_20190417_141543               65.665224   \n",
       "7  StackedEnsemble_BestOfFamily_AutoML_20190417_1...              111.488617   \n",
       "8                       GBM_2_AutoML_20190417_141543             3124.342041   \n",
       "\n",
       "        rmse          mse        mae     rmsle  \n",
       "0   4.564647    20.835998   2.767270  0.055936  \n",
       "1   4.663375    21.747068   3.079545  0.091163  \n",
       "2   5.191079    26.947297   3.260282  0.073555  \n",
       "3   5.847205    34.189808   3.411921  0.072563  \n",
       "4   6.195728    38.387049   4.451969       NaN  \n",
       "5   7.828672    61.288108   4.364072  0.080131  \n",
       "6   8.103408    65.665224   5.716734       NaN  \n",
       "7  10.558817   111.488617   7.892115  0.382145  \n",
       "8  55.895814  3124.342041  39.647593  0.896506  "
      ]
     },
     "execution_count": 21,
     "metadata": {},
     "output_type": "execute_result"
    }
   ],
   "source": [
    "aml_leaderboard_df=aml.leaderboard.as_data_frame()\n",
    "aml_leaderboard_df"
   ]
  },
  {
   "cell_type": "markdown",
   "metadata": {},
   "source": [
    "## Generating JSON file for all the models through FOR loop"
   ]
  },
  {
   "cell_type": "code",
   "execution_count": 23,
   "metadata": {},
   "outputs": [],
   "source": [
    "aml_leaderboard_df=aml.leaderboard.as_data_frame()\n",
    "model_set=aml_leaderboard_df['model_id']\n",
    "mod_best=h2o.get_model(model_set[0])"
   ]
  },
  {
   "cell_type": "code",
   "execution_count": 25,
   "metadata": {},
   "outputs": [
    {
     "data": {
      "text/plain": [
       "(9, 6)"
      ]
     },
     "execution_count": 25,
     "metadata": {},
     "output_type": "execute_result"
    }
   ],
   "source": [
    "aml_leaderboard_df.shape"
   ]
  },
  {
   "cell_type": "code",
   "execution_count": 26,
   "metadata": {},
   "outputs": [
    {
     "data": {
      "text/plain": [
       "(9,)"
      ]
     },
     "execution_count": 26,
     "metadata": {},
     "output_type": "execute_result"
    }
   ],
   "source": [
    "model_set.shape"
   ]
  },
  {
   "cell_type": "code",
   "execution_count": 24,
   "metadata": {},
   "outputs": [],
   "source": [
    "##iterating over number of rows(all model_id)\n",
    "for i in range(model_set.shape[0]):\n",
    "    mod_best = h2o.get_model(model_set[i])\n",
    "    hy_parameter = mod_best.params\n",
    "    n = run_id + '_' + model_set[i] + '.json'\n",
    "    dict_to_json(hy_parameter, n)"
   ]
  },
  {
   "cell_type": "markdown",
   "metadata": {},
   "source": [
    "# CONCLUSION\n",
    "\n",
    "<table style=\"width:50%\">\n",
    "  <tr>\n",
    "      <th>Runtime of model in Number of Seconds<br></th>\n",
    "    <th>Models Generated</th> \n",
    "  </tr>\n",
    "    \n",
    "   <tr>\n",
    "    <td>500</td>\n",
    "    <td>7</td> \n",
    "  </tr>\n",
    "    \n",
    "  <tr>\n",
    "    <td>1000</td>\n",
    "    <td>13</td> \n",
    "  </tr>\n",
    "  \n",
    "  <tr>\n",
    "    <td>1350</td>\n",
    "    <td>33</td> \n",
    "  </tr>\n",
    "  \n",
    "   <tr>\n",
    "    <td>1500</td>\n",
    "    <td>56</td> \n",
    "  </tr>\n",
    "  \n",
    "   <tr>\n",
    "    <td>1850</td>\n",
    "    <td>84<td> \n",
    "  </tr>\n",
    "    \n",
    "</table>"
   ]
  },
  {
   "cell_type": "markdown",
   "metadata": {},
   "source": [
    "# CONTRIBUTION"
   ]
  },
  {
   "cell_type": "markdown",
   "metadata": {},
   "source": [
    "# CITATIONS\n",
    "\n",
    "https://github.com/nikbearbrown/CSYE_7245/blob/master/H2O/H2O_automl_model.ipynb"
   ]
  },
  {
   "cell_type": "markdown",
   "metadata": {},
   "source": [
    "# LICENSE\n",
    "\n",
    "\n",
    "Copyright 2019 Newzy Sharma \n",
    "\n",
    "Permission is hereby granted, free of charge, to any person obtaining a copy of this software and associated \n",
    "documentation files (the \"Software\"), to deal in the Software without restriction, including without limitation the \n",
    "rights to use, copy, modify, merge, publish, distribute, sublicense, and/or sell copies of the Software, and to permit\n",
    "persons to whom the Software is furnished to do so, subject to the following conditions:\n",
    "\n",
    "The above copyright notice and this permission notice shall be included in all copies or substantial portions of the \n",
    "Software.\n",
    "\n",
    "THE SOFTWARE IS PROVIDED \"AS IS\", WITHOUT WARRANTY OF ANY KIND, EXPRESS OR IMPLIED, INCLUDING BUT NOT LIMITED TO THE \n",
    "WARRANTIES OF MERCHANTABILITY, FITNESS FOR A PARTICULAR PURPOSE AND NONINFRINGEMENT. IN NO EVENT SHALL THE AUTHORS OR \n",
    "COPYRIGHT HOLDERS BE LIABLE FOR ANY CLAIM, DAMAGES OR OTHER LIABILITY, WHETHER IN AN ACTION OF CONTRACT, TORT OR \n",
    "OTHERWISE, ARISING FROM, OUT OF OR IN CONNECTION WITH THE SOFTWARE OR THE USE OR OTHER DEALINGS IN THE SOFTWARE."
   ]
  },
  {
   "cell_type": "code",
   "execution_count": null,
   "metadata": {},
   "outputs": [],
   "source": []
  }
 ],
 "metadata": {
  "kernelspec": {
   "display_name": "Python 3",
   "language": "python",
   "name": "python3"
  },
  "language_info": {
   "codemirror_mode": {
    "name": "ipython",
    "version": 3
   },
   "file_extension": ".py",
   "mimetype": "text/x-python",
   "name": "python",
   "nbconvert_exporter": "python",
   "pygments_lexer": "ipython3",
   "version": "3.7.1"
  }
 },
 "nbformat": 4,
 "nbformat_minor": 2
}
